{
 "cells": [
  {
   "cell_type": "markdown",
   "metadata": {},
   "source": [
    "## Load rs-fMRI dataset"
   ]
  },
  {
   "cell_type": "code",
   "execution_count": 7,
   "metadata": {},
   "outputs": [
    {
     "name": "stdout",
     "output_type": "stream",
     "text": [
      "\n",
      "Dataset created in ../Original_Data/development_fmri\n",
      "\n",
      "\n",
      "Dataset created in ../Original_Data/development_fmri/development_fmri\n",
      "\n",
      "Downloading data from https://osf.io/yr3av/download ...\n"
     ]
    },
    {
     "name": "stderr",
     "output_type": "stream",
     "text": [
      "\r",
      "Downloaded 16041 of 16041 bytes (100.0%,    0.0s remaining) ...done. (2 seconds, 0 min)\n"
     ]
    },
    {
     "name": "stdout",
     "output_type": "stream",
     "text": [
      "Downloading data from https://osf.io/download/5c8ff3df4712b400183b7092/ ...\n"
     ]
    },
    {
     "name": "stderr",
     "output_type": "stream",
     "text": [
      "\r",
      "Downloaded 68285 of 68285 bytes (100.0%,    0.0s remaining) ...done. (1 seconds, 0 min)\n"
     ]
    },
    {
     "name": "stdout",
     "output_type": "stream",
     "text": [
      "Downloading data from https://osf.io/download/5c8ff3e04712b400193b5bdf/ ...\n"
     ]
    },
    {
     "name": "stderr",
     "output_type": "stream",
     "text": [
      "\r",
      "Downloaded 5152768 of 5642698 bytes (91.3%,    0.1s remaining)\r",
      "Downloaded 5642698 of 5642698 bytes (100.0%,    0.0s remaining) ...done. (2 seconds, 0 min)\n"
     ]
    },
    {
     "name": "stdout",
     "output_type": "stream",
     "text": [
      "Downloading data from https://osf.io/download/5c8ff3e14712b400183b7097/ ...\n"
     ]
    },
    {
     "name": "stderr",
     "output_type": "stream",
     "text": [
      "\r",
      "Downloaded 67851 of 67851 bytes (100.0%,    0.0s remaining) ...done. (2 seconds, 0 min)\n"
     ]
    },
    {
     "name": "stdout",
     "output_type": "stream",
     "text": [
      "Downloading data from https://osf.io/download/5c8ff3e32286e80018c3e42c/ ...\n"
     ]
    },
    {
     "name": "stderr",
     "output_type": "stream",
     "text": [
      "\r",
      "Downloaded 4931584 of 4946416 bytes (99.7%,    0.0s remaining)\r",
      "Downloaded 4946416 of 4946416 bytes (100.0%,    0.0s remaining) ...done. (2 seconds, 0 min)\n"
     ]
    },
    {
     "name": "stdout",
     "output_type": "stream",
     "text": [
      "Downloading data from https://osf.io/download/5c8ff3e4a743a9001760814f/ ...\n"
     ]
    },
    {
     "name": "stderr",
     "output_type": "stream",
     "text": [
      "\r",
      "Downloaded 69170 of 69170 bytes (100.0%,    0.0s remaining) ...done. (2 seconds, 0 min)\n"
     ]
    },
    {
     "name": "stdout",
     "output_type": "stream",
     "text": [
      "Downloading data from https://osf.io/download/5c8ff3e54712b400183b70a5/ ...\n"
     ]
    },
    {
     "name": "stderr",
     "output_type": "stream",
     "text": [
      "\r",
      "Downloaded 4833280 of 5875966 bytes (82.3%,    0.2s remaining)\r",
      "Downloaded 5875966 of 5875966 bytes (100.0%,    0.0s remaining) ...done. (2 seconds, 0 min)\n"
     ]
    },
    {
     "name": "stdout",
     "output_type": "stream",
     "text": [
      "Downloading data from https://osf.io/download/5c8ff3e52286e80018c3e439/ ...\n"
     ]
    },
    {
     "name": "stderr",
     "output_type": "stream",
     "text": [
      "\r",
      "Downloaded 68464 of 68464 bytes (100.0%,    0.0s remaining) ...done. (1 seconds, 0 min)\n"
     ]
    },
    {
     "name": "stdout",
     "output_type": "stream",
     "text": [
      "Downloading data from https://osf.io/download/5c8ff3e72286e80017c41b3d/ ...\n"
     ]
    },
    {
     "name": "stderr",
     "output_type": "stream",
     "text": [
      "\r",
      "Downloaded 5136384 of 5845425 bytes (87.9%,    0.1s remaining)\r",
      "Downloaded 5845425 of 5845425 bytes (100.0%,    0.0s remaining) ...done. (2 seconds, 0 min)\n"
     ]
    },
    {
     "name": "stdout",
     "output_type": "stream",
     "text": [
      "Downloading data from https://osf.io/download/5c8ff3e9a743a90017608158/ ...\n"
     ]
    },
    {
     "name": "stderr",
     "output_type": "stream",
     "text": [
      "\r",
      "Downloaded 68189 of 68189 bytes (100.0%,    0.0s remaining) ...done. (1 seconds, 0 min)\n"
     ]
    },
    {
     "name": "stdout",
     "output_type": "stream",
     "text": [
      "Downloading data from https://osf.io/download/5c8ff3e82286e80018c3e443/ ...\n"
     ]
    },
    {
     "name": "stderr",
     "output_type": "stream",
     "text": [
      "Downloaded 6522229 of 6522229 bytes (100.0%,    0.0s remaining) ...done. (3 seconds, 0 min)\n"
     ]
    },
    {
     "name": "stdout",
     "output_type": "stream",
     "text": [
      "Downloading data from https://osf.io/download/5c8ff3ea4712b400183b70b7/ ...\n"
     ]
    },
    {
     "name": "stderr",
     "output_type": "stream",
     "text": [
      "\r",
      "Downloaded 69463 of 69463 bytes (100.0%,    0.0s remaining) ...done. (2 seconds, 0 min)\n"
     ]
    },
    {
     "name": "stdout",
     "output_type": "stream",
     "text": [
      "Downloading data from https://osf.io/download/5c8ff3eb2286e80019c3c194/ ...\n"
     ]
    },
    {
     "name": "stderr",
     "output_type": "stream",
     "text": [
      "\r",
      "Downloaded 4915200 of 6139107 bytes (80.1%,    0.2s remaining)\r",
      "Downloaded 6139107 of 6139107 bytes (100.0%,    0.0s remaining) ...done. (3 seconds, 0 min)\n"
     ]
    },
    {
     "name": "stdout",
     "output_type": "stream",
     "text": [
      "Downloading data from https://osf.io/download/5c8ff3eb2286e80019c3c198/ ...\n"
     ]
    },
    {
     "name": "stderr",
     "output_type": "stream",
     "text": [
      "\r",
      "Downloaded 68010 of 68010 bytes (100.0%,    0.0s remaining) ...done. (1 seconds, 0 min)\n"
     ]
    },
    {
     "name": "stdout",
     "output_type": "stream",
     "text": [
      "Downloading data from https://osf.io/download/5c8ff3ed2286e80017c41b56/ ...\n"
     ]
    },
    {
     "name": "stderr",
     "output_type": "stream",
     "text": [
      "\r",
      "Downloaded 5054464 of 5919127 bytes (85.4%,    0.2s remaining)\r",
      "Downloaded 5919127 of 5919127 bytes (100.0%,    0.0s remaining) ...done. (3 seconds, 0 min)\n"
     ]
    },
    {
     "name": "stdout",
     "output_type": "stream",
     "text": [
      "Downloading data from https://osf.io/download/5c8ff3ee2286e80016c3c379/ ...\n"
     ]
    },
    {
     "name": "stderr",
     "output_type": "stream",
     "text": [
      "\r",
      "Downloaded 68464 of 68464 bytes (100.0%,    0.0s remaining) ...done. (2 seconds, 0 min)\n"
     ]
    },
    {
     "name": "stdout",
     "output_type": "stream",
     "text": [
      "Downloading data from https://osf.io/download/5c8ff3ee4712b400183b70c3/ ...\n"
     ]
    },
    {
     "name": "stderr",
     "output_type": "stream",
     "text": [
      "\r",
      "Downloaded 5021696 of 5642114 bytes (89.0%,    0.1s remaining)\r",
      "Downloaded 5642114 of 5642114 bytes (100.0%,    0.0s remaining) ...done. (2 seconds, 0 min)\n"
     ]
    },
    {
     "name": "stdout",
     "output_type": "stream",
     "text": [
      "Downloading data from https://osf.io/download/5c8ff3efa743a9001660a0d5/ ...\n"
     ]
    },
    {
     "name": "stderr",
     "output_type": "stream",
     "text": [
      "\r",
      "Downloaded 68144 of 68144 bytes (100.0%,    0.0s remaining) ...done. (1 seconds, 0 min)\n"
     ]
    },
    {
     "name": "stdout",
     "output_type": "stream",
     "text": [
      "Downloading data from https://osf.io/download/5c8ff3f14712b4001a3b560e/ ...\n"
     ]
    },
    {
     "name": "stderr",
     "output_type": "stream",
     "text": [
      "\r",
      "Downloaded 4841472 of 6081959 bytes (79.6%,    0.3s remaining)\r",
      "Downloaded 6081959 of 6081959 bytes (100.0%,    0.0s remaining) ...done. (3 seconds, 0 min)\n"
     ]
    },
    {
     "name": "stdout",
     "output_type": "stream",
     "text": [
      "Downloading data from https://osf.io/download/5c8ff3f1a743a90017608164/ ...\n"
     ]
    },
    {
     "name": "stderr",
     "output_type": "stream",
     "text": [
      "\r",
      "Downloaded 68573 of 68573 bytes (100.0%,    0.0s remaining) ...done. (2 seconds, 0 min)\n"
     ]
    },
    {
     "name": "stdout",
     "output_type": "stream",
     "text": [
      "Downloading data from https://osf.io/download/5c8ff3f12286e80016c3c37e/ ...\n"
     ]
    },
    {
     "name": "stderr",
     "output_type": "stream",
     "text": [
      "\r",
      "Downloaded 5267456 of 5880763 bytes (89.6%,    0.1s remaining)\r",
      "Downloaded 5880763 of 5880763 bytes (100.0%,    0.0s remaining) ...done. (2 seconds, 0 min)\n"
     ]
    },
    {
     "name": "stdout",
     "output_type": "stream",
     "text": [
      "Downloading data from https://osf.io/download/5c8ff3f34712b4001a3b5612/ ...\n"
     ]
    },
    {
     "name": "stderr",
     "output_type": "stream",
     "text": [
      "\r",
      "Downloaded 68920 of 68920 bytes (100.0%,    0.0s remaining) ...done. (1 seconds, 0 min)\n"
     ]
    },
    {
     "name": "stdout",
     "output_type": "stream",
     "text": [
      "Downloading data from https://osf.io/download/5c8ff3f7a743a90019606cdf/ ...\n"
     ]
    },
    {
     "name": "stderr",
     "output_type": "stream",
     "text": [
      "\r",
      "Downloaded 5218304 of 6432694 bytes (81.1%,    0.2s remaining)\r",
      "Downloaded 6432694 of 6432694 bytes (100.0%,    0.0s remaining) ...done. (2 seconds, 0 min)\n"
     ]
    },
    {
     "name": "stdout",
     "output_type": "stream",
     "text": [
      "Downloading data from https://osf.io/download/5c8ff3f6a743a90017608171/ ...\n"
     ]
    },
    {
     "name": "stderr",
     "output_type": "stream",
     "text": [
      "\r",
      "Downloaded 68804 of 68804 bytes (100.0%,    0.0s remaining) ...done. (2 seconds, 0 min)\n"
     ]
    },
    {
     "name": "stdout",
     "output_type": "stream",
     "text": [
      "Downloading data from https://osf.io/download/5c8ff3f64712b400183b70d8/ ...\n"
     ]
    },
    {
     "name": "stderr",
     "output_type": "stream",
     "text": [
      "\r",
      "Downloaded 4964352 of 5606383 bytes (88.5%,    0.1s remaining)\r",
      "Downloaded 5606383 of 5606383 bytes (100.0%,    0.0s remaining) ...done. (2 seconds, 0 min)\n"
     ]
    },
    {
     "name": "stdout",
     "output_type": "stream",
     "text": [
      "Downloading data from https://osf.io/download/5c8ff3f72286e80019c3c1af/ ...\n"
     ]
    },
    {
     "name": "stderr",
     "output_type": "stream",
     "text": [
      "\r",
      "Downloaded 68862 of 68862 bytes (100.0%,    0.0s remaining) ...done. (1 seconds, 0 min)\n"
     ]
    },
    {
     "name": "stdout",
     "output_type": "stream",
     "text": [
      "Downloading data from https://osf.io/download/5c8ff3f92286e80018c3e463/ ...\n"
     ]
    },
    {
     "name": "stderr",
     "output_type": "stream",
     "text": [
      "Downloaded 6274191 of 6274191 bytes (100.0%,    0.0s remaining) ...done. (2 seconds, 0 min)\n"
     ]
    },
    {
     "name": "stdout",
     "output_type": "stream",
     "text": [
      "Downloading data from https://osf.io/download/5c8ff4534712b400183b716d/ ...\n"
     ]
    },
    {
     "name": "stderr",
     "output_type": "stream",
     "text": [
      "\r",
      "Downloaded 68887 of 68887 bytes (100.0%,    0.0s remaining) ...done. (1 seconds, 0 min)\n"
     ]
    },
    {
     "name": "stdout",
     "output_type": "stream",
     "text": [
      "Downloading data from https://osf.io/download/5c8ff3fb2286e80017c41b72/ ...\n"
     ]
    },
    {
     "name": "stderr",
     "output_type": "stream",
     "text": [
      "\r",
      "Downloaded 5226496 of 5784982 bytes (90.3%,    0.1s remaining)\r",
      "Downloaded 5784982 of 5784982 bytes (100.0%,    0.0s remaining) ...done. (2 seconds, 0 min)\n"
     ]
    },
    {
     "name": "stdout",
     "output_type": "stream",
     "text": [
      "Downloading data from https://osf.io/download/5c8ff3fb2286e80019c3c1b3/ ...\n"
     ]
    },
    {
     "name": "stderr",
     "output_type": "stream",
     "text": [
      "\r",
      "Downloaded 68816 of 68816 bytes (100.0%,    0.0s remaining) ...done. (1 seconds, 0 min)\n"
     ]
    },
    {
     "name": "stdout",
     "output_type": "stream",
     "text": [
      "Downloading data from https://osf.io/download/5c8ff3fd4712b400183b70e6/ ...\n"
     ]
    },
    {
     "name": "stderr",
     "output_type": "stream",
     "text": [
      "Downloaded 6379656 of 6379656 bytes (100.0%,    0.0s remaining) ...done. (2 seconds, 0 min)\n"
     ]
    },
    {
     "name": "stdout",
     "output_type": "stream",
     "text": [
      "Downloading data from https://osf.io/download/5c8ff3fe4712b4001a3b5620/ ...\n"
     ]
    },
    {
     "name": "stderr",
     "output_type": "stream",
     "text": [
      "\r",
      "Downloaded 68831 of 68831 bytes (100.0%,    0.0s remaining) ...done. (1 seconds, 0 min)\n"
     ]
    },
    {
     "name": "stdout",
     "output_type": "stream",
     "text": [
      "Downloading data from https://osf.io/download/5c8ff3ff4712b400173b5399/ ...\n"
     ]
    },
    {
     "name": "stderr",
     "output_type": "stream",
     "text": [
      "\r",
      "Downloaded 5013504 of 5608665 bytes (89.4%,    0.1s remaining)\r",
      "Downloaded 5608665 of 5608665 bytes (100.0%,    0.0s remaining) ...done. (2 seconds, 0 min)\n"
     ]
    },
    {
     "name": "stdout",
     "output_type": "stream",
     "text": [
      "Downloading data from https://osf.io/download/5c8ff401a743a9001660a104/ ...\n"
     ]
    },
    {
     "name": "stderr",
     "output_type": "stream",
     "text": [
      "\r",
      "Downloaded 68571 of 68571 bytes (100.0%,    0.0s remaining) ...done. (1 seconds, 0 min)\n"
     ]
    },
    {
     "name": "stdout",
     "output_type": "stream",
     "text": [
      "Downloading data from https://osf.io/download/5c8ff403a743a90017608181/ ...\n"
     ]
    },
    {
     "name": "stderr",
     "output_type": "stream",
     "text": [
      "\r",
      "Downloaded 4898816 of 5862117 bytes (83.6%,    0.2s remaining)\r",
      "Downloaded 5862117 of 5862117 bytes (100.0%,    0.0s remaining) ...done. (3 seconds, 0 min)\n"
     ]
    },
    {
     "name": "stdout",
     "output_type": "stream",
     "text": [
      "Downloading data from https://osf.io/download/5c8ff4034712b400183b70f6/ ...\n"
     ]
    },
    {
     "name": "stderr",
     "output_type": "stream",
     "text": [
      "\r",
      "Downloaded 68780 of 68780 bytes (100.0%,    0.0s remaining) ...done. (2 seconds, 0 min)\n"
     ]
    },
    {
     "name": "stdout",
     "output_type": "stream",
     "text": [
      "Downloading data from https://osf.io/download/5c8ff4042286e80019c3c1c2/ ...\n"
     ]
    },
    {
     "name": "stderr",
     "output_type": "stream",
     "text": [
      "\r",
      "Downloaded 4964352 of 5731564 bytes (86.6%,    0.2s remaining)\r",
      "Downloaded 5731564 of 5731564 bytes (100.0%,    0.0s remaining) ...done. (2 seconds, 0 min)\n"
     ]
    },
    {
     "name": "stdout",
     "output_type": "stream",
     "text": [
      "Downloading data from https://osf.io/download/5c8ff4052286e80017c41b92/ ...\n"
     ]
    },
    {
     "name": "stderr",
     "output_type": "stream",
     "text": [
      "\r",
      "Downloaded 69141 of 69141 bytes (100.0%,    0.0s remaining) ...done. (1 seconds, 0 min)\n"
     ]
    },
    {
     "name": "stdout",
     "output_type": "stream",
     "text": [
      "Downloading data from https://osf.io/download/5c8ff4064712b400183b70fe/ ...\n"
     ]
    },
    {
     "name": "stderr",
     "output_type": "stream",
     "text": [
      "Downloaded 6665665 of 6665665 bytes (100.0%,    0.0s remaining) ...done. (2 seconds, 0 min)\n"
     ]
    },
    {
     "name": "stdout",
     "output_type": "stream",
     "text": [
      "Downloading data from https://osf.io/download/5c8ff4074712b400183b7104/ ...\n"
     ]
    },
    {
     "name": "stderr",
     "output_type": "stream",
     "text": [
      "\r",
      "Downloaded 68319 of 68319 bytes (100.0%,    0.0s remaining) ...done. (2 seconds, 0 min)\n"
     ]
    },
    {
     "name": "stdout",
     "output_type": "stream",
     "text": [
      "Downloading data from https://osf.io/download/5c8ff40aa743a9001660a119/ ...\n"
     ]
    },
    {
     "name": "stderr",
     "output_type": "stream",
     "text": [
      "\r",
      "Downloaded 5177344 of 5995324 bytes (86.4%,    0.2s remaining)\r",
      "Downloaded 5995324 of 5995324 bytes (100.0%,    0.0s remaining) ...done. (2 seconds, 0 min)\n"
     ]
    },
    {
     "name": "stdout",
     "output_type": "stream",
     "text": [
      "Downloading data from https://osf.io/download/5c8ff4092286e80017c41ba7/ ...\n"
     ]
    },
    {
     "name": "stderr",
     "output_type": "stream",
     "text": [
      "\r",
      "Downloaded 68161 of 68161 bytes (100.0%,    0.0s remaining) ...done. (1 seconds, 0 min)\n"
     ]
    },
    {
     "name": "stdout",
     "output_type": "stream",
     "text": [
      "Downloading data from https://osf.io/download/5c8ff40b2286e80016c3c39a/ ...\n"
     ]
    },
    {
     "name": "stderr",
     "output_type": "stream",
     "text": [
      "\r",
      "Downloaded 5357568 of 6372324 bytes (84.1%,    0.2s remaining)\r",
      "Downloaded 6372324 of 6372324 bytes (100.0%,    0.0s remaining) ...done. (3 seconds, 0 min)\n"
     ]
    },
    {
     "name": "stdout",
     "output_type": "stream",
     "text": [
      "Downloading data from https://osf.io/download/5c8ff40d2286e80016c3c39f/ ...\n"
     ]
    },
    {
     "name": "stderr",
     "output_type": "stream",
     "text": [
      "\r",
      "Downloaded 68394 of 68394 bytes (100.0%,    0.0s remaining) ...done. (1 seconds, 0 min)\n"
     ]
    },
    {
     "name": "stdout",
     "output_type": "stream",
     "text": [
      "Downloading data from https://osf.io/download/5c8ff40da743a90018606eac/ ...\n"
     ]
    },
    {
     "name": "stderr",
     "output_type": "stream",
     "text": [
      "\r",
      "Downloaded 5242880 of 6277893 bytes (83.5%,    0.2s remaining)\r",
      "Downloaded 6277893 of 6277893 bytes (100.0%,    0.0s remaining) ...done. (2 seconds, 0 min)\n"
     ]
    },
    {
     "name": "stdout",
     "output_type": "stream",
     "text": [
      "Downloading data from https://osf.io/download/5c8ff40e4712b400173b53a8/ ...\n"
     ]
    },
    {
     "name": "stderr",
     "output_type": "stream",
     "text": [
      "\r",
      "Downloaded 68532 of 68532 bytes (100.0%,    0.0s remaining) ...done. (1 seconds, 0 min)\n"
     ]
    },
    {
     "name": "stdout",
     "output_type": "stream",
     "text": [
      "Downloading data from https://osf.io/download/5c8ff4104712b400173b53ad/ ...\n"
     ]
    },
    {
     "name": "stderr",
     "output_type": "stream",
     "text": [
      "\r",
      "Downloaded 5079040 of 5831225 bytes (87.1%,    0.1s remaining)\r",
      "Downloaded 5831225 of 5831225 bytes (100.0%,    0.0s remaining) ...done. (3 seconds, 0 min)\n"
     ]
    },
    {
     "name": "stdout",
     "output_type": "stream",
     "text": [
      "Downloading data from https://osf.io/download/5c8ff4112286e80016c3c3a5/ ...\n"
     ]
    },
    {
     "name": "stderr",
     "output_type": "stream",
     "text": [
      "\r",
      "Downloaded 68431 of 68431 bytes (100.0%,    0.0s remaining) ...done. (1 seconds, 0 min)\n"
     ]
    },
    {
     "name": "stdout",
     "output_type": "stream",
     "text": [
      "Downloading data from https://osf.io/download/5c8ff412a743a9001660a128/ ...\n"
     ]
    },
    {
     "name": "stderr",
     "output_type": "stream",
     "text": [
      "\r",
      "Downloaded 5038080 of 5942641 bytes (84.8%,    0.2s remaining)\r",
      "Downloaded 5942641 of 5942641 bytes (100.0%,    0.0s remaining) ...done. (2 seconds, 0 min)\n"
     ]
    },
    {
     "name": "stdout",
     "output_type": "stream",
     "text": [
      "Downloading data from https://osf.io/download/5c8ff414a743a90019606cfc/ ...\n"
     ]
    },
    {
     "name": "stderr",
     "output_type": "stream",
     "text": [
      "\r",
      "Downloaded 68474 of 68474 bytes (100.0%,    0.0s remaining) ...done. (2 seconds, 0 min)\n"
     ]
    },
    {
     "name": "stdout",
     "output_type": "stream",
     "text": [
      "Downloading data from https://osf.io/download/5c8ff416a743a90019606d01/ ...\n"
     ]
    },
    {
     "name": "stderr",
     "output_type": "stream",
     "text": [
      "Downloaded 6079969 of 6079969 bytes (100.0%,    0.0s remaining) ...done. (3 seconds, 0 min)\n"
     ]
    },
    {
     "name": "stdout",
     "output_type": "stream",
     "text": [
      "Downloading data from https://osf.io/download/5c8ff417a743a9001660a130/ ...\n"
     ]
    },
    {
     "name": "stderr",
     "output_type": "stream",
     "text": [
      "\r",
      "Downloaded 68786 of 68786 bytes (100.0%,    0.0s remaining) ...done. (1 seconds, 0 min)\n"
     ]
    },
    {
     "name": "stdout",
     "output_type": "stream",
     "text": [
      "Downloading data from https://osf.io/download/5c8ff4184712b400193b5c19/ ...\n"
     ]
    },
    {
     "name": "stderr",
     "output_type": "stream",
     "text": [
      "\r",
      "Downloaded 5398528 of 5898818 bytes (91.5%,    0.1s remaining)\r",
      "Downloaded 5898818 of 5898818 bytes (100.0%,    0.0s remaining) ...done. (2 seconds, 0 min)\n"
     ]
    },
    {
     "name": "stdout",
     "output_type": "stream",
     "text": [
      "Downloading data from https://osf.io/download/5c8ff41a2286e80019c3c1de/ ...\n"
     ]
    },
    {
     "name": "stderr",
     "output_type": "stream",
     "text": [
      "\r",
      "Downloaded 68507 of 68507 bytes (100.0%,    0.0s remaining) ...done. (1 seconds, 0 min)\n"
     ]
    },
    {
     "name": "stdout",
     "output_type": "stream",
     "text": [
      "Downloading data from https://osf.io/download/5c8ff41aa743a9001660a13b/ ...\n"
     ]
    },
    {
     "name": "stderr",
     "output_type": "stream",
     "text": [
      "\r",
      "Downloaded 5095424 of 6201883 bytes (82.2%,    0.2s remaining)\r",
      "Downloaded 6201883 of 6201883 bytes (100.0%,    0.0s remaining) ...done. (2 seconds, 0 min)\n"
     ]
    },
    {
     "name": "stdout",
     "output_type": "stream",
     "text": [
      "Downloading data from https://osf.io/download/5c8ff41b2286e80016c3c3b6/ ...\n"
     ]
    },
    {
     "name": "stderr",
     "output_type": "stream",
     "text": [
      "\r",
      "Downloaded 68204 of 68204 bytes (100.0%,    0.0s remaining) ...done. (2 seconds, 0 min)\n"
     ]
    },
    {
     "name": "stdout",
     "output_type": "stream",
     "text": [
      "Downloading data from https://osf.io/download/5c8ff41d2286e80018c3e499/ ...\n"
     ]
    },
    {
     "name": "stderr",
     "output_type": "stream",
     "text": [
      "Downloaded 6037995 of 6037995 bytes (100.0%,    0.0s remaining) ...done. (2 seconds, 0 min)\n"
     ]
    },
    {
     "name": "stdout",
     "output_type": "stream",
     "text": [
      "Downloading data from https://osf.io/download/5c8ff41da743a900176081a2/ ...\n"
     ]
    },
    {
     "name": "stderr",
     "output_type": "stream",
     "text": [
      "\r",
      "Downloaded 67833 of 67833 bytes (100.0%,    0.0s remaining) ...done. (2 seconds, 0 min)\n"
     ]
    },
    {
     "name": "stdout",
     "output_type": "stream",
     "text": [
      "Downloading data from https://osf.io/download/5c8ff41ea743a90018606ec7/ ...\n"
     ]
    },
    {
     "name": "stderr",
     "output_type": "stream",
     "text": [
      "\r",
      "Downloaded 5283840 of 6331499 bytes (83.5%,    0.2s remaining)\r",
      "Downloaded 6331499 of 6331499 bytes (100.0%,    0.0s remaining) ...done. (2 seconds, 0 min)\n"
     ]
    },
    {
     "name": "stdout",
     "output_type": "stream",
     "text": [
      "Downloading data from https://osf.io/download/5c8ff4202286e80019c3c1e2/ ...\n"
     ]
    },
    {
     "name": "stderr",
     "output_type": "stream",
     "text": [
      "\r",
      "Downloaded 68344 of 68344 bytes (100.0%,    0.0s remaining) ...done. (1 seconds, 0 min)\n"
     ]
    },
    {
     "name": "stdout",
     "output_type": "stream",
     "text": [
      "Downloading data from https://osf.io/download/5c8ff4212286e80018c3e49d/ ...\n"
     ]
    },
    {
     "name": "stderr",
     "output_type": "stream",
     "text": [
      "\r",
      "Downloaded 5160960 of 5768950 bytes (89.5%,    0.1s remaining)\r",
      "Downloaded 5768950 of 5768950 bytes (100.0%,    0.0s remaining) ...done. (3 seconds, 0 min)\n"
     ]
    },
    {
     "name": "stdout",
     "output_type": "stream",
     "text": [
      "Downloading data from https://osf.io/download/5c8ff4212286e80019c3c1e6/ ...\n"
     ]
    },
    {
     "name": "stderr",
     "output_type": "stream",
     "text": [
      "\r",
      "Downloaded 68524 of 68524 bytes (100.0%,    0.0s remaining) ...done. (2 seconds, 0 min)\n"
     ]
    },
    {
     "name": "stdout",
     "output_type": "stream",
     "text": [
      "Downloading data from https://osf.io/download/5c8ff424a743a900176081af/ ...\n"
     ]
    },
    {
     "name": "stderr",
     "output_type": "stream",
     "text": [
      "\r",
      "Downloaded 5242880 of 6070427 bytes (86.4%,    0.2s remaining)\r",
      "Downloaded 6070427 of 6070427 bytes (100.0%,    0.0s remaining) ...done. (2 seconds, 0 min)\n"
     ]
    },
    {
     "name": "stdout",
     "output_type": "stream",
     "text": [
      "Downloading data from https://osf.io/download/5c8ff4264712b400193b5c2f/ ...\n"
     ]
    },
    {
     "name": "stderr",
     "output_type": "stream",
     "text": [
      "\r",
      "Downloaded 68823 of 68823 bytes (100.0%,    0.0s remaining) ...done. (1 seconds, 0 min)\n"
     ]
    },
    {
     "name": "stdout",
     "output_type": "stream",
     "text": [
      "Downloading data from https://osf.io/download/5c8ff4252286e80017c41bfc/ ...\n"
     ]
    },
    {
     "name": "stderr",
     "output_type": "stream",
     "text": [
      "\r",
      "Downloaded 5283840 of 6236679 bytes (84.7%,    0.2s remaining)\r",
      "Downloaded 6236679 of 6236679 bytes (100.0%,    0.0s remaining) ...done. (2 seconds, 0 min)\n"
     ]
    },
    {
     "name": "stdout",
     "output_type": "stream",
     "text": [
      "Downloading data from https://osf.io/download/5c8ff4282286e80017c41c0a/ ...\n"
     ]
    },
    {
     "name": "stderr",
     "output_type": "stream",
     "text": [
      "\r",
      "Downloaded 68703 of 68703 bytes (100.0%,    0.0s remaining) ...done. (1 seconds, 0 min)\n"
     ]
    },
    {
     "name": "stdout",
     "output_type": "stream",
     "text": [
      "Downloading data from https://osf.io/download/5c8ff4292286e80017c41c0f/ ...\n"
     ]
    },
    {
     "name": "stderr",
     "output_type": "stream",
     "text": [
      "\r",
      "Downloaded 5111808 of 5402479 bytes (94.6%,    0.1s remaining)\r",
      "Downloaded 5402479 of 5402479 bytes (100.0%,    0.0s remaining) ...done. (2 seconds, 0 min)\n"
     ]
    },
    {
     "name": "stdout",
     "output_type": "stream",
     "text": [
      "Downloading data from https://osf.io/download/5c8ff37da743a90018606df1/ ...\n"
     ]
    },
    {
     "name": "stderr",
     "output_type": "stream",
     "text": [
      "\r",
      "Downloaded 68468 of 68468 bytes (100.0%,    0.0s remaining) ...done. (1 seconds, 0 min)\n"
     ]
    },
    {
     "name": "stdout",
     "output_type": "stream",
     "text": [
      "Downloading data from https://osf.io/download/5c8ff37c2286e80019c3c102/ ...\n"
     ]
    },
    {
     "name": "stderr",
     "output_type": "stream",
     "text": [
      "\r",
      "Downloaded 5210112 of 6293165 bytes (82.8%,    0.2s remaining)\r",
      "Downloaded 6293165 of 6293165 bytes (100.0%,    0.0s remaining) ...done. (3 seconds, 0 min)\n"
     ]
    },
    {
     "name": "stdout",
     "output_type": "stream",
     "text": [
      "Downloading data from https://osf.io/download/5cb4701e3992690018133d4f/ ...\n"
     ]
    },
    {
     "name": "stderr",
     "output_type": "stream",
     "text": [
      "\r",
      "Downloaded 68130 of 68130 bytes (100.0%,    0.0s remaining) ...done. (1 seconds, 0 min)\n"
     ]
    },
    {
     "name": "stdout",
     "output_type": "stream",
     "text": [
      "Downloading data from https://osf.io/download/5cb46e6b353c58001b9cb34f/ ...\n"
     ]
    },
    {
     "name": "stderr",
     "output_type": "stream",
     "text": [
      "\r",
      "Downloaded 5242880 of 6136523 bytes (85.4%,    0.2s remaining)\r",
      "Downloaded 6136523 of 6136523 bytes (100.0%,    0.0s remaining) ...done. (2 seconds, 0 min)\n"
     ]
    },
    {
     "name": "stdout",
     "output_type": "stream",
     "text": [
      "Downloading data from https://osf.io/download/5c8ff37d4712b400193b5b54/ ...\n"
     ]
    },
    {
     "name": "stderr",
     "output_type": "stream",
     "text": [
      "\r",
      "Downloaded 68340 of 68340 bytes (100.0%,    0.0s remaining) ...done. (1 seconds, 0 min)\n"
     ]
    },
    {
     "name": "stdout",
     "output_type": "stream",
     "text": [
      "Downloading data from https://osf.io/download/5c8ff37d4712b400183b7011/ ...\n"
     ]
    },
    {
     "name": "stderr",
     "output_type": "stream",
     "text": [
      "\r",
      "Downloaded 5292032 of 5837641 bytes (90.7%,    0.1s remaining)\r",
      "Downloaded 5837641 of 5837641 bytes (100.0%,    0.0s remaining) ...done. (2 seconds, 0 min)\n"
     ]
    },
    {
     "name": "stdout",
     "output_type": "stream",
     "text": [
      "Downloading data from https://osf.io/download/5c8ff37e2286e80016c3c2cb/ ...\n"
     ]
    },
    {
     "name": "stderr",
     "output_type": "stream",
     "text": [
      "\r",
      "Downloaded 71331 of 71331 bytes (100.0%,    0.0s remaining) ...done. (2 seconds, 0 min)\n"
     ]
    },
    {
     "name": "stdout",
     "output_type": "stream",
     "text": [
      "Downloading data from https://osf.io/download/5c8ff3832286e80019c3c10f/ ...\n"
     ]
    },
    {
     "name": "stderr",
     "output_type": "stream",
     "text": [
      "\r",
      "Downloaded 4997120 of 6118892 bytes (81.7%,    0.2s remaining)\r",
      "Downloaded 6118892 of 6118892 bytes (100.0%,    0.0s remaining) ...done. (2 seconds, 0 min)\n"
     ]
    },
    {
     "name": "stdout",
     "output_type": "stream",
     "text": [
      "Downloading data from https://osf.io/download/5c8ff3822286e80018c3e37b/ ...\n"
     ]
    },
    {
     "name": "stderr",
     "output_type": "stream",
     "text": [
      "\r",
      "Downloaded 68533 of 68533 bytes (100.0%,    0.0s remaining) ...done. (1 seconds, 0 min)\n"
     ]
    },
    {
     "name": "stdout",
     "output_type": "stream",
     "text": [
      "Downloading data from https://osf.io/download/5c8ff382a743a90018606df8/ ...\n"
     ]
    },
    {
     "name": "stderr",
     "output_type": "stream",
     "text": [
      "Downloaded 6453693 of 6453693 bytes (100.0%,    0.0s remaining) ...done. (3 seconds, 0 min)\n"
     ]
    },
    {
     "name": "stdout",
     "output_type": "stream",
     "text": [
      "Downloading data from https://osf.io/download/5c8ff3814712b4001a3b5561/ ...\n"
     ]
    },
    {
     "name": "stderr",
     "output_type": "stream",
     "text": [
      "\r",
      "Downloaded 68590 of 68590 bytes (100.0%,    0.0s remaining) ...done. (1 seconds, 0 min)\n"
     ]
    },
    {
     "name": "stdout",
     "output_type": "stream",
     "text": [
      "Downloading data from https://osf.io/download/5c8ff3832286e80016c3c2d1/ ...\n"
     ]
    },
    {
     "name": "stderr",
     "output_type": "stream",
     "text": [
      "\r",
      "Downloaded 5079040 of 6176491 bytes (82.2%,    0.2s remaining)\r",
      "Downloaded 6176491 of 6176491 bytes (100.0%,    0.0s remaining) ...done. (2 seconds, 0 min)\n"
     ]
    },
    {
     "name": "stdout",
     "output_type": "stream",
     "text": [
      "Downloading data from https://osf.io/download/5c8ff3842286e80017c419e0/ ...\n"
     ]
    },
    {
     "name": "stderr",
     "output_type": "stream",
     "text": [
      "\r",
      "Downloaded 68630 of 68630 bytes (100.0%,    0.0s remaining) ...done. (1 seconds, 0 min)\n"
     ]
    },
    {
     "name": "stdout",
     "output_type": "stream",
     "text": [
      "Downloading data from https://osf.io/download/5c8ff3854712b4001a3b5568/ ...\n"
     ]
    },
    {
     "name": "stderr",
     "output_type": "stream",
     "text": [
      "\r",
      "Downloaded 5316608 of 6225801 bytes (85.4%,    0.2s remaining)\r",
      "Downloaded 6225801 of 6225801 bytes (100.0%,    0.0s remaining) ...done. (2 seconds, 0 min)\n"
     ]
    },
    {
     "name": "stdout",
     "output_type": "stream",
     "text": [
      "Downloading data from https://osf.io/download/5cb4702f39926900171090ee/ ...\n"
     ]
    },
    {
     "name": "stderr",
     "output_type": "stream",
     "text": [
      "\r",
      "Downloaded 68331 of 68331 bytes (100.0%,    0.0s remaining) ...done. (1 seconds, 0 min)\n"
     ]
    },
    {
     "name": "stdout",
     "output_type": "stream",
     "text": [
      "Downloading data from https://osf.io/download/5cb46e8b353c58001c9abe98/ ...\n"
     ]
    },
    {
     "name": "stderr",
     "output_type": "stream",
     "text": [
      "\r",
      "Downloaded 5079040 of 6232787 bytes (81.5%,    0.2s remaining)\r",
      "Downloaded 6232787 of 6232787 bytes (100.0%,    0.0s remaining) ...done. (2 seconds, 0 min)\n"
     ]
    },
    {
     "name": "stdout",
     "output_type": "stream",
     "text": [
      "Downloading data from https://osf.io/download/5c8ff3872286e80017c419ea/ ...\n"
     ]
    },
    {
     "name": "stderr",
     "output_type": "stream",
     "text": [
      "\r",
      "Downloaded 68425 of 68425 bytes (100.0%,    0.0s remaining) ...done. (1 seconds, 0 min)\n"
     ]
    },
    {
     "name": "stdout",
     "output_type": "stream",
     "text": [
      "Downloading data from https://osf.io/download/5c8ff3872286e80017c419e9/ ...\n"
     ]
    },
    {
     "name": "stderr",
     "output_type": "stream",
     "text": [
      "Downloaded 7361169 of 7361169 bytes (100.0%,    0.0s remaining) ...done. (3 seconds, 0 min)\n"
     ]
    },
    {
     "name": "stdout",
     "output_type": "stream",
     "text": [
      "Downloading data from https://osf.io/download/5c8ff3884712b400183b7023/ ...\n"
     ]
    },
    {
     "name": "stderr",
     "output_type": "stream",
     "text": [
      "\r",
      "Downloaded 68894 of 68894 bytes (100.0%,    0.0s remaining) ...done. (1 seconds, 0 min)\n"
     ]
    },
    {
     "name": "stdout",
     "output_type": "stream",
     "text": [
      "Downloading data from https://osf.io/download/5c8ff3884712b400193b5b5c/ ...\n"
     ]
    },
    {
     "name": "stderr",
     "output_type": "stream",
     "text": [
      "\r",
      "Downloaded 5234688 of 6586819 bytes (79.5%,    0.3s remaining)\r",
      "Downloaded 6586819 of 6586819 bytes (100.0%,    0.0s remaining) ...done. (3 seconds, 0 min)\n"
     ]
    },
    {
     "name": "stdout",
     "output_type": "stream",
     "text": [
      "Downloading data from https://osf.io/download/5c8ff389a743a9001660a016/ ...\n"
     ]
    },
    {
     "name": "stderr",
     "output_type": "stream",
     "text": [
      "\r",
      "Downloaded 68848 of 68848 bytes (100.0%,    0.0s remaining) ...done. (1 seconds, 0 min)\n"
     ]
    },
    {
     "name": "stdout",
     "output_type": "stream",
     "text": [
      "Downloading data from https://osf.io/download/5c8ff38c2286e80016c3c2da/ ...\n"
     ]
    },
    {
     "name": "stderr",
     "output_type": "stream",
     "text": [
      "\r",
      "Downloaded 5169152 of 6111716 bytes (84.6%,    0.2s remaining)\r",
      "Downloaded 6111716 of 6111716 bytes (100.0%,    0.0s remaining) ...done. (2 seconds, 0 min)\n"
     ]
    },
    {
     "name": "stdout",
     "output_type": "stream",
     "text": [
      "Downloading data from https://osf.io/download/5c8ff38ca743a90018606dfe/ ...\n"
     ]
    },
    {
     "name": "stderr",
     "output_type": "stream",
     "text": [
      "\r",
      "Downloaded 68243 of 68243 bytes (100.0%,    0.0s remaining) ...done. (1 seconds, 0 min)\n"
     ]
    },
    {
     "name": "stdout",
     "output_type": "stream",
     "text": [
      "Downloading data from https://osf.io/download/5c8ff38ca743a9001760809e/ ...\n"
     ]
    },
    {
     "name": "stderr",
     "output_type": "stream",
     "text": [
      "\r",
      "Downloaded 5095424 of 6067448 bytes (84.0%,    0.2s remaining)\r",
      "Downloaded 6067448 of 6067448 bytes (100.0%,    0.0s remaining) ...done. (3 seconds, 0 min)\n"
     ]
    },
    {
     "name": "stdout",
     "output_type": "stream",
     "text": [
      "Downloading data from https://osf.io/download/5cb47056353c58001c9ac064/ ...\n"
     ]
    },
    {
     "name": "stderr",
     "output_type": "stream",
     "text": [
      "\r",
      "Downloaded 69265 of 69265 bytes (100.0%,    0.0s remaining) ...done. (1 seconds, 0 min)\n"
     ]
    },
    {
     "name": "stdout",
     "output_type": "stream",
     "text": [
      "Downloading data from https://osf.io/download/5cb46e5af2be3c001801f799/ ...\n"
     ]
    },
    {
     "name": "stderr",
     "output_type": "stream",
     "text": [
      "\r",
      "Downloaded 5275648 of 6122113 bytes (86.2%,    0.2s remaining)\r",
      "Downloaded 6122113 of 6122113 bytes (100.0%,    0.0s remaining) ...done. (3 seconds, 0 min)\n"
     ]
    },
    {
     "name": "stdout",
     "output_type": "stream",
     "text": [
      "Downloading data from https://osf.io/download/5cb4703bf2be3c001801fa49/ ...\n"
     ]
    },
    {
     "name": "stderr",
     "output_type": "stream",
     "text": [
      "\r",
      "Downloaded 68479 of 68479 bytes (100.0%,    0.0s remaining) ...done. (1 seconds, 0 min)\n"
     ]
    },
    {
     "name": "stdout",
     "output_type": "stream",
     "text": [
      "Downloading data from https://osf.io/download/5cb46e92a3bc970019f0717f/ ...\n"
     ]
    },
    {
     "name": "stderr",
     "output_type": "stream",
     "text": [
      "Downloaded 6295931 of 6295931 bytes (100.0%,    0.0s remaining) ...done. (3 seconds, 0 min)\n"
     ]
    },
    {
     "name": "stdout",
     "output_type": "stream",
     "text": [
      "Downloading data from https://osf.io/download/5c8ff38c4712b4001a3b5573/ ...\n"
     ]
    },
    {
     "name": "stderr",
     "output_type": "stream",
     "text": [
      "\r",
      "Downloaded 68301 of 68301 bytes (100.0%,    0.0s remaining) ...done. (2 seconds, 0 min)\n"
     ]
    },
    {
     "name": "stdout",
     "output_type": "stream",
     "text": [
      "Downloading data from https://osf.io/download/5c8ff38da743a900176080a2/ ...\n"
     ]
    },
    {
     "name": "stderr",
     "output_type": "stream",
     "text": [
      "Downloaded 6384587 of 6384587 bytes (100.0%,    0.0s remaining) ...done. (2 seconds, 0 min)\n"
     ]
    },
    {
     "name": "stdout",
     "output_type": "stream",
     "text": [
      "Downloading data from https://osf.io/download/5cb47016a3bc970017efe44f/ ...\n"
     ]
    },
    {
     "name": "stderr",
     "output_type": "stream",
     "text": [
      "\r",
      "Downloaded 67912 of 67912 bytes (100.0%,    0.0s remaining) ...done. (2 seconds, 0 min)\n"
     ]
    },
    {
     "name": "stdout",
     "output_type": "stream",
     "text": [
      "Downloading data from https://osf.io/download/5cb46e43f2be3c0017056b8a/ ...\n"
     ]
    },
    {
     "name": "stderr",
     "output_type": "stream",
     "text": [
      "\r",
      "Downloaded 5111808 of 5934622 bytes (86.1%,    0.2s remaining)\r",
      "Downloaded 5934622 of 5934622 bytes (100.0%,    0.0s remaining) ...done. (2 seconds, 0 min)\n"
     ]
    },
    {
     "name": "stdout",
     "output_type": "stream",
     "text": [
      "Downloading data from https://osf.io/download/5cb470413992690018133d8c/ ...\n"
     ]
    },
    {
     "name": "stderr",
     "output_type": "stream",
     "text": [
      "\r",
      "Downloaded 68499 of 68499 bytes (100.0%,    0.0s remaining) ...done. (2 seconds, 0 min)\n"
     ]
    },
    {
     "name": "stdout",
     "output_type": "stream",
     "text": [
      "Downloading data from https://osf.io/download/5cb46e9a353c58001c9abeac/ ...\n"
     ]
    },
    {
     "name": "stderr",
     "output_type": "stream",
     "text": [
      "Downloaded 6316470 of 6316470 bytes (100.0%,    0.0s remaining) ...done. (3 seconds, 0 min)\n"
     ]
    },
    {
     "name": "stdout",
     "output_type": "stream",
     "text": [
      "Downloading data from https://osf.io/download/5c8ff38f2286e80018c3e38d/ ...\n"
     ]
    },
    {
     "name": "stderr",
     "output_type": "stream",
     "text": [
      "\r",
      "Downloaded 67733 of 67733 bytes (100.0%,    0.0s remaining) ...done. (1 seconds, 0 min)\n"
     ]
    },
    {
     "name": "stdout",
     "output_type": "stream",
     "text": [
      "Downloading data from https://osf.io/download/5c8ff3914712b4001a3b5579/ ...\n"
     ]
    },
    {
     "name": "stderr",
     "output_type": "stream",
     "text": [
      "\r",
      "Downloaded 4653056 of 6020576 bytes (77.3%,    0.3s remaining)\r",
      "Downloaded 6020576 of 6020576 bytes (100.0%,    0.0s remaining) ...done. (3 seconds, 0 min)\n"
     ]
    },
    {
     "name": "stdout",
     "output_type": "stream",
     "text": [
      "Downloading data from https://osf.io/download/5cb4702a353c58001b9cb5ae/ ...\n"
     ]
    },
    {
     "name": "stderr",
     "output_type": "stream",
     "text": [
      "\r",
      "Downloaded 68275 of 68275 bytes (100.0%,    0.0s remaining) ...done. (2 seconds, 0 min)\n"
     ]
    },
    {
     "name": "stdout",
     "output_type": "stream",
     "text": [
      "Downloading data from https://osf.io/download/5cb46e9b39926900190fad5c/ ...\n"
     ]
    },
    {
     "name": "stderr",
     "output_type": "stream",
     "text": [
      "Downloaded 6551822 of 6551822 bytes (100.0%,    0.0s remaining) ...done. (2 seconds, 0 min)\n"
     ]
    },
    {
     "name": "stdout",
     "output_type": "stream",
     "text": [
      "Downloading data from https://osf.io/download/5c8ff391a743a900176080a9/ ...\n"
     ]
    },
    {
     "name": "stderr",
     "output_type": "stream",
     "text": [
      "\r",
      "Downloaded 68896 of 68896 bytes (100.0%,    0.0s remaining) ...done. (1 seconds, 0 min)\n"
     ]
    },
    {
     "name": "stdout",
     "output_type": "stream",
     "text": [
      "Downloading data from https://osf.io/download/5c8ff3914712b400173b5329/ ...\n"
     ]
    },
    {
     "name": "stderr",
     "output_type": "stream",
     "text": [
      "Downloaded 6116459 of 6116459 bytes (100.0%,    0.0s remaining) ...done. (2 seconds, 0 min)\n"
     ]
    },
    {
     "name": "stdout",
     "output_type": "stream",
     "text": [
      "Downloading data from https://osf.io/download/5cb47023353c58001c9ac02b/ ...\n"
     ]
    },
    {
     "name": "stderr",
     "output_type": "stream",
     "text": [
      "\r",
      "Downloaded 68182 of 68182 bytes (100.0%,    0.0s remaining) ...done. (1 seconds, 0 min)\n"
     ]
    },
    {
     "name": "stdout",
     "output_type": "stream",
     "text": [
      "Downloading data from https://osf.io/download/5cb46eaa39926900160f69af/ ...\n"
     ]
    },
    {
     "name": "stderr",
     "output_type": "stream",
     "text": [
      "Downloaded 6752586 of 6752586 bytes (100.0%,    0.0s remaining) ...done. (2 seconds, 0 min)\n"
     ]
    },
    {
     "name": "stdout",
     "output_type": "stream",
     "text": [
      "Downloading data from https://osf.io/download/5c8ff3912286e80018c3e393/ ...\n"
     ]
    },
    {
     "name": "stderr",
     "output_type": "stream",
     "text": [
      "\r",
      "Downloaded 68403 of 68403 bytes (100.0%,    0.0s remaining) ...done. (1 seconds, 0 min)\n"
     ]
    },
    {
     "name": "stdout",
     "output_type": "stream",
     "text": [
      "Downloading data from https://osf.io/download/5c8ff3952286e80017c41a1b/ ...\n"
     ]
    },
    {
     "name": "stderr",
     "output_type": "stream",
     "text": [
      "\r",
      "Downloaded 4628480 of 6023997 bytes (76.8%,    0.3s remaining)\r",
      "Downloaded 6023997 of 6023997 bytes (100.0%,    0.0s remaining) ...done. (3 seconds, 0 min)\n"
     ]
    },
    {
     "name": "stdout",
     "output_type": "stream",
     "text": [
      "Downloading data from https://osf.io/download/5cb47045a3bc970019f073a0/ ...\n"
     ]
    },
    {
     "name": "stderr",
     "output_type": "stream",
     "text": [
      "\r",
      "Downloaded 68534 of 68534 bytes (100.0%,    0.0s remaining) ...done. (1 seconds, 0 min)\n"
     ]
    },
    {
     "name": "stdout",
     "output_type": "stream",
     "text": [
      "Downloading data from https://osf.io/download/5cb46e913992690018133b1c/ ...\n"
     ]
    },
    {
     "name": "stderr",
     "output_type": "stream",
     "text": [
      "\r",
      "Downloaded 5169152 of 6312316 bytes (81.9%,    0.2s remaining)\r",
      "Downloaded 6312316 of 6312316 bytes (100.0%,    0.0s remaining) ...done. (2 seconds, 0 min)\n"
     ]
    },
    {
     "name": "stdout",
     "output_type": "stream",
     "text": [
      "Downloading data from https://osf.io/download/5cb47052f2be3c0017057069/ ...\n"
     ]
    },
    {
     "name": "stderr",
     "output_type": "stream",
     "text": [
      "\r",
      "Downloaded 69162 of 69162 bytes (100.0%,    0.0s remaining) ...done. (1 seconds, 0 min)\n"
     ]
    },
    {
     "name": "stdout",
     "output_type": "stream",
     "text": [
      "Downloading data from https://osf.io/download/5cb46e5c353c5800199ac79f/ ...\n"
     ]
    },
    {
     "name": "stderr",
     "output_type": "stream",
     "text": [
      "\r",
      "Downloaded 5406720 of 6031594 bytes (89.6%,    0.1s remaining)\r",
      "Downloaded 6031594 of 6031594 bytes (100.0%,    0.0s remaining) ...done. (2 seconds, 0 min)\n"
     ]
    },
    {
     "name": "stdout",
     "output_type": "stream",
     "text": [
      "Downloading data from https://osf.io/download/5cb47057f2be3c0019030a1f/ ...\n"
     ]
    },
    {
     "name": "stderr",
     "output_type": "stream",
     "text": [
      "\r",
      "Downloaded 71350 of 71350 bytes (100.0%,    0.0s remaining) ...done. (1 seconds, 0 min)\n"
     ]
    },
    {
     "name": "stdout",
     "output_type": "stream",
     "text": [
      "Downloading data from https://osf.io/download/5cb46e63f2be3c0017056ba9/ ...\n"
     ]
    },
    {
     "name": "stderr",
     "output_type": "stream",
     "text": [
      "Downloaded 6123172 of 6123172 bytes (100.0%,    0.0s remaining) ...done. (2 seconds, 0 min)\n"
     ]
    },
    {
     "name": "stdout",
     "output_type": "stream",
     "text": [
      "Downloading data from https://osf.io/download/5cb4704af2be3c001705703b/ ...\n"
     ]
    },
    {
     "name": "stderr",
     "output_type": "stream",
     "text": [
      "\r",
      "Downloaded 68620 of 68620 bytes (100.0%,    0.0s remaining) ...done. (2 seconds, 0 min)\n"
     ]
    },
    {
     "name": "stdout",
     "output_type": "stream",
     "text": [
      "Downloading data from https://osf.io/download/5cb46e7a353c58001a9b3324/ ...\n"
     ]
    },
    {
     "name": "stderr",
     "output_type": "stream",
     "text": [
      "\r",
      "Downloaded 5267456 of 6203305 bytes (84.9%,    0.2s remaining)\r",
      "Downloaded 6203305 of 6203305 bytes (100.0%,    0.0s remaining) ...done. (3 seconds, 0 min)\n"
     ]
    },
    {
     "name": "stdout",
     "output_type": "stream",
     "text": [
      "Downloading data from https://osf.io/download/5c8ff3952286e80016c3c2e7/ ...\n"
     ]
    },
    {
     "name": "stderr",
     "output_type": "stream",
     "text": [
      "\r",
      "Downloaded 67794 of 67794 bytes (100.0%,    0.0s remaining) ...done. (2 seconds, 0 min)\n"
     ]
    },
    {
     "name": "stdout",
     "output_type": "stream",
     "text": [
      "Downloading data from https://osf.io/download/5c8ff3954712b400193b5b79/ ...\n"
     ]
    },
    {
     "name": "stderr",
     "output_type": "stream",
     "text": [
      "\r",
      "Downloaded 5177344 of 6253721 bytes (82.8%,    0.2s remaining)\r",
      "Downloaded 6253721 of 6253721 bytes (100.0%,    0.0s remaining) ...done. (2 seconds, 0 min)\n"
     ]
    },
    {
     "name": "stdout",
     "output_type": "stream",
     "text": [
      "Downloading data from https://osf.io/download/5cb47016a3bc970018f1fc88/ ...\n"
     ]
    },
    {
     "name": "stderr",
     "output_type": "stream",
     "text": [
      "\r",
      "Downloaded 67901 of 67901 bytes (100.0%,    0.0s remaining) ...done. (2 seconds, 0 min)\n"
     ]
    },
    {
     "name": "stdout",
     "output_type": "stream",
     "text": [
      "Downloading data from https://osf.io/download/5cb46e6ba3bc970019f07152/ ...\n"
     ]
    },
    {
     "name": "stderr",
     "output_type": "stream",
     "text": [
      "Downloaded 6168810 of 6168810 bytes (100.0%,    0.0s remaining) ...done. (2 seconds, 0 min)\n"
     ]
    },
    {
     "name": "stdout",
     "output_type": "stream",
     "text": [
      "Downloading data from https://osf.io/download/5c8ff395a743a900176080af/ ...\n"
     ]
    },
    {
     "name": "stderr",
     "output_type": "stream",
     "text": [
      "\r",
      "Downloaded 68188 of 68188 bytes (100.0%,    0.0s remaining) ...done. (1 seconds, 0 min)\n"
     ]
    },
    {
     "name": "stdout",
     "output_type": "stream",
     "text": [
      "Downloading data from https://osf.io/download/5c8ff3964712b400193b5b7d/ ...\n"
     ]
    },
    {
     "name": "stderr",
     "output_type": "stream",
     "text": [
      "Downloaded 6287468 of 6287468 bytes (100.0%,    0.0s remaining) ...done. (2 seconds, 0 min)\n"
     ]
    },
    {
     "name": "stdout",
     "output_type": "stream",
     "text": [
      "Downloading data from https://osf.io/download/5c8ff399a743a9001660a031/ ...\n"
     ]
    },
    {
     "name": "stderr",
     "output_type": "stream",
     "text": [
      "\r",
      "Downloaded 68229 of 68229 bytes (100.0%,    0.0s remaining) ...done. (1 seconds, 0 min)\n"
     ]
    },
    {
     "name": "stdout",
     "output_type": "stream",
     "text": [
      "Downloading data from https://osf.io/download/5c8ff3982286e80017c41a29/ ...\n"
     ]
    },
    {
     "name": "stderr",
     "output_type": "stream",
     "text": [
      "\r",
      "Downloaded 4939776 of 6146235 bytes (80.4%,    0.3s remaining)\r",
      "Downloaded 6146235 of 6146235 bytes (100.0%,    0.0s remaining) ...done. (2 seconds, 0 min)\n"
     ]
    },
    {
     "name": "stdout",
     "output_type": "stream",
     "text": [
      "Downloading data from https://osf.io/download/5c8ff39aa743a90018606e21/ ...\n"
     ]
    },
    {
     "name": "stderr",
     "output_type": "stream",
     "text": [
      "\r",
      "Downloaded 68249 of 68249 bytes (100.0%,    0.0s remaining) ...done. (1 seconds, 0 min)\n"
     ]
    },
    {
     "name": "stdout",
     "output_type": "stream",
     "text": [
      "Downloading data from https://osf.io/download/5c8ff39aa743a900176080ba/ ...\n"
     ]
    },
    {
     "name": "stderr",
     "output_type": "stream",
     "text": [
      "Downloaded 6358784 of 6358784 bytes (100.0%,    0.0s remaining) ...done. (2 seconds, 0 min)\n"
     ]
    },
    {
     "name": "stdout",
     "output_type": "stream",
     "text": [
      "Downloading data from https://osf.io/download/5cb470153992690018133d3b/ ...\n"
     ]
    },
    {
     "name": "stderr",
     "output_type": "stream",
     "text": [
      "\r",
      "Downloaded 67891 of 67891 bytes (100.0%,    0.0s remaining) ...done. (1 seconds, 0 min)\n"
     ]
    },
    {
     "name": "stdout",
     "output_type": "stream",
     "text": [
      "Downloading data from https://osf.io/download/5cb46e793992690017108eb9/ ...\n"
     ]
    },
    {
     "name": "stderr",
     "output_type": "stream",
     "text": [
      "\r",
      "Downloaded 5300224 of 6199206 bytes (85.5%,    0.2s remaining)\r",
      "Downloaded 6199206 of 6199206 bytes (100.0%,    0.0s remaining) ...done. (2 seconds, 0 min)\n"
     ]
    },
    {
     "name": "stdout",
     "output_type": "stream",
     "text": [
      "Downloading data from https://osf.io/download/5cb47038353c5800199ac9a2/ ...\n"
     ]
    },
    {
     "name": "stderr",
     "output_type": "stream",
     "text": [
      "\r",
      "Downloaded 68437 of 68437 bytes (100.0%,    0.0s remaining) ...done. (2 seconds, 0 min)\n"
     ]
    },
    {
     "name": "stdout",
     "output_type": "stream",
     "text": [
      "Downloading data from https://osf.io/download/5cb46e85a3bc97001aeff750/ ...\n"
     ]
    },
    {
     "name": "stderr",
     "output_type": "stream",
     "text": [
      "\r",
      "Downloaded 5128192 of 6249029 bytes (82.1%,    0.2s remaining)\r",
      "Downloaded 6249029 of 6249029 bytes (100.0%,    0.0s remaining) ...done. (2 seconds, 0 min)\n"
     ]
    },
    {
     "name": "stdout",
     "output_type": "stream",
     "text": [
      "Downloading data from https://osf.io/download/5cb4701c3992690018133d49/ ...\n"
     ]
    },
    {
     "name": "stderr",
     "output_type": "stream",
     "text": [
      "\r",
      "Downloaded 68124 of 68124 bytes (100.0%,    0.0s remaining) ...done. (1 seconds, 0 min)\n"
     ]
    },
    {
     "name": "stdout",
     "output_type": "stream",
     "text": [
      "Downloading data from https://osf.io/download/5cb46e1c3992690018133a9e/ ...\n"
     ]
    },
    {
     "name": "stderr",
     "output_type": "stream",
     "text": [
      "\r",
      "Downloaded 5152768 of 5741735 bytes (89.7%,    0.1s remaining)\r",
      "Downloaded 5741735 of 5741735 bytes (100.0%,    0.0s remaining) ...done. (3 seconds, 0 min)\n"
     ]
    },
    {
     "name": "stdout",
     "output_type": "stream",
     "text": [
      "Downloading data from https://osf.io/download/5c8ff39aa743a900176080bf/ ...\n"
     ]
    },
    {
     "name": "stderr",
     "output_type": "stream",
     "text": [
      "\r",
      "Downloaded 68213 of 68213 bytes (100.0%,    0.0s remaining) ...done. (1 seconds, 0 min)\n"
     ]
    },
    {
     "name": "stdout",
     "output_type": "stream",
     "text": [
      "Downloading data from https://osf.io/download/5c8ff39d4712b400193b5b89/ ...\n"
     ]
    },
    {
     "name": "stderr",
     "output_type": "stream",
     "text": [
      "\r",
      "Downloaded 5316608 of 5950135 bytes (89.4%,    0.1s remaining)\r",
      "Downloaded 5950135 of 5950135 bytes (100.0%,    0.0s remaining) ...done. (2 seconds, 0 min)\n"
     ]
    },
    {
     "name": "stdout",
     "output_type": "stream",
     "text": [
      "Downloading data from https://osf.io/download/5cb4703039926900160f6b3e/ ...\n"
     ]
    },
    {
     "name": "stderr",
     "output_type": "stream",
     "text": [
      "\r",
      "Downloaded 68335 of 68335 bytes (100.0%,    0.0s remaining) ...done. (1 seconds, 0 min)\n"
     ]
    },
    {
     "name": "stdout",
     "output_type": "stream",
     "text": [
      "Downloading data from https://osf.io/download/5cb46e4d353c58001b9cb325/ ...\n"
     ]
    },
    {
     "name": "stderr",
     "output_type": "stream",
     "text": [
      "\r",
      "Downloaded 5013504 of 5967515 bytes (84.0%,    0.2s remaining)\r",
      "Downloaded 5967515 of 5967515 bytes (100.0%,    0.0s remaining) ...done. (2 seconds, 0 min)\n"
     ]
    },
    {
     "name": "stdout",
     "output_type": "stream",
     "text": [
      "Downloading data from https://osf.io/download/5cb4700af2be3c0017056f69/ ...\n"
     ]
    },
    {
     "name": "stderr",
     "output_type": "stream",
     "text": [
      "\r",
      "Downloaded 66955 of 66955 bytes (100.0%,    0.0s remaining) ...done. (2 seconds, 0 min)\n"
     ]
    },
    {
     "name": "stdout",
     "output_type": "stream",
     "text": [
      "Downloading data from https://osf.io/download/5cb46e0cf2be3c001801f757/ ...\n"
     ]
    },
    {
     "name": "stderr",
     "output_type": "stream",
     "text": [
      "\r",
      "Downloaded 5013504 of 5527830 bytes (90.7%,    0.1s remaining)\r",
      "Downloaded 5527830 of 5527830 bytes (100.0%,    0.0s remaining) ...done. (2 seconds, 0 min)\n"
     ]
    },
    {
     "name": "stdout",
     "output_type": "stream",
     "text": [
      "Downloading data from https://osf.io/download/5cb4702b39926900171090e4/ ...\n"
     ]
    },
    {
     "name": "stderr",
     "output_type": "stream",
     "text": [
      "\r",
      "Downloaded 68289 of 68289 bytes (100.0%,    0.0s remaining) ...done. (1 seconds, 0 min)\n"
     ]
    },
    {
     "name": "stdout",
     "output_type": "stream",
     "text": [
      "Downloading data from https://osf.io/download/5cb46e35f2be3c00190305ff/ ...\n"
     ]
    },
    {
     "name": "stderr",
     "output_type": "stream",
     "text": [
      "Downloaded 5894024 of 5894024 bytes (100.0%,    0.0s remaining) ...done. (3 seconds, 0 min)\n"
     ]
    },
    {
     "name": "stdout",
     "output_type": "stream",
     "text": [
      "Downloading data from https://osf.io/download/5c8ff39ca743a90019606c50/ ...\n"
     ]
    },
    {
     "name": "stderr",
     "output_type": "stream",
     "text": [
      "\r",
      "Downloaded 68575 of 68575 bytes (100.0%,    0.0s remaining) ...done. (1 seconds, 0 min)\n"
     ]
    },
    {
     "name": "stdout",
     "output_type": "stream",
     "text": [
      "Downloading data from https://osf.io/download/5c8ff3a2a743a9001660a048/ ...\n"
     ]
    },
    {
     "name": "stderr",
     "output_type": "stream",
     "text": [
      "\r",
      "Downloaded 5234688 of 6131100 bytes (85.4%,    0.2s remaining)\r",
      "Downloaded 6131100 of 6131100 bytes (100.0%,    0.0s remaining) ...done. (2 seconds, 0 min)\n"
     ]
    },
    {
     "name": "stdout",
     "output_type": "stream",
     "text": [
      "Downloading data from https://osf.io/download/5cb4701ff2be3c0017056fad/ ...\n"
     ]
    },
    {
     "name": "stderr",
     "output_type": "stream",
     "text": [
      "\r",
      "Downloaded 68135 of 68135 bytes (100.0%,    0.0s remaining) ...done. (1 seconds, 0 min)\n"
     ]
    },
    {
     "name": "stdout",
     "output_type": "stream",
     "text": [
      "Downloading data from https://osf.io/download/5cb46e0339926900160f6930/ ...\n"
     ]
    },
    {
     "name": "stderr",
     "output_type": "stream",
     "text": [
      "\r",
      "Downloaded 5324800 of 5344522 bytes (99.6%,    0.0s remaining)\r",
      "Downloaded 5344522 of 5344522 bytes (100.0%,    0.0s remaining) ...done. (2 seconds, 0 min)\n"
     ]
    },
    {
     "name": "stdout",
     "output_type": "stream",
     "text": [
      "Downloading data from https://osf.io/download/5c8ff3a12286e80017c41a48/ ...\n"
     ]
    },
    {
     "name": "stderr",
     "output_type": "stream",
     "text": [
      "\r",
      "Downloaded 68723 of 68723 bytes (100.0%,    0.0s remaining) ...done. (1 seconds, 0 min)\n"
     ]
    },
    {
     "name": "stdout",
     "output_type": "stream",
     "text": [
      "Downloading data from https://osf.io/download/5c8ff3a12286e80016c3c2fc/ ...\n"
     ]
    },
    {
     "name": "stderr",
     "output_type": "stream",
     "text": [
      "\r",
      "Downloaded 5144576 of 6235792 bytes (82.5%,    0.2s remaining)\r",
      "Downloaded 6235792 of 6235792 bytes (100.0%,    0.0s remaining) ...done. (2 seconds, 0 min)\n"
     ]
    },
    {
     "name": "stdout",
     "output_type": "stream",
     "text": [
      "Downloading data from https://osf.io/download/5c8ff39fa743a90018606e2f/ ...\n"
     ]
    },
    {
     "name": "stderr",
     "output_type": "stream",
     "text": [
      "\r",
      "Downloaded 68617 of 68617 bytes (100.0%,    0.0s remaining) ...done. (2 seconds, 0 min)\n"
     ]
    },
    {
     "name": "stdout",
     "output_type": "stream",
     "text": [
      "Downloading data from https://osf.io/download/5c8ff3a34712b4001a3b55a3/ ...\n"
     ]
    },
    {
     "name": "stderr",
     "output_type": "stream",
     "text": [
      "\r",
      "Downloaded 5259264 of 5622722 bytes (93.5%,    0.1s remaining)\r",
      "Downloaded 5622722 of 5622722 bytes (100.0%,    0.0s remaining) ...done. (2 seconds, 0 min)\n"
     ]
    },
    {
     "name": "stdout",
     "output_type": "stream",
     "text": [
      "Downloading data from https://osf.io/download/5cb4703439926900160f6b43/ ...\n"
     ]
    },
    {
     "name": "stderr",
     "output_type": "stream",
     "text": [
      "\r",
      "Downloaded 68395 of 68395 bytes (100.0%,    0.0s remaining) ...done. (1 seconds, 0 min)\n"
     ]
    },
    {
     "name": "stdout",
     "output_type": "stream",
     "text": [
      "Downloading data from https://osf.io/download/5cb46e40f2be3c001801f77f/ ...\n"
     ]
    },
    {
     "name": "stderr",
     "output_type": "stream",
     "text": [
      "\r",
      "Downloaded 5029888 of 5926863 bytes (84.9%,    0.2s remaining)\r",
      "Downloaded 5926863 of 5926863 bytes (100.0%,    0.0s remaining) ...done. (2 seconds, 0 min)\n"
     ]
    },
    {
     "name": "stdout",
     "output_type": "stream",
     "text": [
      "Downloading data from https://osf.io/download/5c8ff3a34712b400193b5b92/ ...\n"
     ]
    },
    {
     "name": "stderr",
     "output_type": "stream",
     "text": [
      "\r",
      "Downloaded 67223 of 67223 bytes (100.0%,    0.0s remaining) ...done. (1 seconds, 0 min)\n"
     ]
    },
    {
     "name": "stdout",
     "output_type": "stream",
     "text": [
      "Downloading data from https://osf.io/download/5c8ff3a84712b400183b7048/ ...\n"
     ]
    },
    {
     "name": "stderr",
     "output_type": "stream",
     "text": [
      "\r",
      "Downloaded 5185536 of 5552738 bytes (93.4%,    0.1s remaining)\r",
      "Downloaded 5552738 of 5552738 bytes (100.0%,    0.0s remaining) ...done. (3 seconds, 0 min)\n"
     ]
    },
    {
     "name": "stdout",
     "output_type": "stream",
     "text": [
      "Downloading data from https://osf.io/download/5cb47020f2be3c0019030968/ ...\n"
     ]
    },
    {
     "name": "stderr",
     "output_type": "stream",
     "text": [
      "\r",
      "Downloaded 68139 of 68139 bytes (100.0%,    0.0s remaining) ...done. (1 seconds, 0 min)\n"
     ]
    },
    {
     "name": "stdout",
     "output_type": "stream",
     "text": [
      "Downloading data from https://osf.io/download/5cb46e6f353c58001a9b3311/ ...\n"
     ]
    },
    {
     "name": "stderr",
     "output_type": "stream",
     "text": [
      "Downloaded 6178036 of 6178036 bytes (100.0%,    0.0s remaining) ...done. (3 seconds, 0 min)\n"
     ]
    },
    {
     "name": "stdout",
     "output_type": "stream",
     "text": [
      "Downloading data from https://osf.io/download/5c8ff3a72286e80017c41a54/ ...\n"
     ]
    },
    {
     "name": "stderr",
     "output_type": "stream",
     "text": [
      "\r",
      "Downloaded 67858 of 67858 bytes (100.0%,    0.0s remaining) ...done. (1 seconds, 0 min)\n"
     ]
    },
    {
     "name": "stdout",
     "output_type": "stream",
     "text": [
      "Downloading data from https://osf.io/download/5c8ff3a7a743a90018606e42/ ...\n"
     ]
    },
    {
     "name": "stderr",
     "output_type": "stream",
     "text": [
      "\r",
      "Downloaded 5251072 of 5978758 bytes (87.8%,    0.1s remaining)\r",
      "Downloaded 5978758 of 5978758 bytes (100.0%,    0.0s remaining) ...done. (2 seconds, 0 min)\n"
     ]
    },
    {
     "name": "stdout",
     "output_type": "stream",
     "text": [
      "Downloading data from https://osf.io/download/5cb4702639926900190faf1d/ ...\n"
     ]
    },
    {
     "name": "stderr",
     "output_type": "stream",
     "text": [
      "\r",
      "Downloaded 68251 of 68251 bytes (100.0%,    0.0s remaining) ...done. (1 seconds, 0 min)\n"
     ]
    },
    {
     "name": "stdout",
     "output_type": "stream",
     "text": [
      "Downloading data from https://osf.io/download/5cb46e3f353c5800199ac787/ ...\n"
     ]
    },
    {
     "name": "stderr",
     "output_type": "stream",
     "text": [
      "\r",
      "Downloaded 4808704 of 5920556 bytes (81.2%,    0.2s remaining)\r",
      "Downloaded 5920556 of 5920556 bytes (100.0%,    0.0s remaining) ...done. (2 seconds, 0 min)\n"
     ]
    },
    {
     "name": "stdout",
     "output_type": "stream",
     "text": [
      "Downloading data from https://osf.io/download/5cb47049353c5800199ac9b4/ ...\n"
     ]
    },
    {
     "name": "stderr",
     "output_type": "stream",
     "text": [
      "\r",
      "Downloaded 68615 of 68615 bytes (100.0%,    0.0s remaining) ...done. (1 seconds, 0 min)\n"
     ]
    },
    {
     "name": "stdout",
     "output_type": "stream",
     "text": [
      "Downloading data from https://osf.io/download/5cb46eaa353c58001c9abebb/ ...\n"
     ]
    },
    {
     "name": "stderr",
     "output_type": "stream",
     "text": [
      "Downloaded 6832999 of 6832999 bytes (100.0%,    0.0s remaining) ...done. (2 seconds, 0 min)\n"
     ]
    },
    {
     "name": "stdout",
     "output_type": "stream",
     "text": [
      "Downloading data from https://osf.io/download/5c8ff3a74712b4001a3b55ad/ ...\n"
     ]
    },
    {
     "name": "stderr",
     "output_type": "stream",
     "text": [
      "\r",
      "Downloaded 67831 of 67831 bytes (100.0%,    0.0s remaining) ...done. (2 seconds, 0 min)\n"
     ]
    },
    {
     "name": "stdout",
     "output_type": "stream",
     "text": [
      "Downloading data from https://osf.io/download/5c8ff3a72286e80017c41a59/ ...\n"
     ]
    },
    {
     "name": "stderr",
     "output_type": "stream",
     "text": [
      "\r",
      "Downloaded 5054464 of 6033214 bytes (83.8%,    0.2s remaining)\r",
      "Downloaded 6033214 of 6033214 bytes (100.0%,    0.0s remaining) ...done. (2 seconds, 0 min)\n"
     ]
    },
    {
     "name": "stdout",
     "output_type": "stream",
     "text": [
      "Downloading data from https://osf.io/download/5c8ff3aa4712b400183b704d/ ...\n"
     ]
    },
    {
     "name": "stderr",
     "output_type": "stream",
     "text": [
      "\r",
      "Downloaded 67779 of 67779 bytes (100.0%,    0.0s remaining) ...done. (1 seconds, 0 min)\n"
     ]
    },
    {
     "name": "stdout",
     "output_type": "stream",
     "text": [
      "Downloading data from https://osf.io/download/5c8ff3ac4712b4001a3b55b7/ ...\n"
     ]
    },
    {
     "name": "stderr",
     "output_type": "stream",
     "text": [
      "Downloaded 5893493 of 5893493 bytes (100.0%,    0.0s remaining) ...done. (2 seconds, 0 min)\n"
     ]
    },
    {
     "name": "stdout",
     "output_type": "stream",
     "text": [
      "Downloading data from https://osf.io/download/5cb47051f2be3c001601df24/ ...\n"
     ]
    },
    {
     "name": "stderr",
     "output_type": "stream",
     "text": [
      "\r",
      "Downloaded 68790 of 68790 bytes (100.0%,    0.0s remaining) ...done. (1 seconds, 0 min)\n"
     ]
    },
    {
     "name": "stdout",
     "output_type": "stream",
     "text": [
      "Downloading data from https://osf.io/download/5cb46e12f2be3c001801f75e/ ...\n"
     ]
    },
    {
     "name": "stderr",
     "output_type": "stream",
     "text": [
      "\r",
      "Downloaded 5300224 of 5559817 bytes (95.3%,    0.0s remaining)\r",
      "Downloaded 5559817 of 5559817 bytes (100.0%,    0.0s remaining) ...done. (2 seconds, 0 min)\n"
     ]
    },
    {
     "name": "stdout",
     "output_type": "stream",
     "text": [
      "Downloading data from https://osf.io/download/5c8ff3aca743a9001660a063/ ...\n"
     ]
    },
    {
     "name": "stderr",
     "output_type": "stream",
     "text": [
      "\r",
      "Downloaded 68280 of 68280 bytes (100.0%,    0.0s remaining) ...done. (1 seconds, 0 min)\n"
     ]
    },
    {
     "name": "stdout",
     "output_type": "stream",
     "text": [
      "Downloading data from https://osf.io/download/5c8ff3ac4712b400183b7051/ ...\n"
     ]
    },
    {
     "name": "stderr",
     "output_type": "stream",
     "text": [
      "\r",
      "Downloaded 5210112 of 6121201 bytes (85.1%,    0.2s remaining)\r",
      "Downloaded 6121201 of 6121201 bytes (100.0%,    0.0s remaining) ...done. (3 seconds, 0 min)\n"
     ]
    },
    {
     "name": "stdout",
     "output_type": "stream",
     "text": [
      "Downloading data from https://osf.io/download/5cb47032a3bc970019f07386/ ...\n"
     ]
    },
    {
     "name": "stderr",
     "output_type": "stream",
     "text": [
      "\r",
      "Downloaded 68388 of 68388 bytes (100.0%,    0.0s remaining) ...done. (1 seconds, 0 min)\n"
     ]
    },
    {
     "name": "stdout",
     "output_type": "stream",
     "text": [
      "Downloading data from https://osf.io/download/5cb46e42353c58001b9cb311/ ...\n"
     ]
    },
    {
     "name": "stderr",
     "output_type": "stream",
     "text": [
      "\r",
      "Downloaded 5029888 of 5898601 bytes (85.3%,    0.2s remaining)\r",
      "Downloaded 5898601 of 5898601 bytes (100.0%,    0.0s remaining) ...done. (2 seconds, 0 min)\n"
     ]
    },
    {
     "name": "stdout",
     "output_type": "stream",
     "text": [
      "Downloading data from https://osf.io/download/5cb47036f2be3c001801fa3d/ ...\n"
     ]
    },
    {
     "name": "stderr",
     "output_type": "stream",
     "text": [
      "\r",
      "Downloaded 68421 of 68421 bytes (100.0%,    0.0s remaining) ...done. (1 seconds, 0 min)\n"
     ]
    },
    {
     "name": "stdout",
     "output_type": "stream",
     "text": [
      "Downloading data from https://osf.io/download/5cb46e6539926900190fad0c/ ...\n"
     ]
    },
    {
     "name": "stderr",
     "output_type": "stream",
     "text": [
      "Downloaded 6155053 of 6155053 bytes (100.0%,    0.0s remaining) ...done. (3 seconds, 0 min)\n"
     ]
    },
    {
     "name": "stdout",
     "output_type": "stream",
     "text": [
      "Downloading data from https://osf.io/download/5cb47057353c58001a9b353f/ ...\n"
     ]
    },
    {
     "name": "stderr",
     "output_type": "stream",
     "text": [
      "\r",
      "Downloaded 69778 of 69778 bytes (100.0%,    0.0s remaining) ...done. (1 seconds, 0 min)\n"
     ]
    },
    {
     "name": "stdout",
     "output_type": "stream",
     "text": [
      "Downloading data from https://osf.io/download/5cb46ea4353c58001b9cb3a6/ ...\n"
     ]
    },
    {
     "name": "stderr",
     "output_type": "stream",
     "text": [
      "Downloaded 6826881 of 6826881 bytes (100.0%,    0.0s remaining) ...done. (2 seconds, 0 min)\n"
     ]
    },
    {
     "name": "stdout",
     "output_type": "stream",
     "text": [
      "Downloading data from https://osf.io/download/5cb4703af2be3c001601def7/ ...\n"
     ]
    },
    {
     "name": "stderr",
     "output_type": "stream",
     "text": [
      "\r",
      "Downloaded 68481 of 68481 bytes (100.0%,    0.0s remaining) ...done. (1 seconds, 0 min)\n"
     ]
    },
    {
     "name": "stdout",
     "output_type": "stream",
     "text": [
      "Downloading data from https://osf.io/download/5cb46e51f2be3c001801f78e/ ...\n"
     ]
    },
    {
     "name": "stderr",
     "output_type": "stream",
     "text": [
      "Downloaded 6022319 of 6022319 bytes (100.0%,    0.0s remaining) ...done. (3 seconds, 0 min)\n"
     ]
    },
    {
     "name": "stdout",
     "output_type": "stream",
     "text": [
      "Downloading data from https://osf.io/download/5c8ff3ae4712b400183b7055/ ...\n"
     ]
    },
    {
     "name": "stderr",
     "output_type": "stream",
     "text": [
      "\r",
      "Downloaded 68455 of 68455 bytes (100.0%,    0.0s remaining) ...done. (1 seconds, 0 min)\n"
     ]
    },
    {
     "name": "stdout",
     "output_type": "stream",
     "text": [
      "Downloading data from https://osf.io/download/5c8ff3af2286e80018c3e3c0/ ...\n"
     ]
    },
    {
     "name": "stderr",
     "output_type": "stream",
     "text": [
      "Downloaded 6569115 of 6569115 bytes (100.0%,    0.0s remaining) ...done. (3 seconds, 0 min)\n"
     ]
    },
    {
     "name": "stdout",
     "output_type": "stream",
     "text": [
      "Downloading data from https://osf.io/download/5c8ff3b02286e80018c3e3c4/ ...\n"
     ]
    },
    {
     "name": "stderr",
     "output_type": "stream",
     "text": [
      "\r",
      "Downloaded 68536 of 68536 bytes (100.0%,    0.0s remaining) ...done. (1 seconds, 0 min)\n"
     ]
    },
    {
     "name": "stdout",
     "output_type": "stream",
     "text": [
      "Downloading data from https://osf.io/download/5c8ff3b14712b400183b705a/ ...\n"
     ]
    },
    {
     "name": "stderr",
     "output_type": "stream",
     "text": [
      "Downloaded 6334175 of 6334175 bytes (100.0%,    0.0s remaining) ...done. (3 seconds, 0 min)\n"
     ]
    },
    {
     "name": "stdout",
     "output_type": "stream",
     "text": [
      "Downloading data from https://osf.io/download/5cb47029f2be3c0019030994/ ...\n"
     ]
    },
    {
     "name": "stderr",
     "output_type": "stream",
     "text": [
      "\r",
      "Downloaded 68284 of 68284 bytes (100.0%,    0.0s remaining) ...done. (1 seconds, 0 min)\n"
     ]
    },
    {
     "name": "stdout",
     "output_type": "stream",
     "text": [
      "Downloading data from https://osf.io/download/5cb46e17f2be3c00190305da/ ...\n"
     ]
    },
    {
     "name": "stderr",
     "output_type": "stream",
     "text": [
      "\r",
      "Downloaded 5201920 of 5691399 bytes (91.4%,    0.1s remaining)\r",
      "Downloaded 5691399 of 5691399 bytes (100.0%,    0.0s remaining) ...done. (2 seconds, 0 min)\n"
     ]
    },
    {
     "name": "stdout",
     "output_type": "stream",
     "text": [
      "Downloading data from https://osf.io/download/5cb47047f2be3c0017057034/ ...\n"
     ]
    },
    {
     "name": "stderr",
     "output_type": "stream",
     "text": [
      "\r",
      "Downloaded 68556 of 68556 bytes (100.0%,    0.0s remaining) ...done. (1 seconds, 0 min)\n"
     ]
    },
    {
     "name": "stdout",
     "output_type": "stream",
     "text": [
      "Downloading data from https://osf.io/download/5cb46e23a3bc970018f1fa00/ ...\n"
     ]
    },
    {
     "name": "stderr",
     "output_type": "stream",
     "text": [
      "\r",
      "Downloaded 5275648 of 5800254 bytes (91.0%,    0.1s remaining)\r",
      "Downloaded 5800254 of 5800254 bytes (100.0%,    0.0s remaining) ...done. (3 seconds, 0 min)\n"
     ]
    },
    {
     "name": "stdout",
     "output_type": "stream",
     "text": [
      "Downloading data from https://osf.io/download/5c8ff3b12286e80016c3c30f/ ...\n"
     ]
    },
    {
     "name": "stderr",
     "output_type": "stream",
     "text": [
      "\r",
      "Downloaded 67258 of 67258 bytes (100.0%,    0.0s remaining) ...done. (2 seconds, 0 min)\n"
     ]
    },
    {
     "name": "stdout",
     "output_type": "stream",
     "text": [
      "Downloading data from https://osf.io/download/5c8ff3b34712b400183b7060/ ...\n"
     ]
    },
    {
     "name": "stderr",
     "output_type": "stream",
     "text": [
      "\r",
      "Downloaded 5218304 of 5839012 bytes (89.4%,    0.1s remaining)\r",
      "Downloaded 5839012 of 5839012 bytes (100.0%,    0.0s remaining) ...done. (2 seconds, 0 min)\n"
     ]
    },
    {
     "name": "stdout",
     "output_type": "stream",
     "text": [
      "Downloading data from https://osf.io/download/5c8ff3b2a743a9001660a07a/ ...\n"
     ]
    },
    {
     "name": "stderr",
     "output_type": "stream",
     "text": [
      "\r",
      "Downloaded 68515 of 68515 bytes (100.0%,    0.0s remaining) ...done. (2 seconds, 0 min)\n"
     ]
    },
    {
     "name": "stdout",
     "output_type": "stream",
     "text": [
      "Downloading data from https://osf.io/download/5c8ff3b54712b400193b5ba3/ ...\n"
     ]
    },
    {
     "name": "stderr",
     "output_type": "stream",
     "text": [
      "\r",
      "Downloaded 4841472 of 5764489 bytes (84.0%,    0.2s remaining)\r",
      "Downloaded 5764489 of 5764489 bytes (100.0%,    0.0s remaining) ...done. (3 seconds, 0 min)\n"
     ]
    },
    {
     "name": "stdout",
     "output_type": "stream",
     "text": [
      "Downloading data from https://osf.io/download/5c9e99d006cd47001a5ab599/ ...\n"
     ]
    },
    {
     "name": "stderr",
     "output_type": "stream",
     "text": [
      "\r",
      "Downloaded 68640 of 68640 bytes (100.0%,    0.0s remaining) ...done. (1 seconds, 0 min)\n"
     ]
    },
    {
     "name": "stdout",
     "output_type": "stream",
     "text": [
      "Downloading data from https://osf.io/download/5c8ff3b62286e80016c3c31b/ ...\n"
     ]
    },
    {
     "name": "stderr",
     "output_type": "stream",
     "text": [
      "Downloaded 6539240 of 6539240 bytes (100.0%,    0.0s remaining) ...done. (3 seconds, 0 min)\n"
     ]
    },
    {
     "name": "stdout",
     "output_type": "stream",
     "text": [
      "Downloading data from https://osf.io/download/5cb47011f2be3c001903092f/ ...\n"
     ]
    },
    {
     "name": "stderr",
     "output_type": "stream",
     "text": [
      "\r",
      "Downloaded 67662 of 67662 bytes (100.0%,    0.0s remaining) ...done. (2 seconds, 0 min)\n"
     ]
    },
    {
     "name": "stdout",
     "output_type": "stream",
     "text": [
      "Downloading data from https://osf.io/download/5cb46e54353c58001a9b32f3/ ...\n"
     ]
    },
    {
     "name": "stderr",
     "output_type": "stream",
     "text": [
      "\r",
      "Downloaded 5234688 of 6032799 bytes (86.8%,    0.2s remaining)\r",
      "Downloaded 6032799 of 6032799 bytes (100.0%,    0.0s remaining) ...done. (2 seconds, 0 min)\n"
     ]
    },
    {
     "name": "stdout",
     "output_type": "stream",
     "text": [
      "Downloading data from https://osf.io/download/5c8ff3b72286e80017c41a88/ ...\n"
     ]
    },
    {
     "name": "stderr",
     "output_type": "stream",
     "text": [
      "\r",
      "Downloaded 68519 of 68519 bytes (100.0%,    0.0s remaining) ...done. (2 seconds, 0 min)\n"
     ]
    },
    {
     "name": "stdout",
     "output_type": "stream",
     "text": [
      "Downloading data from https://osf.io/download/5c8ff3b94712b4001a3b55bf/ ...\n"
     ]
    },
    {
     "name": "stderr",
     "output_type": "stream",
     "text": [
      "Downloaded 6186037 of 6186037 bytes (100.0%,    0.0s remaining) ...done. (2 seconds, 0 min)\n"
     ]
    },
    {
     "name": "stdout",
     "output_type": "stream",
     "text": [
      "Downloading data from https://osf.io/download/5cb47039a3bc970018f1fcbf/ ...\n"
     ]
    },
    {
     "name": "stderr",
     "output_type": "stream",
     "text": [
      "\r",
      "Downloaded 68462 of 68462 bytes (100.0%,    0.0s remaining) ...done. (1 seconds, 0 min)\n"
     ]
    },
    {
     "name": "stdout",
     "output_type": "stream",
     "text": [
      "Downloading data from https://osf.io/download/5cb46e983992690017108ed8/ ...\n"
     ]
    },
    {
     "name": "stderr",
     "output_type": "stream",
     "text": [
      "Downloaded 6320034 of 6320034 bytes (100.0%,    0.0s remaining) ...done. (2 seconds, 0 min)\n"
     ]
    },
    {
     "name": "stdout",
     "output_type": "stream",
     "text": [
      "Downloading data from https://osf.io/download/5c8ff3b92286e80017c41a8e/ ...\n"
     ]
    },
    {
     "name": "stderr",
     "output_type": "stream",
     "text": [
      "\r",
      "Downloaded 67845 of 67845 bytes (100.0%,    0.0s remaining) ...done. (2 seconds, 0 min)\n"
     ]
    },
    {
     "name": "stdout",
     "output_type": "stream",
     "text": [
      "Downloading data from https://osf.io/download/5c8ff3b92286e80018c3e3e0/ ...\n"
     ]
    },
    {
     "name": "stderr",
     "output_type": "stream",
     "text": [
      "\r",
      "Downloaded 5169152 of 5838968 bytes (88.5%,    0.1s remaining)\r",
      "Downloaded 5838968 of 5838968 bytes (100.0%,    0.0s remaining) ...done. (2 seconds, 0 min)\n"
     ]
    },
    {
     "name": "stdout",
     "output_type": "stream",
     "text": [
      "Downloading data from https://osf.io/download/5c8ff3ba2286e80016c3c325/ ...\n"
     ]
    },
    {
     "name": "stderr",
     "output_type": "stream",
     "text": [
      "\r",
      "Downloaded 67588 of 67588 bytes (100.0%,    0.0s remaining) ...done. (1 seconds, 0 min)\n"
     ]
    },
    {
     "name": "stdout",
     "output_type": "stream",
     "text": [
      "Downloading data from https://osf.io/download/5c8ff3bd2286e80017c41a9e/ ...\n"
     ]
    },
    {
     "name": "stderr",
     "output_type": "stream",
     "text": [
      "Downloaded 6354223 of 6354223 bytes (100.0%,    0.0s remaining) ...done. (3 seconds, 0 min)\n"
     ]
    },
    {
     "name": "stdout",
     "output_type": "stream",
     "text": [
      "Downloading data from https://osf.io/download/5cb4700bf2be3c001801f9c3/ ...\n"
     ]
    },
    {
     "name": "stderr",
     "output_type": "stream",
     "text": [
      "\r",
      "Downloaded 67283 of 67283 bytes (100.0%,    0.0s remaining) ...done. (1 seconds, 0 min)\n"
     ]
    },
    {
     "name": "stdout",
     "output_type": "stream",
     "text": [
      "Downloading data from https://osf.io/download/5cb46e22f2be3c0017056b52/ ...\n"
     ]
    },
    {
     "name": "stderr",
     "output_type": "stream",
     "text": [
      "\r",
      "Downloaded 5111808 of 5765351 bytes (88.7%,    0.1s remaining)\r",
      "Downloaded 5765351 of 5765351 bytes (100.0%,    0.0s remaining) ...done. (3 seconds, 0 min)\n"
     ]
    },
    {
     "name": "stdout",
     "output_type": "stream",
     "text": [
      "Downloading data from https://osf.io/download/5cb47019a3bc970017efe457/ ...\n"
     ]
    },
    {
     "name": "stderr",
     "output_type": "stream",
     "text": [
      "\r",
      "Downloaded 68014 of 68014 bytes (100.0%,    0.0s remaining) ...done. (1 seconds, 0 min)\n"
     ]
    },
    {
     "name": "stdout",
     "output_type": "stream",
     "text": [
      "Downloading data from https://osf.io/download/5cb46e1fa3bc970018f1f9f5/ ...\n"
     ]
    },
    {
     "name": "stderr",
     "output_type": "stream",
     "text": [
      "\r",
      "Downloaded 5160960 of 5734693 bytes (90.0%,    0.1s remaining)\r",
      "Downloaded 5734693 of 5734693 bytes (100.0%,    0.0s remaining) ...done. (2 seconds, 0 min)\n"
     ]
    },
    {
     "name": "stdout",
     "output_type": "stream",
     "text": [
      "Downloading data from https://osf.io/download/5cb470313992690018133d6d/ ...\n"
     ]
    },
    {
     "name": "stderr",
     "output_type": "stream",
     "text": [
      "\r",
      "Downloaded 68343 of 68343 bytes (100.0%,    0.0s remaining) ...done. (2 seconds, 0 min)\n"
     ]
    },
    {
     "name": "stdout",
     "output_type": "stream",
     "text": [
      "Downloading data from https://osf.io/download/5cb46e85f2be3c001601dc65/ ...\n"
     ]
    },
    {
     "name": "stderr",
     "output_type": "stream",
     "text": [
      "Downloaded 6239473 of 6239473 bytes (100.0%,    0.0s remaining) ...done. (3 seconds, 0 min)\n"
     ]
    },
    {
     "name": "stdout",
     "output_type": "stream",
     "text": [
      "Downloading data from https://osf.io/download/5c8ff3be4712b400193b5bab/ ...\n"
     ]
    },
    {
     "name": "stderr",
     "output_type": "stream",
     "text": [
      "\r",
      "Downloaded 68270 of 68270 bytes (100.0%,    0.0s remaining) ...done. (1 seconds, 0 min)\n"
     ]
    },
    {
     "name": "stdout",
     "output_type": "stream",
     "text": [
      "Downloading data from https://osf.io/download/5c8ff3bf2286e80017c41aa8/ ...\n"
     ]
    },
    {
     "name": "stderr",
     "output_type": "stream",
     "text": [
      "Downloaded 6195387 of 6195387 bytes (100.0%,    0.0s remaining) ...done. (2 seconds, 0 min)\n"
     ]
    },
    {
     "name": "stdout",
     "output_type": "stream",
     "text": [
      "Downloading data from https://osf.io/download/5c8ff3be4712b4001a3b55c4/ ...\n"
     ]
    },
    {
     "name": "stderr",
     "output_type": "stream",
     "text": [
      "\r",
      "Downloaded 67193 of 67193 bytes (100.0%,    0.0s remaining) ...done. (1 seconds, 0 min)\n"
     ]
    },
    {
     "name": "stdout",
     "output_type": "stream",
     "text": [
      "Downloading data from https://osf.io/download/5c8ff3c12286e80017c41ab1/ ...\n"
     ]
    },
    {
     "name": "stderr",
     "output_type": "stream",
     "text": [
      "\r",
      "Downloaded 5332992 of 5972457 bytes (89.3%,    0.1s remaining)\r",
      "Downloaded 5972457 of 5972457 bytes (100.0%,    0.0s remaining) ...done. (3 seconds, 0 min)\n"
     ]
    },
    {
     "name": "stdout",
     "output_type": "stream",
     "text": [
      "Downloading data from https://osf.io/download/5c8ff3c34712b400173b5362/ ...\n"
     ]
    },
    {
     "name": "stderr",
     "output_type": "stream",
     "text": [
      "\r",
      "Downloaded 68571 of 68571 bytes (100.0%,    0.0s remaining) ...done. (1 seconds, 0 min)\n"
     ]
    },
    {
     "name": "stdout",
     "output_type": "stream",
     "text": [
      "Downloading data from https://osf.io/download/5c8ff3c42286e80017c41ab6/ ...\n"
     ]
    },
    {
     "name": "stderr",
     "output_type": "stream",
     "text": [
      "\r",
      "Downloaded 4546560 of 5660892 bytes (80.3%,    0.2s remaining)\r",
      "Downloaded 5660892 of 5660892 bytes (100.0%,    0.0s remaining) ...done. (2 seconds, 0 min)\n"
     ]
    },
    {
     "name": "stdout",
     "output_type": "stream",
     "text": [
      "Downloading data from https://osf.io/download/5cb47010f2be3c0017056f80/ ...\n"
     ]
    },
    {
     "name": "stderr",
     "output_type": "stream",
     "text": [
      "\r",
      "Downloaded 67692 of 67692 bytes (100.0%,    0.0s remaining) ...done. (1 seconds, 0 min)\n"
     ]
    },
    {
     "name": "stdout",
     "output_type": "stream",
     "text": [
      "Downloading data from https://osf.io/download/5cb46ea03992690017108ee8/ ...\n"
     ]
    },
    {
     "name": "stderr",
     "output_type": "stream",
     "text": [
      "\r",
      "Downloaded 5029888 of 6337948 bytes (79.4%,    0.3s remaining)\r",
      "Downloaded 6337948 of 6337948 bytes (100.0%,    0.0s remaining) ...done. (2 seconds, 0 min)\n"
     ]
    },
    {
     "name": "stdout",
     "output_type": "stream",
     "text": [
      "Downloading data from https://osf.io/download/5cb47022f2be3c0017056fb9/ ...\n"
     ]
    },
    {
     "name": "stderr",
     "output_type": "stream",
     "text": [
      "\r",
      "Downloaded 68189 of 68189 bytes (100.0%,    0.0s remaining) ...done. (2 seconds, 0 min)\n"
     ]
    },
    {
     "name": "stdout",
     "output_type": "stream",
     "text": [
      "Downloading data from https://osf.io/download/5cb46e30353c58001b9cb2f5/ ...\n"
     ]
    },
    {
     "name": "stderr",
     "output_type": "stream",
     "text": [
      "\r",
      "Downloaded 5005312 of 5875437 bytes (85.2%,    0.2s remaining)\r",
      "Downloaded 5875437 of 5875437 bytes (100.0%,    0.0s remaining) ...done. (3 seconds, 0 min)\n"
     ]
    },
    {
     "name": "stdout",
     "output_type": "stream",
     "text": [
      "Downloading data from https://osf.io/download/5c8ff3c44712b400183b7071/ ...\n"
     ]
    },
    {
     "name": "stderr",
     "output_type": "stream",
     "text": [
      "\r",
      "Downloaded 68309 of 68309 bytes (100.0%,    0.0s remaining) ...done. (1 seconds, 0 min)\n"
     ]
    },
    {
     "name": "stdout",
     "output_type": "stream",
     "text": [
      "Downloading data from https://osf.io/download/5c8ff3c42286e80017c41abc/ ...\n"
     ]
    },
    {
     "name": "stderr",
     "output_type": "stream",
     "text": [
      "\r",
      "Downloaded 5177344 of 6024712 bytes (85.9%,    0.2s remaining)\r",
      "Downloaded 6024712 of 6024712 bytes (100.0%,    0.0s remaining) ...done. (2 seconds, 0 min)\n"
     ]
    },
    {
     "name": "stdout",
     "output_type": "stream",
     "text": [
      "Downloading data from https://osf.io/download/5cb4700cf2be3c0017056f70/ ...\n"
     ]
    },
    {
     "name": "stderr",
     "output_type": "stream",
     "text": [
      "\r",
      "Downloaded 67372 of 67372 bytes (100.0%,    0.0s remaining) ...done. (1 seconds, 0 min)\n"
     ]
    },
    {
     "name": "stdout",
     "output_type": "stream",
     "text": [
      "Downloading data from https://osf.io/download/5cb46e4fa3bc970019f0713b/ ...\n"
     ]
    },
    {
     "name": "stderr",
     "output_type": "stream",
     "text": [
      "\r",
      "Downloaded 4685824 of 5943254 bytes (78.8%,    0.3s remaining)\r",
      "Downloaded 5943254 of 5943254 bytes (100.0%,    0.0s remaining) ...done. (2 seconds, 0 min)\n"
     ]
    },
    {
     "name": "stdout",
     "output_type": "stream",
     "text": [
      "Downloading data from https://osf.io/download/5cb4702af2be3c001601debb/ ...\n"
     ]
    },
    {
     "name": "stderr",
     "output_type": "stream",
     "text": [
      "\r",
      "Downloaded 68290 of 68290 bytes (100.0%,    0.0s remaining) ...done. (2 seconds, 0 min)\n"
     ]
    },
    {
     "name": "stdout",
     "output_type": "stream",
     "text": [
      "Downloading data from https://osf.io/download/5cb46e75353c58001a9b331b/ ...\n"
     ]
    },
    {
     "name": "stderr",
     "output_type": "stream",
     "text": [
      "\r",
      "Downloaded 5251072 of 6195389 bytes (84.8%,    0.2s remaining)\r",
      "Downloaded 6195389 of 6195389 bytes (100.0%,    0.0s remaining) ...done. (2 seconds, 0 min)\n"
     ]
    },
    {
     "name": "stdout",
     "output_type": "stream",
     "text": [
      "Downloading data from https://osf.io/download/5c8ff3c7a743a90018606e5f/ ...\n"
     ]
    },
    {
     "name": "stderr",
     "output_type": "stream",
     "text": [
      "\r",
      "Downloaded 68732 of 68732 bytes (100.0%,    0.0s remaining) ...done. (1 seconds, 0 min)\n"
     ]
    },
    {
     "name": "stdout",
     "output_type": "stream",
     "text": [
      "Downloading data from https://osf.io/download/5c8ff3c9a743a90017608120/ ...\n"
     ]
    },
    {
     "name": "stderr",
     "output_type": "stream",
     "text": [
      "Downloaded 6295717 of 6295717 bytes (100.0%,    0.0s remaining) ...done. (3 seconds, 0 min)\n"
     ]
    },
    {
     "name": "stdout",
     "output_type": "stream",
     "text": [
      "Downloading data from https://osf.io/download/5cb47019f2be3c0019030945/ ...\n"
     ]
    },
    {
     "name": "stderr",
     "output_type": "stream",
     "text": [
      "\r",
      "Downloaded 67967 of 67967 bytes (100.0%,    0.0s remaining) ...done. (1 seconds, 0 min)\n"
     ]
    },
    {
     "name": "stdout",
     "output_type": "stream",
     "text": [
      "Downloading data from https://osf.io/download/5cb46e5ba3bc97001aeff72b/ ...\n"
     ]
    },
    {
     "name": "stderr",
     "output_type": "stream",
     "text": [
      "Downloaded 6061903 of 6061903 bytes (100.0%,    0.0s remaining) ...done. (3 seconds, 0 min)\n"
     ]
    },
    {
     "name": "stdout",
     "output_type": "stream",
     "text": [
      "Downloading data from https://osf.io/download/5cb4702cf2be3c0017056fdb/ ...\n"
     ]
    },
    {
     "name": "stderr",
     "output_type": "stream",
     "text": [
      "\r",
      "Downloaded 68313 of 68313 bytes (100.0%,    0.0s remaining) ...done. (2 seconds, 0 min)\n"
     ]
    },
    {
     "name": "stdout",
     "output_type": "stream",
     "text": [
      "Downloading data from https://osf.io/download/5cb46e4b353c5800199ac78f/ ...\n"
     ]
    },
    {
     "name": "stderr",
     "output_type": "stream",
     "text": [
      "\r",
      "Downloaded 4890624 of 5995648 bytes (81.6%,    0.2s remaining)\r",
      "Downloaded 5995648 of 5995648 bytes (100.0%,    0.0s remaining) ...done. (2 seconds, 0 min)\n"
     ]
    },
    {
     "name": "stdout",
     "output_type": "stream",
     "text": [
      "Downloading data from https://osf.io/download/5cb4701a39926900171090bb/ ...\n"
     ]
    },
    {
     "name": "stderr",
     "output_type": "stream",
     "text": [
      "\r",
      "Downloaded 68057 of 68057 bytes (100.0%,    0.0s remaining) ...done. (1 seconds, 0 min)\n"
     ]
    },
    {
     "name": "stdout",
     "output_type": "stream",
     "text": [
      "Downloading data from https://osf.io/download/5cb46ea7353c58001b9cb3ac/ ...\n"
     ]
    },
    {
     "name": "stderr",
     "output_type": "stream",
     "text": [
      "Downloaded 6737719 of 6737719 bytes (100.0%,    0.0s remaining) ...done. (2 seconds, 0 min)\n"
     ]
    },
    {
     "name": "stdout",
     "output_type": "stream",
     "text": [
      "Downloading data from https://osf.io/download/5cb47010a3bc970019f0735c/ ...\n"
     ]
    },
    {
     "name": "stderr",
     "output_type": "stream",
     "text": [
      "\r",
      "Downloaded 67555 of 67555 bytes (100.0%,    0.0s remaining) ...done. (2 seconds, 0 min)\n"
     ]
    },
    {
     "name": "stdout",
     "output_type": "stream",
     "text": [
      "Downloading data from https://osf.io/download/5cb46e8e3992690017108ed0/ ...\n"
     ]
    },
    {
     "name": "stderr",
     "output_type": "stream",
     "text": [
      "\r",
      "Downloaded 5079040 of 6270886 bytes (81.0%,    0.2s remaining)\r",
      "Downloaded 6270886 of 6270886 bytes (100.0%,    0.0s remaining) ...done. (3 seconds, 0 min)\n"
     ]
    },
    {
     "name": "stdout",
     "output_type": "stream",
     "text": [
      "Downloading data from https://osf.io/download/5cb470423992690018133d92/ ...\n"
     ]
    },
    {
     "name": "stderr",
     "output_type": "stream",
     "text": [
      "\r",
      "Downloaded 68526 of 68526 bytes (100.0%,    0.0s remaining) ...done. (1 seconds, 0 min)\n"
     ]
    },
    {
     "name": "stdout",
     "output_type": "stream",
     "text": [
      "Downloading data from https://osf.io/download/5cb46e46a3bc970018f1fa36/ ...\n"
     ]
    },
    {
     "name": "stderr",
     "output_type": "stream",
     "text": [
      "\r",
      "Downloaded 5128192 of 5940249 bytes (86.3%,    0.2s remaining)\r",
      "Downloaded 5940249 of 5940249 bytes (100.0%,    0.0s remaining) ...done. (3 seconds, 0 min)\n"
     ]
    },
    {
     "name": "stdout",
     "output_type": "stream",
     "text": [
      "Downloading data from https://osf.io/download/5cb4700df2be3c001801f9c8/ ...\n"
     ]
    },
    {
     "name": "stderr",
     "output_type": "stream",
     "text": [
      "\r",
      "Downloaded 67282 of 67282 bytes (100.0%,    0.0s remaining) ...done. (1 seconds, 0 min)\n"
     ]
    },
    {
     "name": "stdout",
     "output_type": "stream",
     "text": [
      "Downloading data from https://osf.io/download/5cb46e4f353c58001a9b32e9/ ...\n"
     ]
    },
    {
     "name": "stderr",
     "output_type": "stream",
     "text": [
      "\r",
      "Downloaded 5054464 of 6003779 bytes (84.2%,    0.2s remaining)\r",
      "Downloaded 6003779 of 6003779 bytes (100.0%,    0.0s remaining) ...done. (3 seconds, 0 min)\n"
     ]
    },
    {
     "name": "stdout",
     "output_type": "stream",
     "text": [
      "Downloading data from https://osf.io/download/5cb4702ff2be3c00190309b0/ ...\n"
     ]
    },
    {
     "name": "stderr",
     "output_type": "stream",
     "text": [
      "\r",
      "Downloaded 68368 of 68368 bytes (100.0%,    0.0s remaining) ...done. (1 seconds, 0 min)\n"
     ]
    },
    {
     "name": "stdout",
     "output_type": "stream",
     "text": [
      "Downloading data from https://osf.io/download/5cb46e8af2be3c0017056be0/ ...\n"
     ]
    },
    {
     "name": "stderr",
     "output_type": "stream",
     "text": [
      "Downloaded 6293437 of 6293437 bytes (100.0%,    0.0s remaining) ...done. (2 seconds, 0 min)\n"
     ]
    },
    {
     "name": "stdout",
     "output_type": "stream",
     "text": [
      "Downloading data from https://osf.io/download/5cb47047f2be3c001801fa64/ ...\n"
     ]
    },
    {
     "name": "stderr",
     "output_type": "stream",
     "text": [
      "\r",
      "Downloaded 68563 of 68563 bytes (100.0%,    0.0s remaining) ...done. (1 seconds, 0 min)\n"
     ]
    },
    {
     "name": "stdout",
     "output_type": "stream",
     "text": [
      "Downloading data from https://osf.io/download/5cb46ea43992690017108ef5/ ...\n"
     ]
    },
    {
     "name": "stderr",
     "output_type": "stream",
     "text": [
      "Downloaded 6383893 of 6383893 bytes (100.0%,    0.0s remaining) ...done. (3 seconds, 0 min)\n"
     ]
    },
    {
     "name": "stdout",
     "output_type": "stream",
     "text": [
      "Downloading data from https://osf.io/download/5c8ff3c94712b4001a3b55d3/ ...\n"
     ]
    },
    {
     "name": "stderr",
     "output_type": "stream",
     "text": [
      "\r",
      "Downloaded 67866 of 67866 bytes (100.0%,    0.0s remaining) ...done. (1 seconds, 0 min)\n"
     ]
    },
    {
     "name": "stdout",
     "output_type": "stream",
     "text": [
      "Downloading data from https://osf.io/download/5c8ff3c9a743a9001760811a/ ...\n"
     ]
    },
    {
     "name": "stderr",
     "output_type": "stream",
     "text": [
      "Downloaded 6057828 of 6057828 bytes (100.0%,    0.0s remaining) ...done. (2 seconds, 0 min)\n"
     ]
    },
    {
     "name": "stdout",
     "output_type": "stream",
     "text": [
      "Downloading data from https://osf.io/download/5c8ff3ca4712b400183b707a/ ...\n"
     ]
    },
    {
     "name": "stderr",
     "output_type": "stream",
     "text": [
      "\r",
      "Downloaded 68003 of 68003 bytes (100.0%,    0.0s remaining) ...done. (1 seconds, 0 min)\n"
     ]
    },
    {
     "name": "stdout",
     "output_type": "stream",
     "text": [
      "Downloading data from https://osf.io/download/5c8ff3cc2286e80017c41adc/ ...\n"
     ]
    },
    {
     "name": "stderr",
     "output_type": "stream",
     "text": [
      "\r",
      "Downloaded 4857856 of 6043299 bytes (80.4%,    0.2s remaining)\r",
      "Downloaded 6043299 of 6043299 bytes (100.0%,    0.0s remaining) ...done. (3 seconds, 0 min)\n"
     ]
    },
    {
     "name": "stdout",
     "output_type": "stream",
     "text": [
      "Downloading data from https://osf.io/download/5cb47027f2be3c0017056fd0/ ...\n"
     ]
    },
    {
     "name": "stderr",
     "output_type": "stream",
     "text": [
      "\r",
      "Downloaded 68254 of 68254 bytes (100.0%,    0.0s remaining) ...done. (2 seconds, 0 min)\n"
     ]
    },
    {
     "name": "stdout",
     "output_type": "stream",
     "text": [
      "Downloading data from https://osf.io/download/5cb46e38a3bc970018f1fa25/ ...\n"
     ]
    },
    {
     "name": "stderr",
     "output_type": "stream",
     "text": [
      "\r",
      "Downloaded 5029888 of 5910235 bytes (85.1%,    0.2s remaining)\r",
      "Downloaded 5910235 of 5910235 bytes (100.0%,    0.0s remaining) ...done. (2 seconds, 0 min)\n"
     ]
    },
    {
     "name": "stdout",
     "output_type": "stream",
     "text": [
      "Downloading data from https://osf.io/download/5cb47028f2be3c001801fa13/ ...\n"
     ]
    },
    {
     "name": "stderr",
     "output_type": "stream",
     "text": [
      "\r",
      "Downloaded 68261 of 68261 bytes (100.0%,    0.0s remaining) ...done. (1 seconds, 0 min)\n"
     ]
    },
    {
     "name": "stdout",
     "output_type": "stream",
     "text": [
      "Downloading data from https://osf.io/download/5cb46e2fa3bc970018f1fa11/ ...\n"
     ]
    },
    {
     "name": "stderr",
     "output_type": "stream",
     "text": [
      "\r",
      "Downloaded 4923392 of 5875145 bytes (83.8%,    0.2s remaining)\r",
      "Downloaded 5875145 of 5875145 bytes (100.0%,    0.0s remaining) ...done. (2 seconds, 0 min)\n"
     ]
    },
    {
     "name": "stdout",
     "output_type": "stream",
     "text": [
      "Downloading data from https://osf.io/download/5cb47050f2be3c0017057062/ ...\n"
     ]
    },
    {
     "name": "stderr",
     "output_type": "stream",
     "text": [
      "\r",
      "Downloaded 68988 of 68988 bytes (100.0%,    0.0s remaining) ...done. (1 seconds, 0 min)\n"
     ]
    },
    {
     "name": "stdout",
     "output_type": "stream",
     "text": [
      "Downloading data from https://osf.io/download/5cb46e77f2be3c001601dc4f/ ...\n"
     ]
    },
    {
     "name": "stderr",
     "output_type": "stream",
     "text": [
      "\r",
      "Downloaded 4964352 of 6180849 bytes (80.3%,    0.2s remaining)\r",
      "Downloaded 6180849 of 6180849 bytes (100.0%,    0.0s remaining) ...done. (2 seconds, 0 min)\n"
     ]
    },
    {
     "name": "stdout",
     "output_type": "stream",
     "text": [
      "Downloading data from https://osf.io/download/5cb4701e39926900171090c7/ ...\n"
     ]
    },
    {
     "name": "stderr",
     "output_type": "stream",
     "text": [
      "\r",
      "Downloaded 68093 of 68093 bytes (100.0%,    0.0s remaining) ...done. (1 seconds, 0 min)\n"
     ]
    },
    {
     "name": "stdout",
     "output_type": "stream",
     "text": [
      "Downloading data from https://osf.io/download/5cb46e82f2be3c001903063e/ ...\n"
     ]
    },
    {
     "name": "stderr",
     "output_type": "stream",
     "text": [
      "Downloaded 6214116 of 6214116 bytes (100.0%,    0.0s remaining) ...done. (2 seconds, 0 min)\n"
     ]
    },
    {
     "name": "stdout",
     "output_type": "stream",
     "text": [
      "Downloading data from https://osf.io/download/5cb47015f2be3c001801f9df/ ...\n"
     ]
    },
    {
     "name": "stderr",
     "output_type": "stream",
     "text": [
      "\r",
      "Downloaded 67752 of 67752 bytes (100.0%,    0.0s remaining) ...done. (2 seconds, 0 min)\n"
     ]
    },
    {
     "name": "stdout",
     "output_type": "stream",
     "text": [
      "Downloading data from https://osf.io/download/5cb46e8139926900160f698a/ ...\n"
     ]
    },
    {
     "name": "stderr",
     "output_type": "stream",
     "text": [
      "Downloaded 6236204 of 6236204 bytes (100.0%,    0.0s remaining) ...done. (2 seconds, 0 min)\n"
     ]
    },
    {
     "name": "stdout",
     "output_type": "stream",
     "text": [
      "Downloading data from https://osf.io/download/5cb47013f2be3c0019030935/ ...\n"
     ]
    },
    {
     "name": "stderr",
     "output_type": "stream",
     "text": [
      "\r",
      "Downloaded 67860 of 67860 bytes (100.0%,    0.0s remaining) ...done. (1 seconds, 0 min)\n"
     ]
    },
    {
     "name": "stdout",
     "output_type": "stream",
     "text": [
      "Downloading data from https://osf.io/download/5cb46e65353c58001b9cb346/ ...\n"
     ]
    },
    {
     "name": "stderr",
     "output_type": "stream",
     "text": [
      "Downloaded 6146714 of 6146714 bytes (100.0%,    0.0s remaining) ...done. (3 seconds, 0 min)\n"
     ]
    },
    {
     "name": "stdout",
     "output_type": "stream",
     "text": [
      "Downloading data from https://osf.io/download/5c8ff3cea743a90019606c9f/ ...\n"
     ]
    },
    {
     "name": "stderr",
     "output_type": "stream",
     "text": [
      "\r",
      "Downloaded 68272 of 68272 bytes (100.0%,    0.0s remaining) ...done. (2 seconds, 0 min)\n"
     ]
    },
    {
     "name": "stdout",
     "output_type": "stream",
     "text": [
      "Downloading data from https://osf.io/download/5c8ff3cea743a90018606e68/ ...\n"
     ]
    },
    {
     "name": "stderr",
     "output_type": "stream",
     "text": [
      "Downloaded 6031941 of 6031941 bytes (100.0%,    0.0s remaining) ...done. (3 seconds, 0 min)\n"
     ]
    },
    {
     "name": "stdout",
     "output_type": "stream",
     "text": [
      "Downloading data from https://osf.io/download/5cb47025f2be3c001801fa04/ ...\n"
     ]
    },
    {
     "name": "stderr",
     "output_type": "stream",
     "text": [
      "\r",
      "Downloaded 68243 of 68243 bytes (100.0%,    0.0s remaining) ...done. (2 seconds, 0 min)\n"
     ]
    },
    {
     "name": "stdout",
     "output_type": "stream",
     "text": [
      "Downloading data from https://osf.io/download/5cb46e09a3bc970018f1f9d8/ ...\n"
     ]
    },
    {
     "name": "stderr",
     "output_type": "stream",
     "text": [
      "\r",
      "Downloaded 5111808 of 5386122 bytes (94.9%,    0.1s remaining)\r",
      "Downloaded 5386122 of 5386122 bytes (100.0%,    0.0s remaining) ...done. (2 seconds, 0 min)\n"
     ]
    },
    {
     "name": "stdout",
     "output_type": "stream",
     "text": [
      "Downloading data from https://osf.io/download/5cb47044a3bc970018f1fccc/ ...\n"
     ]
    },
    {
     "name": "stderr",
     "output_type": "stream",
     "text": [
      "\r",
      "Downloaded 68517 of 68517 bytes (100.0%,    0.0s remaining) ...done. (1 seconds, 0 min)\n"
     ]
    },
    {
     "name": "stdout",
     "output_type": "stream",
     "text": [
      "Downloading data from https://osf.io/download/5cb46e29f2be3c0017056b6a/ ...\n"
     ]
    },
    {
     "name": "stderr",
     "output_type": "stream",
     "text": [
      "\r",
      "Downloaded 5160960 of 5825310 bytes (88.6%,    0.1s remaining)\r",
      "Downloaded 5825310 of 5825310 bytes (100.0%,    0.0s remaining) ...done. (2 seconds, 0 min)\n"
     ]
    },
    {
     "name": "stdout",
     "output_type": "stream",
     "text": [
      "Downloading data from https://osf.io/download/5cb47042f2be3c0017057025/ ...\n"
     ]
    },
    {
     "name": "stderr",
     "output_type": "stream",
     "text": [
      "\r",
      "Downloaded 68513 of 68513 bytes (100.0%,    0.0s remaining) ...done. (1 seconds, 0 min)\n"
     ]
    },
    {
     "name": "stdout",
     "output_type": "stream",
     "text": [
      "Downloading data from https://osf.io/download/5cb46e64a3bc970019f0714b/ ...\n"
     ]
    },
    {
     "name": "stderr",
     "output_type": "stream",
     "text": [
      "Downloaded 6100455 of 6100455 bytes (100.0%,    0.0s remaining) ...done. (2 seconds, 0 min)\n"
     ]
    },
    {
     "name": "stdout",
     "output_type": "stream",
     "text": [
      "Downloading data from https://osf.io/download/5cb4705239926900160f6b74/ ...\n"
     ]
    },
    {
     "name": "stderr",
     "output_type": "stream",
     "text": [
      "\r",
      "Downloaded 69168 of 69168 bytes (100.0%,    0.0s remaining) ...done. (2 seconds, 0 min)\n"
     ]
    },
    {
     "name": "stdout",
     "output_type": "stream",
     "text": [
      "Downloading data from https://osf.io/download/5cb46e00f2be3c001601dbf3/ ...\n"
     ]
    },
    {
     "name": "stderr",
     "output_type": "stream",
     "text": [
      "\r",
      "Downloaded 5234688 of 5271757 bytes (99.3%,    0.0s remaining)\r",
      "Downloaded 5271757 of 5271757 bytes (100.0%,    0.0s remaining) ...done. (2 seconds, 0 min)\n"
     ]
    },
    {
     "name": "stdout",
     "output_type": "stream",
     "text": [
      "Downloading data from https://osf.io/download/5cb4704d353c58001b9cb5d8/ ...\n"
     ]
    },
    {
     "name": "stderr",
     "output_type": "stream",
     "text": [
      "\r",
      "Downloaded 68752 of 68752 bytes (100.0%,    0.0s remaining) ...done. (1 seconds, 0 min)\n"
     ]
    },
    {
     "name": "stdout",
     "output_type": "stream",
     "text": [
      "Downloading data from https://osf.io/download/5cb46dfff2be3c001601dbef/ ...\n"
     ]
    },
    {
     "name": "stderr",
     "output_type": "stream",
     "text": [
      "\r",
      "Downloaded 4669440 of 5328170 bytes (87.6%,    0.1s remaining)\r",
      "Downloaded 5328170 of 5328170 bytes (100.0%,    0.0s remaining) ...done. (2 seconds, 0 min)\n"
     ]
    },
    {
     "name": "stdout",
     "output_type": "stream",
     "text": [
      "Downloading data from https://osf.io/download/5c8ff3ce2286e80016c3c34b/ ...\n"
     ]
    },
    {
     "name": "stderr",
     "output_type": "stream",
     "text": [
      "\r",
      "Downloaded 67827 of 67827 bytes (100.0%,    0.0s remaining) ...done. (2 seconds, 0 min)\n"
     ]
    },
    {
     "name": "stdout",
     "output_type": "stream",
     "text": [
      "Downloading data from https://osf.io/download/5c8ff3d12286e80019c3c16f/ ...\n"
     ]
    },
    {
     "name": "stderr",
     "output_type": "stream",
     "text": [
      "\r",
      "Downloaded 5144576 of 5277452 bytes (97.5%,    0.0s remaining)\r",
      "Downloaded 5277452 of 5277452 bytes (100.0%,    0.0s remaining) ...done. (2 seconds, 0 min)\n"
     ]
    },
    {
     "name": "stdout",
     "output_type": "stream",
     "text": [
      "Downloading data from https://osf.io/download/5cb47010f2be3c0019030921/ ...\n"
     ]
    },
    {
     "name": "stderr",
     "output_type": "stream",
     "text": [
      "\r",
      "Downloaded 67560 of 67560 bytes (100.0%,    0.0s remaining) ...done. (1 seconds, 0 min)\n"
     ]
    },
    {
     "name": "stdout",
     "output_type": "stream",
     "text": [
      "Downloading data from https://osf.io/download/5cb46e0539926900160f6935/ ...\n"
     ]
    },
    {
     "name": "stderr",
     "output_type": "stream",
     "text": [
      "\r",
      "Downloaded 5226496 of 5378037 bytes (97.2%,    0.0s remaining)\r",
      "Downloaded 5378037 of 5378037 bytes (100.0%,    0.0s remaining) ...done. (3 seconds, 0 min)\n"
     ]
    },
    {
     "name": "stdout",
     "output_type": "stream",
     "text": [
      "Downloading data from https://osf.io/download/5cb47052353c58001b9cb5e3/ ...\n"
     ]
    },
    {
     "name": "stderr",
     "output_type": "stream",
     "text": [
      "\r",
      "Downloaded 68979 of 68979 bytes (100.0%,    0.0s remaining) ...done. (1 seconds, 0 min)\n"
     ]
    },
    {
     "name": "stdout",
     "output_type": "stream",
     "text": [
      "Downloading data from https://osf.io/download/5cb46df9f2be3c0017056b01/ ...\n"
     ]
    },
    {
     "name": "stderr",
     "output_type": "stream",
     "text": [
      "\r",
      "Downloaded 4919277 of 4919277 bytes (100.0%,    0.0s remaining) ...done. (4 seconds, 0 min)\n"
     ]
    },
    {
     "name": "stdout",
     "output_type": "stream",
     "text": [
      "Downloading data from https://osf.io/download/5cb4700d353c58001b9cb57d/ ...\n"
     ]
    },
    {
     "name": "stderr",
     "output_type": "stream",
     "text": [
      "\r",
      "Downloaded 67057 of 67057 bytes (100.0%,    0.0s remaining) ...done. (1 seconds, 0 min)\n"
     ]
    },
    {
     "name": "stdout",
     "output_type": "stream",
     "text": [
      "Downloading data from https://osf.io/download/5cb46dfef2be3c0017056b15/ ...\n"
     ]
    },
    {
     "name": "stderr",
     "output_type": "stream",
     "text": [
      "\r",
      "Downloaded 5046272 of 5149406 bytes (98.0%,    0.0s remaining)\r",
      "Downloaded 5149406 of 5149406 bytes (100.0%,    0.0s remaining) ...done. (3 seconds, 0 min)\n"
     ]
    },
    {
     "name": "stdout",
     "output_type": "stream",
     "text": [
      "Downloading data from https://osf.io/download/5cb470383992690018133d76/ ...\n"
     ]
    },
    {
     "name": "stderr",
     "output_type": "stream",
     "text": [
      "\r",
      "Downloaded 68452 of 68452 bytes (100.0%,    0.0s remaining) ...done. (2 seconds, 0 min)\n"
     ]
    },
    {
     "name": "stdout",
     "output_type": "stream",
     "text": [
      "Downloading data from https://osf.io/download/5cb46dfc3992690018133a72/ ...\n"
     ]
    },
    {
     "name": "stderr",
     "output_type": "stream",
     "text": [
      "\r",
      "Downloaded 4988928 of 5342091 bytes (93.4%,    0.1s remaining)\r",
      "Downloaded 5342091 of 5342091 bytes (100.0%,    0.0s remaining) ...done. (2 seconds, 0 min)\n"
     ]
    },
    {
     "name": "stdout",
     "output_type": "stream",
     "text": [
      "Downloading data from https://osf.io/download/5cb4703ef2be3c00190309d3/ ...\n"
     ]
    },
    {
     "name": "stderr",
     "output_type": "stream",
     "text": [
      "\r",
      "Downloaded 68490 of 68490 bytes (100.0%,    0.0s remaining) ...done. (2 seconds, 0 min)\n"
     ]
    },
    {
     "name": "stdout",
     "output_type": "stream",
     "text": [
      "Downloading data from https://osf.io/download/5cb46e0ea3bc970019f0710c/ ...\n"
     ]
    },
    {
     "name": "stderr",
     "output_type": "stream",
     "text": [
      "\r",
      "Downloaded 4915200 of 5528414 bytes (88.9%,    0.1s remaining)\r",
      "Downloaded 5528414 of 5528414 bytes (100.0%,    0.0s remaining) ...done. (2 seconds, 0 min)\n"
     ]
    },
    {
     "name": "stdout",
     "output_type": "stream",
     "text": [
      "Downloading data from https://osf.io/download/5c8ff3d3a743a90019606caa/ ...\n"
     ]
    },
    {
     "name": "stderr",
     "output_type": "stream",
     "text": [
      "\r",
      "Downloaded 68457 of 68457 bytes (100.0%,    0.0s remaining) ...done. (2 seconds, 0 min)\n"
     ]
    },
    {
     "name": "stdout",
     "output_type": "stream",
     "text": [
      "Downloading data from https://osf.io/download/5c8ff3d34712b400193b5bc7/ ...\n"
     ]
    },
    {
     "name": "stderr",
     "output_type": "stream",
     "text": [
      "\r",
      "Downloaded 4784128 of 5399764 bytes (88.6%,    0.1s remaining)\r",
      "Downloaded 5399764 of 5399764 bytes (100.0%,    0.0s remaining) ...done. (3 seconds, 0 min)\n"
     ]
    },
    {
     "name": "stdout",
     "output_type": "stream",
     "text": [
      "Downloading data from https://osf.io/download/5c8ff3d22286e80017c41af2/ ...\n"
     ]
    },
    {
     "name": "stderr",
     "output_type": "stream",
     "text": [
      "\r",
      "Downloaded 68788 of 68788 bytes (100.0%,    0.0s remaining) ...done. (2 seconds, 0 min)\n"
     ]
    },
    {
     "name": "stdout",
     "output_type": "stream",
     "text": [
      "Downloading data from https://osf.io/download/5c8ff3d52286e80017c41afe/ ...\n"
     ]
    },
    {
     "name": "stderr",
     "output_type": "stream",
     "text": [
      "\r",
      "Downloaded 4997120 of 5252477 bytes (95.1%,    0.1s remaining)\r",
      "Downloaded 5252477 of 5252477 bytes (100.0%,    0.0s remaining) ...done. (2 seconds, 0 min)\n"
     ]
    },
    {
     "name": "stdout",
     "output_type": "stream",
     "text": [
      "Downloading data from https://osf.io/download/5cb4704ef2be3c001801fa79/ ...\n"
     ]
    },
    {
     "name": "stderr",
     "output_type": "stream",
     "text": [
      "\r",
      "Downloaded 68762 of 68762 bytes (100.0%,    0.0s remaining) ...done. (1 seconds, 0 min)\n"
     ]
    },
    {
     "name": "stdout",
     "output_type": "stream",
     "text": [
      "Downloading data from https://osf.io/download/5cb46e7339926900190fad1a/ ...\n"
     ]
    },
    {
     "name": "stderr",
     "output_type": "stream",
     "text": [
      "Downloaded 6201575 of 6201575 bytes (100.0%,    0.0s remaining) ...done. (2 seconds, 0 min)\n"
     ]
    },
    {
     "name": "stdout",
     "output_type": "stream",
     "text": [
      "Downloading data from https://osf.io/download/5cb4700fa3bc97001aeff8f0/ ...\n"
     ]
    },
    {
     "name": "stderr",
     "output_type": "stream",
     "text": [
      "\r",
      "Downloaded 67502 of 67502 bytes (100.0%,    0.0s remaining) ...done. (1 seconds, 0 min)\n"
     ]
    },
    {
     "name": "stdout",
     "output_type": "stream",
     "text": [
      "Downloading data from https://osf.io/download/5cb46e16f2be3c0017056b3e/ ...\n"
     ]
    },
    {
     "name": "stderr",
     "output_type": "stream",
     "text": [
      "\r",
      "Downloaded 5013504 of 5683006 bytes (88.2%,    0.1s remaining)\r",
      "Downloaded 5683006 of 5683006 bytes (100.0%,    0.0s remaining) ...done. (3 seconds, 0 min)\n"
     ]
    },
    {
     "name": "stdout",
     "output_type": "stream",
     "text": [
      "Downloading data from https://osf.io/download/5c8ff3d84712b400183b708c/ ...\n"
     ]
    },
    {
     "name": "stderr",
     "output_type": "stream",
     "text": [
      "\r",
      "Downloaded 69089 of 69089 bytes (100.0%,    0.0s remaining) ...done. (1 seconds, 0 min)\n"
     ]
    },
    {
     "name": "stdout",
     "output_type": "stream",
     "text": [
      "Downloading data from https://osf.io/download/5c8ff3d7a743a90017608138/ ...\n"
     ]
    },
    {
     "name": "stderr",
     "output_type": "stream",
     "text": [
      "\r",
      "Downloaded 5054464 of 5393091 bytes (93.7%,    0.1s remaining)\r",
      "Downloaded 5393091 of 5393091 bytes (100.0%,    0.0s remaining) ...done. (3 seconds, 0 min)\n"
     ]
    },
    {
     "name": "stdout",
     "output_type": "stream",
     "text": [
      "Downloading data from https://osf.io/download/5cb4704cf2be3c0017057049/ ...\n"
     ]
    },
    {
     "name": "stderr",
     "output_type": "stream",
     "text": [
      "\r",
      "Downloaded 68710 of 68710 bytes (100.0%,    0.0s remaining) ...done. (2 seconds, 0 min)\n"
     ]
    },
    {
     "name": "stdout",
     "output_type": "stream",
     "text": [
      "Downloading data from https://osf.io/download/5cb46e34a3bc97001aeff717/ ...\n"
     ]
    },
    {
     "name": "stderr",
     "output_type": "stream",
     "text": [
      "\r",
      "Downloaded 5087232 of 5888116 bytes (86.4%,    0.2s remaining)\r",
      "Downloaded 5888116 of 5888116 bytes (100.0%,    0.0s remaining) ...done. (2 seconds, 0 min)\n"
     ]
    },
    {
     "name": "stdout",
     "output_type": "stream",
     "text": [
      "Downloading data from https://osf.io/download/5cb470553992690018133dbe/ ...\n"
     ]
    },
    {
     "name": "stderr",
     "output_type": "stream",
     "text": [
      "\r",
      "Downloaded 69193 of 69193 bytes (100.0%,    0.0s remaining) ...done. (1 seconds, 0 min)\n"
     ]
    },
    {
     "name": "stdout",
     "output_type": "stream",
     "text": [
      "Downloading data from https://osf.io/download/5cb46e29f2be3c001601dc17/ ...\n"
     ]
    },
    {
     "name": "stderr",
     "output_type": "stream",
     "text": [
      "\r",
      "Downloaded 4988928 of 5802574 bytes (86.0%,    0.2s remaining)\r",
      "Downloaded 5802574 of 5802574 bytes (100.0%,    0.0s remaining) ...done. (2 seconds, 0 min)\n"
     ]
    },
    {
     "name": "stdout",
     "output_type": "stream",
     "text": [
      "Downloading data from https://osf.io/download/5c8ff3d8a743a90019606cb5/ ...\n"
     ]
    },
    {
     "name": "stderr",
     "output_type": "stream",
     "text": [
      "\r",
      "Downloaded 68693 of 68693 bytes (100.0%,    0.0s remaining) ...done. (2 seconds, 0 min)\n"
     ]
    },
    {
     "name": "stdout",
     "output_type": "stream",
     "text": [
      "Downloading data from https://osf.io/download/5c8ff3d8a743a90018606e75/ ...\n"
     ]
    },
    {
     "name": "stderr",
     "output_type": "stream",
     "text": [
      "\r",
      "Downloaded 5218304 of 5885731 bytes (88.7%,    0.1s remaining)\r",
      "Downloaded 5885731 of 5885731 bytes (100.0%,    0.0s remaining) ...done. (3 seconds, 0 min)\n"
     ]
    },
    {
     "name": "stdout",
     "output_type": "stream",
     "text": [
      "Downloading data from https://osf.io/download/5c8ff3dba743a90018606e7e/ ...\n"
     ]
    },
    {
     "name": "stderr",
     "output_type": "stream",
     "text": [
      "\r",
      "Downloaded 68055 of 68055 bytes (100.0%,    0.0s remaining) ...done. (1 seconds, 0 min)\n"
     ]
    },
    {
     "name": "stdout",
     "output_type": "stream",
     "text": [
      "Downloading data from https://osf.io/download/5c8ff3de4712b4001a3b55f4/ ...\n"
     ]
    },
    {
     "name": "stderr",
     "output_type": "stream",
     "text": [
      "\r",
      "Downloaded 5201920 of 5433046 bytes (95.7%,    0.0s remaining)\r",
      "Downloaded 5433046 of 5433046 bytes (100.0%,    0.0s remaining) ...done. (3 seconds, 0 min)\n"
     ]
    },
    {
     "name": "stdout",
     "output_type": "stream",
     "text": [
      "Downloading data from https://osf.io/download/5cb47017f2be3c0017056f8d/ ...\n"
     ]
    },
    {
     "name": "stderr",
     "output_type": "stream",
     "text": [
      "\r",
      "Downloaded 67938 of 67938 bytes (100.0%,    0.0s remaining) ...done. (2 seconds, 0 min)\n"
     ]
    },
    {
     "name": "stdout",
     "output_type": "stream",
     "text": [
      "Downloading data from https://osf.io/download/5cb46e13f2be3c0017056b37/ ...\n"
     ]
    },
    {
     "name": "stderr",
     "output_type": "stream",
     "text": [
      "\r",
      "Downloaded 4972544 of 5538534 bytes (89.8%,    0.1s remaining)\r",
      "Downloaded 5538534 of 5538534 bytes (100.0%,    0.0s remaining) ...done. (3 seconds, 0 min)\n"
     ]
    },
    {
     "name": "stdout",
     "output_type": "stream",
     "text": [
      "Downloading data from https://osf.io/download/5cb4704ca3bc970018f1fcda/ ...\n"
     ]
    },
    {
     "name": "stderr",
     "output_type": "stream",
     "text": [
      "\r",
      "Downloaded 68735 of 68735 bytes (100.0%,    0.0s remaining) ...done. (1 seconds, 0 min)\n"
     ]
    },
    {
     "name": "stdout",
     "output_type": "stream",
     "text": [
      "Downloading data from https://osf.io/download/5cb46e0b39926900160f693c/ ...\n"
     ]
    },
    {
     "name": "stderr",
     "output_type": "stream",
     "text": [
      "\r",
      "Downloaded 4661248 of 5446455 bytes (85.6%,    0.2s remaining)\r",
      "Downloaded 5446455 of 5446455 bytes (100.0%,    0.0s remaining) ...done. (2 seconds, 0 min)\n"
     ]
    },
    {
     "name": "stdout",
     "output_type": "stream",
     "text": [
      "Downloading data from https://osf.io/download/5cb4704c3992690018133da6/ ...\n"
     ]
    },
    {
     "name": "stderr",
     "output_type": "stream",
     "text": [
      "\r",
      "Downloaded 68685 of 68685 bytes (100.0%,    0.0s remaining) ...done. (2 seconds, 0 min)\n"
     ]
    },
    {
     "name": "stdout",
     "output_type": "stream",
     "text": [
      "Downloading data from https://osf.io/download/5cb46e1c3992690018133aa2/ ...\n"
     ]
    },
    {
     "name": "stderr",
     "output_type": "stream",
     "text": [
      "\r",
      "Downloaded 5177344 of 5715543 bytes (90.6%,    0.1s remaining)\r",
      "Downloaded 5715543 of 5715543 bytes (100.0%,    0.0s remaining) ...done. (3 seconds, 0 min)\n"
     ]
    },
    {
     "name": "stdout",
     "output_type": "stream",
     "text": [
      "Downloading data from https://osf.io/download/5c8ff3dc4712b4001a3b55f0/ ...\n"
     ]
    },
    {
     "name": "stderr",
     "output_type": "stream",
     "text": [
      "\r",
      "Downloaded 69573 of 69573 bytes (100.0%,    0.0s remaining) ...done. (1 seconds, 0 min)\n"
     ]
    },
    {
     "name": "stdout",
     "output_type": "stream",
     "text": [
      "Downloading data from https://osf.io/download/5c8ff3df2286e80018c3e421/ ...\n"
     ]
    },
    {
     "name": "stderr",
     "output_type": "stream",
     "text": [
      "\r",
      "Downloaded 4653056 of 5996720 bytes (77.6%,    0.3s remaining)\r",
      "Downloaded 5996720 of 5996720 bytes (100.0%,    0.0s remaining) ...done. (3 seconds, 0 min)\n"
     ]
    },
    {
     "name": "stdout",
     "output_type": "stream",
     "text": [
      "Downloading data from https://osf.io/download/5cb47021353c58001b9cb59f/ ...\n"
     ]
    },
    {
     "name": "stderr",
     "output_type": "stream",
     "text": [
      "\r",
      "Downloaded 68148 of 68148 bytes (100.0%,    0.0s remaining) ...done. (1 seconds, 0 min)\n"
     ]
    },
    {
     "name": "stdout",
     "output_type": "stream",
     "text": [
      "Downloading data from https://osf.io/download/5cb46e2f353c58001b9cb2f1/ ...\n"
     ]
    },
    {
     "name": "stderr",
     "output_type": "stream",
     "text": [
      "Downloaded 5817840 of 5817840 bytes (100.0%,    0.0s remaining) ...done. (2 seconds, 0 min)\n"
     ]
    }
   ],
   "source": [
    "from nilearn import datasets\n",
    "\n",
    "# Add dataset to Original_Data and include all confounds\n",
    "data = datasets.fetch_development_fmri(data_dir='../Original_Data', reduce_confounds=False)"
   ]
  },
  {
   "cell_type": "code",
   "execution_count": 9,
   "metadata": {},
   "outputs": [
    {
     "name": "stderr",
     "output_type": "stream",
     "text": [
      "[INFO] Creating a new annex repo at /Users/Storme/brainhack/Project/stephaniealley_bhs2020_project/Original_Data \n"
     ]
    },
    {
     "data": {
      "application/vnd.jupyter.widget-view+json": {
       "model_id": "cbc969fa52434b11add6492aaa846c8e",
       "version_major": 2,
       "version_minor": 0
      },
      "text/plain": [
       "HBox(children=(FloatProgress(value=0.0, description='Total', max=183.0, style=ProgressStyle(description_width=…"
      ]
     },
     "metadata": {},
     "output_type": "display_data"
    },
    {
     "data": {
      "text/plain": [
       "<Dataset path=/Users/Storme/brainhack/Project/stephaniealley_bhs2020_project/Original_Data>"
      ]
     },
     "execution_count": 9,
     "metadata": {},
     "output_type": "execute_result"
    }
   ],
   "source": [
    "from datalad import api\n",
    "\n",
    "api.create(path='../Original_Data', force=True)"
   ]
  },
  {
   "cell_type": "code",
   "execution_count": 10,
   "metadata": {},
   "outputs": [
    {
     "data": {
      "application/vnd.jupyter.widget-view+json": {
       "model_id": "",
       "version_major": 2,
       "version_minor": 0
      },
      "text/plain": [
       "HBox(children=(FloatProgress(value=0.0, description='Total', max=940531945.0, style=ProgressStyle(description_…"
      ]
     },
     "metadata": {},
     "output_type": "display_data"
    },
    {
     "data": {
      "text/plain": [
       "[{'action': 'add',\n",
       "  'path': '/Users/Storme/brainhack/Project/stephaniealley_bhs2020_project/Original_Data/development_fmri/development_fmri/participants.tsv',\n",
       "  'type': 'file',\n",
       "  'refds': '/Users/Storme/brainhack/Project/stephaniealley_bhs2020_project/Original_Data',\n",
       "  'status': 'ok',\n",
       "  'message': '',\n",
       "  'key': None},\n",
       " {'action': 'add',\n",
       "  'path': '/Users/Storme/brainhack/Project/stephaniealley_bhs2020_project/Original_Data/development_fmri/development_fmri/sub-pixar001_task-pixar_desc-confounds_regressors.tsv',\n",
       "  'type': 'file',\n",
       "  'refds': '/Users/Storme/brainhack/Project/stephaniealley_bhs2020_project/Original_Data',\n",
       "  'status': 'ok',\n",
       "  'message': '',\n",
       "  'key': None},\n",
       " {'action': 'add',\n",
       "  'path': '/Users/Storme/brainhack/Project/stephaniealley_bhs2020_project/Original_Data/development_fmri/development_fmri/sub-pixar001_task-pixar_space-MNI152NLin2009cAsym_desc-preproc_bold.nii.gz',\n",
       "  'type': 'file',\n",
       "  'refds': '/Users/Storme/brainhack/Project/stephaniealley_bhs2020_project/Original_Data',\n",
       "  'status': 'ok',\n",
       "  'message': '',\n",
       "  'key': None},\n",
       " {'action': 'add',\n",
       "  'path': '/Users/Storme/brainhack/Project/stephaniealley_bhs2020_project/Original_Data/development_fmri/development_fmri/sub-pixar002_task-pixar_desc-confounds_regressors.tsv',\n",
       "  'type': 'file',\n",
       "  'refds': '/Users/Storme/brainhack/Project/stephaniealley_bhs2020_project/Original_Data',\n",
       "  'status': 'ok',\n",
       "  'message': '',\n",
       "  'key': None},\n",
       " {'action': 'add',\n",
       "  'path': '/Users/Storme/brainhack/Project/stephaniealley_bhs2020_project/Original_Data/development_fmri/development_fmri/sub-pixar002_task-pixar_space-MNI152NLin2009cAsym_desc-preproc_bold.nii.gz',\n",
       "  'type': 'file',\n",
       "  'refds': '/Users/Storme/brainhack/Project/stephaniealley_bhs2020_project/Original_Data',\n",
       "  'status': 'ok',\n",
       "  'message': '',\n",
       "  'key': None},\n",
       " {'action': 'add',\n",
       "  'path': '/Users/Storme/brainhack/Project/stephaniealley_bhs2020_project/Original_Data/development_fmri/development_fmri/sub-pixar003_task-pixar_desc-confounds_regressors.tsv',\n",
       "  'type': 'file',\n",
       "  'refds': '/Users/Storme/brainhack/Project/stephaniealley_bhs2020_project/Original_Data',\n",
       "  'status': 'ok',\n",
       "  'message': '',\n",
       "  'key': None},\n",
       " {'action': 'add',\n",
       "  'path': '/Users/Storme/brainhack/Project/stephaniealley_bhs2020_project/Original_Data/development_fmri/development_fmri/sub-pixar003_task-pixar_space-MNI152NLin2009cAsym_desc-preproc_bold.nii.gz',\n",
       "  'type': 'file',\n",
       "  'refds': '/Users/Storme/brainhack/Project/stephaniealley_bhs2020_project/Original_Data',\n",
       "  'status': 'ok',\n",
       "  'message': '',\n",
       "  'key': None},\n",
       " {'action': 'add',\n",
       "  'path': '/Users/Storme/brainhack/Project/stephaniealley_bhs2020_project/Original_Data/development_fmri/development_fmri/sub-pixar004_task-pixar_desc-confounds_regressors.tsv',\n",
       "  'type': 'file',\n",
       "  'refds': '/Users/Storme/brainhack/Project/stephaniealley_bhs2020_project/Original_Data',\n",
       "  'status': 'ok',\n",
       "  'message': '',\n",
       "  'key': None},\n",
       " {'action': 'add',\n",
       "  'path': '/Users/Storme/brainhack/Project/stephaniealley_bhs2020_project/Original_Data/development_fmri/development_fmri/sub-pixar004_task-pixar_space-MNI152NLin2009cAsym_desc-preproc_bold.nii.gz',\n",
       "  'type': 'file',\n",
       "  'refds': '/Users/Storme/brainhack/Project/stephaniealley_bhs2020_project/Original_Data',\n",
       "  'status': 'ok',\n",
       "  'message': '',\n",
       "  'key': None},\n",
       " {'action': 'add',\n",
       "  'path': '/Users/Storme/brainhack/Project/stephaniealley_bhs2020_project/Original_Data/development_fmri/development_fmri/sub-pixar005_task-pixar_desc-confounds_regressors.tsv',\n",
       "  'type': 'file',\n",
       "  'refds': '/Users/Storme/brainhack/Project/stephaniealley_bhs2020_project/Original_Data',\n",
       "  'status': 'ok',\n",
       "  'message': '',\n",
       "  'key': None},\n",
       " {'action': 'add',\n",
       "  'path': '/Users/Storme/brainhack/Project/stephaniealley_bhs2020_project/Original_Data/development_fmri/development_fmri/sub-pixar005_task-pixar_space-MNI152NLin2009cAsym_desc-preproc_bold.nii.gz',\n",
       "  'type': 'file',\n",
       "  'refds': '/Users/Storme/brainhack/Project/stephaniealley_bhs2020_project/Original_Data',\n",
       "  'status': 'ok',\n",
       "  'message': '',\n",
       "  'key': None},\n",
       " {'action': 'add',\n",
       "  'path': '/Users/Storme/brainhack/Project/stephaniealley_bhs2020_project/Original_Data/development_fmri/development_fmri/sub-pixar006_task-pixar_desc-confounds_regressors.tsv',\n",
       "  'type': 'file',\n",
       "  'refds': '/Users/Storme/brainhack/Project/stephaniealley_bhs2020_project/Original_Data',\n",
       "  'status': 'ok',\n",
       "  'message': '',\n",
       "  'key': None},\n",
       " {'action': 'add',\n",
       "  'path': '/Users/Storme/brainhack/Project/stephaniealley_bhs2020_project/Original_Data/development_fmri/development_fmri/sub-pixar006_task-pixar_space-MNI152NLin2009cAsym_desc-preproc_bold.nii.gz',\n",
       "  'type': 'file',\n",
       "  'refds': '/Users/Storme/brainhack/Project/stephaniealley_bhs2020_project/Original_Data',\n",
       "  'status': 'ok',\n",
       "  'message': '',\n",
       "  'key': None},\n",
       " {'action': 'add',\n",
       "  'path': '/Users/Storme/brainhack/Project/stephaniealley_bhs2020_project/Original_Data/development_fmri/development_fmri/sub-pixar007_task-pixar_desc-confounds_regressors.tsv',\n",
       "  'type': 'file',\n",
       "  'refds': '/Users/Storme/brainhack/Project/stephaniealley_bhs2020_project/Original_Data',\n",
       "  'status': 'ok',\n",
       "  'message': '',\n",
       "  'key': None},\n",
       " {'action': 'add',\n",
       "  'path': '/Users/Storme/brainhack/Project/stephaniealley_bhs2020_project/Original_Data/development_fmri/development_fmri/sub-pixar007_task-pixar_space-MNI152NLin2009cAsym_desc-preproc_bold.nii.gz',\n",
       "  'type': 'file',\n",
       "  'refds': '/Users/Storme/brainhack/Project/stephaniealley_bhs2020_project/Original_Data',\n",
       "  'status': 'ok',\n",
       "  'message': '',\n",
       "  'key': None},\n",
       " {'action': 'add',\n",
       "  'path': '/Users/Storme/brainhack/Project/stephaniealley_bhs2020_project/Original_Data/development_fmri/development_fmri/sub-pixar008_task-pixar_desc-confounds_regressors.tsv',\n",
       "  'type': 'file',\n",
       "  'refds': '/Users/Storme/brainhack/Project/stephaniealley_bhs2020_project/Original_Data',\n",
       "  'status': 'ok',\n",
       "  'message': '',\n",
       "  'key': None},\n",
       " {'action': 'add',\n",
       "  'path': '/Users/Storme/brainhack/Project/stephaniealley_bhs2020_project/Original_Data/development_fmri/development_fmri/sub-pixar008_task-pixar_space-MNI152NLin2009cAsym_desc-preproc_bold.nii.gz',\n",
       "  'type': 'file',\n",
       "  'refds': '/Users/Storme/brainhack/Project/stephaniealley_bhs2020_project/Original_Data',\n",
       "  'status': 'ok',\n",
       "  'message': '',\n",
       "  'key': None},\n",
       " {'action': 'add',\n",
       "  'path': '/Users/Storme/brainhack/Project/stephaniealley_bhs2020_project/Original_Data/development_fmri/development_fmri/sub-pixar009_task-pixar_desc-confounds_regressors.tsv',\n",
       "  'type': 'file',\n",
       "  'refds': '/Users/Storme/brainhack/Project/stephaniealley_bhs2020_project/Original_Data',\n",
       "  'status': 'ok',\n",
       "  'message': '',\n",
       "  'key': None},\n",
       " {'action': 'add',\n",
       "  'path': '/Users/Storme/brainhack/Project/stephaniealley_bhs2020_project/Original_Data/development_fmri/development_fmri/sub-pixar009_task-pixar_space-MNI152NLin2009cAsym_desc-preproc_bold.nii.gz',\n",
       "  'type': 'file',\n",
       "  'refds': '/Users/Storme/brainhack/Project/stephaniealley_bhs2020_project/Original_Data',\n",
       "  'status': 'ok',\n",
       "  'message': '',\n",
       "  'key': None},\n",
       " {'action': 'add',\n",
       "  'path': '/Users/Storme/brainhack/Project/stephaniealley_bhs2020_project/Original_Data/development_fmri/development_fmri/sub-pixar010_task-pixar_desc-confounds_regressors.tsv',\n",
       "  'type': 'file',\n",
       "  'refds': '/Users/Storme/brainhack/Project/stephaniealley_bhs2020_project/Original_Data',\n",
       "  'status': 'ok',\n",
       "  'message': '',\n",
       "  'key': None},\n",
       " {'action': 'add',\n",
       "  'path': '/Users/Storme/brainhack/Project/stephaniealley_bhs2020_project/Original_Data/development_fmri/development_fmri/sub-pixar010_task-pixar_space-MNI152NLin2009cAsym_desc-preproc_bold.nii.gz',\n",
       "  'type': 'file',\n",
       "  'refds': '/Users/Storme/brainhack/Project/stephaniealley_bhs2020_project/Original_Data',\n",
       "  'status': 'ok',\n",
       "  'message': '',\n",
       "  'key': None},\n",
       " {'action': 'add',\n",
       "  'path': '/Users/Storme/brainhack/Project/stephaniealley_bhs2020_project/Original_Data/development_fmri/development_fmri/sub-pixar011_task-pixar_desc-confounds_regressors.tsv',\n",
       "  'type': 'file',\n",
       "  'refds': '/Users/Storme/brainhack/Project/stephaniealley_bhs2020_project/Original_Data',\n",
       "  'status': 'ok',\n",
       "  'message': '',\n",
       "  'key': None},\n",
       " {'action': 'add',\n",
       "  'path': '/Users/Storme/brainhack/Project/stephaniealley_bhs2020_project/Original_Data/development_fmri/development_fmri/sub-pixar011_task-pixar_space-MNI152NLin2009cAsym_desc-preproc_bold.nii.gz',\n",
       "  'type': 'file',\n",
       "  'refds': '/Users/Storme/brainhack/Project/stephaniealley_bhs2020_project/Original_Data',\n",
       "  'status': 'ok',\n",
       "  'message': '',\n",
       "  'key': None},\n",
       " {'action': 'add',\n",
       "  'path': '/Users/Storme/brainhack/Project/stephaniealley_bhs2020_project/Original_Data/development_fmri/development_fmri/sub-pixar012_task-pixar_desc-confounds_regressors.tsv',\n",
       "  'type': 'file',\n",
       "  'refds': '/Users/Storme/brainhack/Project/stephaniealley_bhs2020_project/Original_Data',\n",
       "  'status': 'ok',\n",
       "  'message': '',\n",
       "  'key': None},\n",
       " {'action': 'add',\n",
       "  'path': '/Users/Storme/brainhack/Project/stephaniealley_bhs2020_project/Original_Data/development_fmri/development_fmri/sub-pixar012_task-pixar_space-MNI152NLin2009cAsym_desc-preproc_bold.nii.gz',\n",
       "  'type': 'file',\n",
       "  'refds': '/Users/Storme/brainhack/Project/stephaniealley_bhs2020_project/Original_Data',\n",
       "  'status': 'ok',\n",
       "  'message': '',\n",
       "  'key': None},\n",
       " {'action': 'add',\n",
       "  'path': '/Users/Storme/brainhack/Project/stephaniealley_bhs2020_project/Original_Data/development_fmri/development_fmri/sub-pixar013_task-pixar_desc-confounds_regressors.tsv',\n",
       "  'type': 'file',\n",
       "  'refds': '/Users/Storme/brainhack/Project/stephaniealley_bhs2020_project/Original_Data',\n",
       "  'status': 'ok',\n",
       "  'message': '',\n",
       "  'key': None},\n",
       " {'action': 'add',\n",
       "  'path': '/Users/Storme/brainhack/Project/stephaniealley_bhs2020_project/Original_Data/development_fmri/development_fmri/sub-pixar013_task-pixar_space-MNI152NLin2009cAsym_desc-preproc_bold.nii.gz',\n",
       "  'type': 'file',\n",
       "  'refds': '/Users/Storme/brainhack/Project/stephaniealley_bhs2020_project/Original_Data',\n",
       "  'status': 'ok',\n",
       "  'message': '',\n",
       "  'key': None},\n",
       " {'action': 'add',\n",
       "  'path': '/Users/Storme/brainhack/Project/stephaniealley_bhs2020_project/Original_Data/development_fmri/development_fmri/sub-pixar014_task-pixar_desc-confounds_regressors.tsv',\n",
       "  'type': 'file',\n",
       "  'refds': '/Users/Storme/brainhack/Project/stephaniealley_bhs2020_project/Original_Data',\n",
       "  'status': 'ok',\n",
       "  'message': '',\n",
       "  'key': None},\n",
       " {'action': 'add',\n",
       "  'path': '/Users/Storme/brainhack/Project/stephaniealley_bhs2020_project/Original_Data/development_fmri/development_fmri/sub-pixar014_task-pixar_space-MNI152NLin2009cAsym_desc-preproc_bold.nii.gz',\n",
       "  'type': 'file',\n",
       "  'refds': '/Users/Storme/brainhack/Project/stephaniealley_bhs2020_project/Original_Data',\n",
       "  'status': 'ok',\n",
       "  'message': '',\n",
       "  'key': None},\n",
       " {'action': 'add',\n",
       "  'path': '/Users/Storme/brainhack/Project/stephaniealley_bhs2020_project/Original_Data/development_fmri/development_fmri/sub-pixar015_task-pixar_desc-confounds_regressors.tsv',\n",
       "  'type': 'file',\n",
       "  'refds': '/Users/Storme/brainhack/Project/stephaniealley_bhs2020_project/Original_Data',\n",
       "  'status': 'ok',\n",
       "  'message': '',\n",
       "  'key': None},\n",
       " {'action': 'add',\n",
       "  'path': '/Users/Storme/brainhack/Project/stephaniealley_bhs2020_project/Original_Data/development_fmri/development_fmri/sub-pixar015_task-pixar_space-MNI152NLin2009cAsym_desc-preproc_bold.nii.gz',\n",
       "  'type': 'file',\n",
       "  'refds': '/Users/Storme/brainhack/Project/stephaniealley_bhs2020_project/Original_Data',\n",
       "  'status': 'ok',\n",
       "  'message': '',\n",
       "  'key': None},\n",
       " {'action': 'add',\n",
       "  'path': '/Users/Storme/brainhack/Project/stephaniealley_bhs2020_project/Original_Data/development_fmri/development_fmri/sub-pixar016_task-pixar_desc-confounds_regressors.tsv',\n",
       "  'type': 'file',\n",
       "  'refds': '/Users/Storme/brainhack/Project/stephaniealley_bhs2020_project/Original_Data',\n",
       "  'status': 'ok',\n",
       "  'message': '',\n",
       "  'key': None},\n",
       " {'action': 'add',\n",
       "  'path': '/Users/Storme/brainhack/Project/stephaniealley_bhs2020_project/Original_Data/development_fmri/development_fmri/sub-pixar016_task-pixar_space-MNI152NLin2009cAsym_desc-preproc_bold.nii.gz',\n",
       "  'type': 'file',\n",
       "  'refds': '/Users/Storme/brainhack/Project/stephaniealley_bhs2020_project/Original_Data',\n",
       "  'status': 'ok',\n",
       "  'message': '',\n",
       "  'key': None},\n",
       " {'action': 'add',\n",
       "  'path': '/Users/Storme/brainhack/Project/stephaniealley_bhs2020_project/Original_Data/development_fmri/development_fmri/sub-pixar017_task-pixar_desc-confounds_regressors.tsv',\n",
       "  'type': 'file',\n",
       "  'refds': '/Users/Storme/brainhack/Project/stephaniealley_bhs2020_project/Original_Data',\n",
       "  'status': 'ok',\n",
       "  'message': '',\n",
       "  'key': None},\n",
       " {'action': 'add',\n",
       "  'path': '/Users/Storme/brainhack/Project/stephaniealley_bhs2020_project/Original_Data/development_fmri/development_fmri/sub-pixar017_task-pixar_space-MNI152NLin2009cAsym_desc-preproc_bold.nii.gz',\n",
       "  'type': 'file',\n",
       "  'refds': '/Users/Storme/brainhack/Project/stephaniealley_bhs2020_project/Original_Data',\n",
       "  'status': 'ok',\n",
       "  'message': '',\n",
       "  'key': None},\n",
       " {'action': 'add',\n",
       "  'path': '/Users/Storme/brainhack/Project/stephaniealley_bhs2020_project/Original_Data/development_fmri/development_fmri/sub-pixar018_task-pixar_desc-confounds_regressors.tsv',\n",
       "  'type': 'file',\n",
       "  'refds': '/Users/Storme/brainhack/Project/stephaniealley_bhs2020_project/Original_Data',\n",
       "  'status': 'ok',\n",
       "  'message': '',\n",
       "  'key': None},\n",
       " {'action': 'add',\n",
       "  'path': '/Users/Storme/brainhack/Project/stephaniealley_bhs2020_project/Original_Data/development_fmri/development_fmri/sub-pixar018_task-pixar_space-MNI152NLin2009cAsym_desc-preproc_bold.nii.gz',\n",
       "  'type': 'file',\n",
       "  'refds': '/Users/Storme/brainhack/Project/stephaniealley_bhs2020_project/Original_Data',\n",
       "  'status': 'ok',\n",
       "  'message': '',\n",
       "  'key': None},\n",
       " {'action': 'add',\n",
       "  'path': '/Users/Storme/brainhack/Project/stephaniealley_bhs2020_project/Original_Data/development_fmri/development_fmri/sub-pixar019_task-pixar_desc-confounds_regressors.tsv',\n",
       "  'type': 'file',\n",
       "  'refds': '/Users/Storme/brainhack/Project/stephaniealley_bhs2020_project/Original_Data',\n",
       "  'status': 'ok',\n",
       "  'message': '',\n",
       "  'key': None},\n",
       " {'action': 'add',\n",
       "  'path': '/Users/Storme/brainhack/Project/stephaniealley_bhs2020_project/Original_Data/development_fmri/development_fmri/sub-pixar019_task-pixar_space-MNI152NLin2009cAsym_desc-preproc_bold.nii.gz',\n",
       "  'type': 'file',\n",
       "  'refds': '/Users/Storme/brainhack/Project/stephaniealley_bhs2020_project/Original_Data',\n",
       "  'status': 'ok',\n",
       "  'message': '',\n",
       "  'key': None},\n",
       " {'action': 'add',\n",
       "  'path': '/Users/Storme/brainhack/Project/stephaniealley_bhs2020_project/Original_Data/development_fmri/development_fmri/sub-pixar020_task-pixar_desc-confounds_regressors.tsv',\n",
       "  'type': 'file',\n",
       "  'refds': '/Users/Storme/brainhack/Project/stephaniealley_bhs2020_project/Original_Data',\n",
       "  'status': 'ok',\n",
       "  'message': '',\n",
       "  'key': None},\n",
       " {'action': 'add',\n",
       "  'path': '/Users/Storme/brainhack/Project/stephaniealley_bhs2020_project/Original_Data/development_fmri/development_fmri/sub-pixar020_task-pixar_space-MNI152NLin2009cAsym_desc-preproc_bold.nii.gz',\n",
       "  'type': 'file',\n",
       "  'refds': '/Users/Storme/brainhack/Project/stephaniealley_bhs2020_project/Original_Data',\n",
       "  'status': 'ok',\n",
       "  'message': '',\n",
       "  'key': None},\n",
       " {'action': 'add',\n",
       "  'path': '/Users/Storme/brainhack/Project/stephaniealley_bhs2020_project/Original_Data/development_fmri/development_fmri/sub-pixar021_task-pixar_desc-confounds_regressors.tsv',\n",
       "  'type': 'file',\n",
       "  'refds': '/Users/Storme/brainhack/Project/stephaniealley_bhs2020_project/Original_Data',\n",
       "  'status': 'ok',\n",
       "  'message': '',\n",
       "  'key': None},\n",
       " {'action': 'add',\n",
       "  'path': '/Users/Storme/brainhack/Project/stephaniealley_bhs2020_project/Original_Data/development_fmri/development_fmri/sub-pixar021_task-pixar_space-MNI152NLin2009cAsym_desc-preproc_bold.nii.gz',\n",
       "  'type': 'file',\n",
       "  'refds': '/Users/Storme/brainhack/Project/stephaniealley_bhs2020_project/Original_Data',\n",
       "  'status': 'ok',\n",
       "  'message': '',\n",
       "  'key': None},\n",
       " {'action': 'add',\n",
       "  'path': '/Users/Storme/brainhack/Project/stephaniealley_bhs2020_project/Original_Data/development_fmri/development_fmri/sub-pixar022_task-pixar_desc-confounds_regressors.tsv',\n",
       "  'type': 'file',\n",
       "  'refds': '/Users/Storme/brainhack/Project/stephaniealley_bhs2020_project/Original_Data',\n",
       "  'status': 'ok',\n",
       "  'message': '',\n",
       "  'key': None},\n",
       " {'action': 'add',\n",
       "  'path': '/Users/Storme/brainhack/Project/stephaniealley_bhs2020_project/Original_Data/development_fmri/development_fmri/sub-pixar022_task-pixar_space-MNI152NLin2009cAsym_desc-preproc_bold.nii.gz',\n",
       "  'type': 'file',\n",
       "  'refds': '/Users/Storme/brainhack/Project/stephaniealley_bhs2020_project/Original_Data',\n",
       "  'status': 'ok',\n",
       "  'message': '',\n",
       "  'key': None},\n",
       " {'action': 'add',\n",
       "  'path': '/Users/Storme/brainhack/Project/stephaniealley_bhs2020_project/Original_Data/development_fmri/development_fmri/sub-pixar023_task-pixar_desc-confounds_regressors.tsv',\n",
       "  'type': 'file',\n",
       "  'refds': '/Users/Storme/brainhack/Project/stephaniealley_bhs2020_project/Original_Data',\n",
       "  'status': 'ok',\n",
       "  'message': '',\n",
       "  'key': None},\n",
       " {'action': 'add',\n",
       "  'path': '/Users/Storme/brainhack/Project/stephaniealley_bhs2020_project/Original_Data/development_fmri/development_fmri/sub-pixar023_task-pixar_space-MNI152NLin2009cAsym_desc-preproc_bold.nii.gz',\n",
       "  'type': 'file',\n",
       "  'refds': '/Users/Storme/brainhack/Project/stephaniealley_bhs2020_project/Original_Data',\n",
       "  'status': 'ok',\n",
       "  'message': '',\n",
       "  'key': None},\n",
       " {'action': 'add',\n",
       "  'path': '/Users/Storme/brainhack/Project/stephaniealley_bhs2020_project/Original_Data/development_fmri/development_fmri/sub-pixar024_task-pixar_desc-confounds_regressors.tsv',\n",
       "  'type': 'file',\n",
       "  'refds': '/Users/Storme/brainhack/Project/stephaniealley_bhs2020_project/Original_Data',\n",
       "  'status': 'ok',\n",
       "  'message': '',\n",
       "  'key': None},\n",
       " {'action': 'add',\n",
       "  'path': '/Users/Storme/brainhack/Project/stephaniealley_bhs2020_project/Original_Data/development_fmri/development_fmri/sub-pixar024_task-pixar_space-MNI152NLin2009cAsym_desc-preproc_bold.nii.gz',\n",
       "  'type': 'file',\n",
       "  'refds': '/Users/Storme/brainhack/Project/stephaniealley_bhs2020_project/Original_Data',\n",
       "  'status': 'ok',\n",
       "  'message': '',\n",
       "  'key': None},\n",
       " {'action': 'add',\n",
       "  'path': '/Users/Storme/brainhack/Project/stephaniealley_bhs2020_project/Original_Data/development_fmri/development_fmri/sub-pixar025_task-pixar_desc-confounds_regressors.tsv',\n",
       "  'type': 'file',\n",
       "  'refds': '/Users/Storme/brainhack/Project/stephaniealley_bhs2020_project/Original_Data',\n",
       "  'status': 'ok',\n",
       "  'message': '',\n",
       "  'key': None},\n",
       " {'action': 'add',\n",
       "  'path': '/Users/Storme/brainhack/Project/stephaniealley_bhs2020_project/Original_Data/development_fmri/development_fmri/sub-pixar025_task-pixar_space-MNI152NLin2009cAsym_desc-preproc_bold.nii.gz',\n",
       "  'type': 'file',\n",
       "  'refds': '/Users/Storme/brainhack/Project/stephaniealley_bhs2020_project/Original_Data',\n",
       "  'status': 'ok',\n",
       "  'message': '',\n",
       "  'key': None},\n",
       " {'action': 'add',\n",
       "  'path': '/Users/Storme/brainhack/Project/stephaniealley_bhs2020_project/Original_Data/development_fmri/development_fmri/sub-pixar026_task-pixar_desc-confounds_regressors.tsv',\n",
       "  'type': 'file',\n",
       "  'refds': '/Users/Storme/brainhack/Project/stephaniealley_bhs2020_project/Original_Data',\n",
       "  'status': 'ok',\n",
       "  'message': '',\n",
       "  'key': None},\n",
       " {'action': 'add',\n",
       "  'path': '/Users/Storme/brainhack/Project/stephaniealley_bhs2020_project/Original_Data/development_fmri/development_fmri/sub-pixar026_task-pixar_space-MNI152NLin2009cAsym_desc-preproc_bold.nii.gz',\n",
       "  'type': 'file',\n",
       "  'refds': '/Users/Storme/brainhack/Project/stephaniealley_bhs2020_project/Original_Data',\n",
       "  'status': 'ok',\n",
       "  'message': '',\n",
       "  'key': None},\n",
       " {'action': 'add',\n",
       "  'path': '/Users/Storme/brainhack/Project/stephaniealley_bhs2020_project/Original_Data/development_fmri/development_fmri/sub-pixar027_task-pixar_desc-confounds_regressors.tsv',\n",
       "  'type': 'file',\n",
       "  'refds': '/Users/Storme/brainhack/Project/stephaniealley_bhs2020_project/Original_Data',\n",
       "  'status': 'ok',\n",
       "  'message': '',\n",
       "  'key': None},\n",
       " {'action': 'add',\n",
       "  'path': '/Users/Storme/brainhack/Project/stephaniealley_bhs2020_project/Original_Data/development_fmri/development_fmri/sub-pixar027_task-pixar_space-MNI152NLin2009cAsym_desc-preproc_bold.nii.gz',\n",
       "  'type': 'file',\n",
       "  'refds': '/Users/Storme/brainhack/Project/stephaniealley_bhs2020_project/Original_Data',\n",
       "  'status': 'ok',\n",
       "  'message': '',\n",
       "  'key': None},\n",
       " {'action': 'add',\n",
       "  'path': '/Users/Storme/brainhack/Project/stephaniealley_bhs2020_project/Original_Data/development_fmri/development_fmri/sub-pixar028_task-pixar_desc-confounds_regressors.tsv',\n",
       "  'type': 'file',\n",
       "  'refds': '/Users/Storme/brainhack/Project/stephaniealley_bhs2020_project/Original_Data',\n",
       "  'status': 'ok',\n",
       "  'message': '',\n",
       "  'key': None},\n",
       " {'action': 'add',\n",
       "  'path': '/Users/Storme/brainhack/Project/stephaniealley_bhs2020_project/Original_Data/development_fmri/development_fmri/sub-pixar028_task-pixar_space-MNI152NLin2009cAsym_desc-preproc_bold.nii.gz',\n",
       "  'type': 'file',\n",
       "  'refds': '/Users/Storme/brainhack/Project/stephaniealley_bhs2020_project/Original_Data',\n",
       "  'status': 'ok',\n",
       "  'message': '',\n",
       "  'key': None},\n",
       " {'action': 'add',\n",
       "  'path': '/Users/Storme/brainhack/Project/stephaniealley_bhs2020_project/Original_Data/development_fmri/development_fmri/sub-pixar029_task-pixar_desc-confounds_regressors.tsv',\n",
       "  'type': 'file',\n",
       "  'refds': '/Users/Storme/brainhack/Project/stephaniealley_bhs2020_project/Original_Data',\n",
       "  'status': 'ok',\n",
       "  'message': '',\n",
       "  'key': None},\n",
       " {'action': 'add',\n",
       "  'path': '/Users/Storme/brainhack/Project/stephaniealley_bhs2020_project/Original_Data/development_fmri/development_fmri/sub-pixar029_task-pixar_space-MNI152NLin2009cAsym_desc-preproc_bold.nii.gz',\n",
       "  'type': 'file',\n",
       "  'refds': '/Users/Storme/brainhack/Project/stephaniealley_bhs2020_project/Original_Data',\n",
       "  'status': 'ok',\n",
       "  'message': '',\n",
       "  'key': None},\n",
       " {'action': 'add',\n",
       "  'path': '/Users/Storme/brainhack/Project/stephaniealley_bhs2020_project/Original_Data/development_fmri/development_fmri/sub-pixar030_task-pixar_desc-confounds_regressors.tsv',\n",
       "  'type': 'file',\n",
       "  'refds': '/Users/Storme/brainhack/Project/stephaniealley_bhs2020_project/Original_Data',\n",
       "  'status': 'ok',\n",
       "  'message': '',\n",
       "  'key': None},\n",
       " {'action': 'add',\n",
       "  'path': '/Users/Storme/brainhack/Project/stephaniealley_bhs2020_project/Original_Data/development_fmri/development_fmri/sub-pixar030_task-pixar_space-MNI152NLin2009cAsym_desc-preproc_bold.nii.gz',\n",
       "  'type': 'file',\n",
       "  'refds': '/Users/Storme/brainhack/Project/stephaniealley_bhs2020_project/Original_Data',\n",
       "  'status': 'ok',\n",
       "  'message': '',\n",
       "  'key': None},\n",
       " {'action': 'add',\n",
       "  'path': '/Users/Storme/brainhack/Project/stephaniealley_bhs2020_project/Original_Data/development_fmri/development_fmri/sub-pixar031_task-pixar_desc-confounds_regressors.tsv',\n",
       "  'type': 'file',\n",
       "  'refds': '/Users/Storme/brainhack/Project/stephaniealley_bhs2020_project/Original_Data',\n",
       "  'status': 'ok',\n",
       "  'message': '',\n",
       "  'key': None},\n",
       " {'action': 'add',\n",
       "  'path': '/Users/Storme/brainhack/Project/stephaniealley_bhs2020_project/Original_Data/development_fmri/development_fmri/sub-pixar031_task-pixar_space-MNI152NLin2009cAsym_desc-preproc_bold.nii.gz',\n",
       "  'type': 'file',\n",
       "  'refds': '/Users/Storme/brainhack/Project/stephaniealley_bhs2020_project/Original_Data',\n",
       "  'status': 'ok',\n",
       "  'message': '',\n",
       "  'key': None},\n",
       " {'action': 'add',\n",
       "  'path': '/Users/Storme/brainhack/Project/stephaniealley_bhs2020_project/Original_Data/development_fmri/development_fmri/sub-pixar032_task-pixar_desc-confounds_regressors.tsv',\n",
       "  'type': 'file',\n",
       "  'refds': '/Users/Storme/brainhack/Project/stephaniealley_bhs2020_project/Original_Data',\n",
       "  'status': 'ok',\n",
       "  'message': '',\n",
       "  'key': None},\n",
       " {'action': 'add',\n",
       "  'path': '/Users/Storme/brainhack/Project/stephaniealley_bhs2020_project/Original_Data/development_fmri/development_fmri/sub-pixar032_task-pixar_space-MNI152NLin2009cAsym_desc-preproc_bold.nii.gz',\n",
       "  'type': 'file',\n",
       "  'refds': '/Users/Storme/brainhack/Project/stephaniealley_bhs2020_project/Original_Data',\n",
       "  'status': 'ok',\n",
       "  'message': '',\n",
       "  'key': None},\n",
       " {'action': 'add',\n",
       "  'path': '/Users/Storme/brainhack/Project/stephaniealley_bhs2020_project/Original_Data/development_fmri/development_fmri/sub-pixar033_task-pixar_desc-confounds_regressors.tsv',\n",
       "  'type': 'file',\n",
       "  'refds': '/Users/Storme/brainhack/Project/stephaniealley_bhs2020_project/Original_Data',\n",
       "  'status': 'ok',\n",
       "  'message': '',\n",
       "  'key': None},\n",
       " {'action': 'add',\n",
       "  'path': '/Users/Storme/brainhack/Project/stephaniealley_bhs2020_project/Original_Data/development_fmri/development_fmri/sub-pixar033_task-pixar_space-MNI152NLin2009cAsym_desc-preproc_bold.nii.gz',\n",
       "  'type': 'file',\n",
       "  'refds': '/Users/Storme/brainhack/Project/stephaniealley_bhs2020_project/Original_Data',\n",
       "  'status': 'ok',\n",
       "  'message': '',\n",
       "  'key': None},\n",
       " {'action': 'add',\n",
       "  'path': '/Users/Storme/brainhack/Project/stephaniealley_bhs2020_project/Original_Data/development_fmri/development_fmri/sub-pixar034_task-pixar_desc-confounds_regressors.tsv',\n",
       "  'type': 'file',\n",
       "  'refds': '/Users/Storme/brainhack/Project/stephaniealley_bhs2020_project/Original_Data',\n",
       "  'status': 'ok',\n",
       "  'message': '',\n",
       "  'key': None},\n",
       " {'action': 'add',\n",
       "  'path': '/Users/Storme/brainhack/Project/stephaniealley_bhs2020_project/Original_Data/development_fmri/development_fmri/sub-pixar034_task-pixar_space-MNI152NLin2009cAsym_desc-preproc_bold.nii.gz',\n",
       "  'type': 'file',\n",
       "  'refds': '/Users/Storme/brainhack/Project/stephaniealley_bhs2020_project/Original_Data',\n",
       "  'status': 'ok',\n",
       "  'message': '',\n",
       "  'key': None},\n",
       " {'action': 'add',\n",
       "  'path': '/Users/Storme/brainhack/Project/stephaniealley_bhs2020_project/Original_Data/development_fmri/development_fmri/sub-pixar035_task-pixar_desc-confounds_regressors.tsv',\n",
       "  'type': 'file',\n",
       "  'refds': '/Users/Storme/brainhack/Project/stephaniealley_bhs2020_project/Original_Data',\n",
       "  'status': 'ok',\n",
       "  'message': '',\n",
       "  'key': None},\n",
       " {'action': 'add',\n",
       "  'path': '/Users/Storme/brainhack/Project/stephaniealley_bhs2020_project/Original_Data/development_fmri/development_fmri/sub-pixar035_task-pixar_space-MNI152NLin2009cAsym_desc-preproc_bold.nii.gz',\n",
       "  'type': 'file',\n",
       "  'refds': '/Users/Storme/brainhack/Project/stephaniealley_bhs2020_project/Original_Data',\n",
       "  'status': 'ok',\n",
       "  'message': '',\n",
       "  'key': None},\n",
       " {'action': 'add',\n",
       "  'path': '/Users/Storme/brainhack/Project/stephaniealley_bhs2020_project/Original_Data/development_fmri/development_fmri/sub-pixar036_task-pixar_desc-confounds_regressors.tsv',\n",
       "  'type': 'file',\n",
       "  'refds': '/Users/Storme/brainhack/Project/stephaniealley_bhs2020_project/Original_Data',\n",
       "  'status': 'ok',\n",
       "  'message': '',\n",
       "  'key': None},\n",
       " {'action': 'add',\n",
       "  'path': '/Users/Storme/brainhack/Project/stephaniealley_bhs2020_project/Original_Data/development_fmri/development_fmri/sub-pixar036_task-pixar_space-MNI152NLin2009cAsym_desc-preproc_bold.nii.gz',\n",
       "  'type': 'file',\n",
       "  'refds': '/Users/Storme/brainhack/Project/stephaniealley_bhs2020_project/Original_Data',\n",
       "  'status': 'ok',\n",
       "  'message': '',\n",
       "  'key': None},\n",
       " {'action': 'add',\n",
       "  'path': '/Users/Storme/brainhack/Project/stephaniealley_bhs2020_project/Original_Data/development_fmri/development_fmri/sub-pixar037_task-pixar_desc-confounds_regressors.tsv',\n",
       "  'type': 'file',\n",
       "  'refds': '/Users/Storme/brainhack/Project/stephaniealley_bhs2020_project/Original_Data',\n",
       "  'status': 'ok',\n",
       "  'message': '',\n",
       "  'key': None},\n",
       " {'action': 'add',\n",
       "  'path': '/Users/Storme/brainhack/Project/stephaniealley_bhs2020_project/Original_Data/development_fmri/development_fmri/sub-pixar037_task-pixar_space-MNI152NLin2009cAsym_desc-preproc_bold.nii.gz',\n",
       "  'type': 'file',\n",
       "  'refds': '/Users/Storme/brainhack/Project/stephaniealley_bhs2020_project/Original_Data',\n",
       "  'status': 'ok',\n",
       "  'message': '',\n",
       "  'key': None},\n",
       " {'action': 'add',\n",
       "  'path': '/Users/Storme/brainhack/Project/stephaniealley_bhs2020_project/Original_Data/development_fmri/development_fmri/sub-pixar038_task-pixar_desc-confounds_regressors.tsv',\n",
       "  'type': 'file',\n",
       "  'refds': '/Users/Storme/brainhack/Project/stephaniealley_bhs2020_project/Original_Data',\n",
       "  'status': 'ok',\n",
       "  'message': '',\n",
       "  'key': None},\n",
       " {'action': 'add',\n",
       "  'path': '/Users/Storme/brainhack/Project/stephaniealley_bhs2020_project/Original_Data/development_fmri/development_fmri/sub-pixar038_task-pixar_space-MNI152NLin2009cAsym_desc-preproc_bold.nii.gz',\n",
       "  'type': 'file',\n",
       "  'refds': '/Users/Storme/brainhack/Project/stephaniealley_bhs2020_project/Original_Data',\n",
       "  'status': 'ok',\n",
       "  'message': '',\n",
       "  'key': None},\n",
       " {'action': 'add',\n",
       "  'path': '/Users/Storme/brainhack/Project/stephaniealley_bhs2020_project/Original_Data/development_fmri/development_fmri/sub-pixar039_task-pixar_desc-confounds_regressors.tsv',\n",
       "  'type': 'file',\n",
       "  'refds': '/Users/Storme/brainhack/Project/stephaniealley_bhs2020_project/Original_Data',\n",
       "  'status': 'ok',\n",
       "  'message': '',\n",
       "  'key': None},\n",
       " {'action': 'add',\n",
       "  'path': '/Users/Storme/brainhack/Project/stephaniealley_bhs2020_project/Original_Data/development_fmri/development_fmri/sub-pixar039_task-pixar_space-MNI152NLin2009cAsym_desc-preproc_bold.nii.gz',\n",
       "  'type': 'file',\n",
       "  'refds': '/Users/Storme/brainhack/Project/stephaniealley_bhs2020_project/Original_Data',\n",
       "  'status': 'ok',\n",
       "  'message': '',\n",
       "  'key': None},\n",
       " {'action': 'add',\n",
       "  'path': '/Users/Storme/brainhack/Project/stephaniealley_bhs2020_project/Original_Data/development_fmri/development_fmri/sub-pixar040_task-pixar_desc-confounds_regressors.tsv',\n",
       "  'type': 'file',\n",
       "  'refds': '/Users/Storme/brainhack/Project/stephaniealley_bhs2020_project/Original_Data',\n",
       "  'status': 'ok',\n",
       "  'message': '',\n",
       "  'key': None},\n",
       " {'action': 'add',\n",
       "  'path': '/Users/Storme/brainhack/Project/stephaniealley_bhs2020_project/Original_Data/development_fmri/development_fmri/sub-pixar040_task-pixar_space-MNI152NLin2009cAsym_desc-preproc_bold.nii.gz',\n",
       "  'type': 'file',\n",
       "  'refds': '/Users/Storme/brainhack/Project/stephaniealley_bhs2020_project/Original_Data',\n",
       "  'status': 'ok',\n",
       "  'message': '',\n",
       "  'key': None},\n",
       " {'action': 'add',\n",
       "  'path': '/Users/Storme/brainhack/Project/stephaniealley_bhs2020_project/Original_Data/development_fmri/development_fmri/sub-pixar041_task-pixar_desc-confounds_regressors.tsv',\n",
       "  'type': 'file',\n",
       "  'refds': '/Users/Storme/brainhack/Project/stephaniealley_bhs2020_project/Original_Data',\n",
       "  'status': 'ok',\n",
       "  'message': '',\n",
       "  'key': None},\n",
       " {'action': 'add',\n",
       "  'path': '/Users/Storme/brainhack/Project/stephaniealley_bhs2020_project/Original_Data/development_fmri/development_fmri/sub-pixar041_task-pixar_space-MNI152NLin2009cAsym_desc-preproc_bold.nii.gz',\n",
       "  'type': 'file',\n",
       "  'refds': '/Users/Storme/brainhack/Project/stephaniealley_bhs2020_project/Original_Data',\n",
       "  'status': 'ok',\n",
       "  'message': '',\n",
       "  'key': None},\n",
       " {'action': 'add',\n",
       "  'path': '/Users/Storme/brainhack/Project/stephaniealley_bhs2020_project/Original_Data/development_fmri/development_fmri/sub-pixar042_task-pixar_desc-confounds_regressors.tsv',\n",
       "  'type': 'file',\n",
       "  'refds': '/Users/Storme/brainhack/Project/stephaniealley_bhs2020_project/Original_Data',\n",
       "  'status': 'ok',\n",
       "  'message': '',\n",
       "  'key': None},\n",
       " {'action': 'add',\n",
       "  'path': '/Users/Storme/brainhack/Project/stephaniealley_bhs2020_project/Original_Data/development_fmri/development_fmri/sub-pixar042_task-pixar_space-MNI152NLin2009cAsym_desc-preproc_bold.nii.gz',\n",
       "  'type': 'file',\n",
       "  'refds': '/Users/Storme/brainhack/Project/stephaniealley_bhs2020_project/Original_Data',\n",
       "  'status': 'ok',\n",
       "  'message': '',\n",
       "  'key': None},\n",
       " {'action': 'add',\n",
       "  'path': '/Users/Storme/brainhack/Project/stephaniealley_bhs2020_project/Original_Data/development_fmri/development_fmri/sub-pixar043_task-pixar_desc-confounds_regressors.tsv',\n",
       "  'type': 'file',\n",
       "  'refds': '/Users/Storme/brainhack/Project/stephaniealley_bhs2020_project/Original_Data',\n",
       "  'status': 'ok',\n",
       "  'message': '',\n",
       "  'key': None},\n",
       " {'action': 'add',\n",
       "  'path': '/Users/Storme/brainhack/Project/stephaniealley_bhs2020_project/Original_Data/development_fmri/development_fmri/sub-pixar043_task-pixar_space-MNI152NLin2009cAsym_desc-preproc_bold.nii.gz',\n",
       "  'type': 'file',\n",
       "  'refds': '/Users/Storme/brainhack/Project/stephaniealley_bhs2020_project/Original_Data',\n",
       "  'status': 'ok',\n",
       "  'message': '',\n",
       "  'key': None},\n",
       " {'action': 'add',\n",
       "  'path': '/Users/Storme/brainhack/Project/stephaniealley_bhs2020_project/Original_Data/development_fmri/development_fmri/sub-pixar044_task-pixar_desc-confounds_regressors.tsv',\n",
       "  'type': 'file',\n",
       "  'refds': '/Users/Storme/brainhack/Project/stephaniealley_bhs2020_project/Original_Data',\n",
       "  'status': 'ok',\n",
       "  'message': '',\n",
       "  'key': None},\n",
       " {'action': 'add',\n",
       "  'path': '/Users/Storme/brainhack/Project/stephaniealley_bhs2020_project/Original_Data/development_fmri/development_fmri/sub-pixar044_task-pixar_space-MNI152NLin2009cAsym_desc-preproc_bold.nii.gz',\n",
       "  'type': 'file',\n",
       "  'refds': '/Users/Storme/brainhack/Project/stephaniealley_bhs2020_project/Original_Data',\n",
       "  'status': 'ok',\n",
       "  'message': '',\n",
       "  'key': None},\n",
       " {'action': 'add',\n",
       "  'path': '/Users/Storme/brainhack/Project/stephaniealley_bhs2020_project/Original_Data/development_fmri/development_fmri/sub-pixar045_task-pixar_desc-confounds_regressors.tsv',\n",
       "  'type': 'file',\n",
       "  'refds': '/Users/Storme/brainhack/Project/stephaniealley_bhs2020_project/Original_Data',\n",
       "  'status': 'ok',\n",
       "  'message': '',\n",
       "  'key': None},\n",
       " {'action': 'add',\n",
       "  'path': '/Users/Storme/brainhack/Project/stephaniealley_bhs2020_project/Original_Data/development_fmri/development_fmri/sub-pixar045_task-pixar_space-MNI152NLin2009cAsym_desc-preproc_bold.nii.gz',\n",
       "  'type': 'file',\n",
       "  'refds': '/Users/Storme/brainhack/Project/stephaniealley_bhs2020_project/Original_Data',\n",
       "  'status': 'ok',\n",
       "  'message': '',\n",
       "  'key': None},\n",
       " {'action': 'add',\n",
       "  'path': '/Users/Storme/brainhack/Project/stephaniealley_bhs2020_project/Original_Data/development_fmri/development_fmri/sub-pixar046_task-pixar_desc-confounds_regressors.tsv',\n",
       "  'type': 'file',\n",
       "  'refds': '/Users/Storme/brainhack/Project/stephaniealley_bhs2020_project/Original_Data',\n",
       "  'status': 'ok',\n",
       "  'message': '',\n",
       "  'key': None},\n",
       " {'action': 'add',\n",
       "  'path': '/Users/Storme/brainhack/Project/stephaniealley_bhs2020_project/Original_Data/development_fmri/development_fmri/sub-pixar046_task-pixar_space-MNI152NLin2009cAsym_desc-preproc_bold.nii.gz',\n",
       "  'type': 'file',\n",
       "  'refds': '/Users/Storme/brainhack/Project/stephaniealley_bhs2020_project/Original_Data',\n",
       "  'status': 'ok',\n",
       "  'message': '',\n",
       "  'key': None},\n",
       " {'action': 'add',\n",
       "  'path': '/Users/Storme/brainhack/Project/stephaniealley_bhs2020_project/Original_Data/development_fmri/development_fmri/sub-pixar047_task-pixar_desc-confounds_regressors.tsv',\n",
       "  'type': 'file',\n",
       "  'refds': '/Users/Storme/brainhack/Project/stephaniealley_bhs2020_project/Original_Data',\n",
       "  'status': 'ok',\n",
       "  'message': '',\n",
       "  'key': None},\n",
       " {'action': 'add',\n",
       "  'path': '/Users/Storme/brainhack/Project/stephaniealley_bhs2020_project/Original_Data/development_fmri/development_fmri/sub-pixar047_task-pixar_space-MNI152NLin2009cAsym_desc-preproc_bold.nii.gz',\n",
       "  'type': 'file',\n",
       "  'refds': '/Users/Storme/brainhack/Project/stephaniealley_bhs2020_project/Original_Data',\n",
       "  'status': 'ok',\n",
       "  'message': '',\n",
       "  'key': None},\n",
       " {'action': 'add',\n",
       "  'path': '/Users/Storme/brainhack/Project/stephaniealley_bhs2020_project/Original_Data/development_fmri/development_fmri/sub-pixar048_task-pixar_desc-confounds_regressors.tsv',\n",
       "  'type': 'file',\n",
       "  'refds': '/Users/Storme/brainhack/Project/stephaniealley_bhs2020_project/Original_Data',\n",
       "  'status': 'ok',\n",
       "  'message': '',\n",
       "  'key': None},\n",
       " {'action': 'add',\n",
       "  'path': '/Users/Storme/brainhack/Project/stephaniealley_bhs2020_project/Original_Data/development_fmri/development_fmri/sub-pixar048_task-pixar_space-MNI152NLin2009cAsym_desc-preproc_bold.nii.gz',\n",
       "  'type': 'file',\n",
       "  'refds': '/Users/Storme/brainhack/Project/stephaniealley_bhs2020_project/Original_Data',\n",
       "  'status': 'ok',\n",
       "  'message': '',\n",
       "  'key': None},\n",
       " {'action': 'add',\n",
       "  'path': '/Users/Storme/brainhack/Project/stephaniealley_bhs2020_project/Original_Data/development_fmri/development_fmri/sub-pixar049_task-pixar_desc-confounds_regressors.tsv',\n",
       "  'type': 'file',\n",
       "  'refds': '/Users/Storme/brainhack/Project/stephaniealley_bhs2020_project/Original_Data',\n",
       "  'status': 'ok',\n",
       "  'message': '',\n",
       "  'key': None},\n",
       " {'action': 'add',\n",
       "  'path': '/Users/Storme/brainhack/Project/stephaniealley_bhs2020_project/Original_Data/development_fmri/development_fmri/sub-pixar049_task-pixar_space-MNI152NLin2009cAsym_desc-preproc_bold.nii.gz',\n",
       "  'type': 'file',\n",
       "  'refds': '/Users/Storme/brainhack/Project/stephaniealley_bhs2020_project/Original_Data',\n",
       "  'status': 'ok',\n",
       "  'message': '',\n",
       "  'key': None},\n",
       " {'action': 'add',\n",
       "  'path': '/Users/Storme/brainhack/Project/stephaniealley_bhs2020_project/Original_Data/development_fmri/development_fmri/sub-pixar050_task-pixar_desc-confounds_regressors.tsv',\n",
       "  'type': 'file',\n",
       "  'refds': '/Users/Storme/brainhack/Project/stephaniealley_bhs2020_project/Original_Data',\n",
       "  'status': 'ok',\n",
       "  'message': '',\n",
       "  'key': None},\n",
       " {'action': 'add',\n",
       "  'path': '/Users/Storme/brainhack/Project/stephaniealley_bhs2020_project/Original_Data/development_fmri/development_fmri/sub-pixar050_task-pixar_space-MNI152NLin2009cAsym_desc-preproc_bold.nii.gz',\n",
       "  'type': 'file',\n",
       "  'refds': '/Users/Storme/brainhack/Project/stephaniealley_bhs2020_project/Original_Data',\n",
       "  'status': 'ok',\n",
       "  'message': '',\n",
       "  'key': None},\n",
       " {'action': 'add',\n",
       "  'path': '/Users/Storme/brainhack/Project/stephaniealley_bhs2020_project/Original_Data/development_fmri/development_fmri/sub-pixar051_task-pixar_desc-confounds_regressors.tsv',\n",
       "  'type': 'file',\n",
       "  'refds': '/Users/Storme/brainhack/Project/stephaniealley_bhs2020_project/Original_Data',\n",
       "  'status': 'ok',\n",
       "  'message': '',\n",
       "  'key': None},\n",
       " {'action': 'add',\n",
       "  'path': '/Users/Storme/brainhack/Project/stephaniealley_bhs2020_project/Original_Data/development_fmri/development_fmri/sub-pixar051_task-pixar_space-MNI152NLin2009cAsym_desc-preproc_bold.nii.gz',\n",
       "  'type': 'file',\n",
       "  'refds': '/Users/Storme/brainhack/Project/stephaniealley_bhs2020_project/Original_Data',\n",
       "  'status': 'ok',\n",
       "  'message': '',\n",
       "  'key': None},\n",
       " {'action': 'add',\n",
       "  'path': '/Users/Storme/brainhack/Project/stephaniealley_bhs2020_project/Original_Data/development_fmri/development_fmri/sub-pixar052_task-pixar_desc-confounds_regressors.tsv',\n",
       "  'type': 'file',\n",
       "  'refds': '/Users/Storme/brainhack/Project/stephaniealley_bhs2020_project/Original_Data',\n",
       "  'status': 'ok',\n",
       "  'message': '',\n",
       "  'key': None},\n",
       " {'action': 'add',\n",
       "  'path': '/Users/Storme/brainhack/Project/stephaniealley_bhs2020_project/Original_Data/development_fmri/development_fmri/sub-pixar052_task-pixar_space-MNI152NLin2009cAsym_desc-preproc_bold.nii.gz',\n",
       "  'type': 'file',\n",
       "  'refds': '/Users/Storme/brainhack/Project/stephaniealley_bhs2020_project/Original_Data',\n",
       "  'status': 'ok',\n",
       "  'message': '',\n",
       "  'key': None},\n",
       " {'action': 'add',\n",
       "  'path': '/Users/Storme/brainhack/Project/stephaniealley_bhs2020_project/Original_Data/development_fmri/development_fmri/sub-pixar053_task-pixar_desc-confounds_regressors.tsv',\n",
       "  'type': 'file',\n",
       "  'refds': '/Users/Storme/brainhack/Project/stephaniealley_bhs2020_project/Original_Data',\n",
       "  'status': 'ok',\n",
       "  'message': '',\n",
       "  'key': None},\n",
       " {'action': 'add',\n",
       "  'path': '/Users/Storme/brainhack/Project/stephaniealley_bhs2020_project/Original_Data/development_fmri/development_fmri/sub-pixar053_task-pixar_space-MNI152NLin2009cAsym_desc-preproc_bold.nii.gz',\n",
       "  'type': 'file',\n",
       "  'refds': '/Users/Storme/brainhack/Project/stephaniealley_bhs2020_project/Original_Data',\n",
       "  'status': 'ok',\n",
       "  'message': '',\n",
       "  'key': None},\n",
       " {'action': 'add',\n",
       "  'path': '/Users/Storme/brainhack/Project/stephaniealley_bhs2020_project/Original_Data/development_fmri/development_fmri/sub-pixar054_task-pixar_desc-confounds_regressors.tsv',\n",
       "  'type': 'file',\n",
       "  'refds': '/Users/Storme/brainhack/Project/stephaniealley_bhs2020_project/Original_Data',\n",
       "  'status': 'ok',\n",
       "  'message': '',\n",
       "  'key': None},\n",
       " {'action': 'add',\n",
       "  'path': '/Users/Storme/brainhack/Project/stephaniealley_bhs2020_project/Original_Data/development_fmri/development_fmri/sub-pixar054_task-pixar_space-MNI152NLin2009cAsym_desc-preproc_bold.nii.gz',\n",
       "  'type': 'file',\n",
       "  'refds': '/Users/Storme/brainhack/Project/stephaniealley_bhs2020_project/Original_Data',\n",
       "  'status': 'ok',\n",
       "  'message': '',\n",
       "  'key': None},\n",
       " {'action': 'add',\n",
       "  'path': '/Users/Storme/brainhack/Project/stephaniealley_bhs2020_project/Original_Data/development_fmri/development_fmri/sub-pixar055_task-pixar_desc-confounds_regressors.tsv',\n",
       "  'type': 'file',\n",
       "  'refds': '/Users/Storme/brainhack/Project/stephaniealley_bhs2020_project/Original_Data',\n",
       "  'status': 'ok',\n",
       "  'message': '',\n",
       "  'key': None},\n",
       " {'action': 'add',\n",
       "  'path': '/Users/Storme/brainhack/Project/stephaniealley_bhs2020_project/Original_Data/development_fmri/development_fmri/sub-pixar055_task-pixar_space-MNI152NLin2009cAsym_desc-preproc_bold.nii.gz',\n",
       "  'type': 'file',\n",
       "  'refds': '/Users/Storme/brainhack/Project/stephaniealley_bhs2020_project/Original_Data',\n",
       "  'status': 'ok',\n",
       "  'message': '',\n",
       "  'key': None},\n",
       " {'action': 'add',\n",
       "  'path': '/Users/Storme/brainhack/Project/stephaniealley_bhs2020_project/Original_Data/development_fmri/development_fmri/sub-pixar056_task-pixar_desc-confounds_regressors.tsv',\n",
       "  'type': 'file',\n",
       "  'refds': '/Users/Storme/brainhack/Project/stephaniealley_bhs2020_project/Original_Data',\n",
       "  'status': 'ok',\n",
       "  'message': '',\n",
       "  'key': None},\n",
       " {'action': 'add',\n",
       "  'path': '/Users/Storme/brainhack/Project/stephaniealley_bhs2020_project/Original_Data/development_fmri/development_fmri/sub-pixar056_task-pixar_space-MNI152NLin2009cAsym_desc-preproc_bold.nii.gz',\n",
       "  'type': 'file',\n",
       "  'refds': '/Users/Storme/brainhack/Project/stephaniealley_bhs2020_project/Original_Data',\n",
       "  'status': 'ok',\n",
       "  'message': '',\n",
       "  'key': None},\n",
       " {'action': 'add',\n",
       "  'path': '/Users/Storme/brainhack/Project/stephaniealley_bhs2020_project/Original_Data/development_fmri/development_fmri/sub-pixar057_task-pixar_desc-confounds_regressors.tsv',\n",
       "  'type': 'file',\n",
       "  'refds': '/Users/Storme/brainhack/Project/stephaniealley_bhs2020_project/Original_Data',\n",
       "  'status': 'ok',\n",
       "  'message': '',\n",
       "  'key': None},\n",
       " {'action': 'add',\n",
       "  'path': '/Users/Storme/brainhack/Project/stephaniealley_bhs2020_project/Original_Data/development_fmri/development_fmri/sub-pixar057_task-pixar_space-MNI152NLin2009cAsym_desc-preproc_bold.nii.gz',\n",
       "  'type': 'file',\n",
       "  'refds': '/Users/Storme/brainhack/Project/stephaniealley_bhs2020_project/Original_Data',\n",
       "  'status': 'ok',\n",
       "  'message': '',\n",
       "  'key': None},\n",
       " {'action': 'add',\n",
       "  'path': '/Users/Storme/brainhack/Project/stephaniealley_bhs2020_project/Original_Data/development_fmri/development_fmri/sub-pixar058_task-pixar_desc-confounds_regressors.tsv',\n",
       "  'type': 'file',\n",
       "  'refds': '/Users/Storme/brainhack/Project/stephaniealley_bhs2020_project/Original_Data',\n",
       "  'status': 'ok',\n",
       "  'message': '',\n",
       "  'key': None},\n",
       " {'action': 'add',\n",
       "  'path': '/Users/Storme/brainhack/Project/stephaniealley_bhs2020_project/Original_Data/development_fmri/development_fmri/sub-pixar058_task-pixar_space-MNI152NLin2009cAsym_desc-preproc_bold.nii.gz',\n",
       "  'type': 'file',\n",
       "  'refds': '/Users/Storme/brainhack/Project/stephaniealley_bhs2020_project/Original_Data',\n",
       "  'status': 'ok',\n",
       "  'message': '',\n",
       "  'key': None},\n",
       " {'action': 'add',\n",
       "  'path': '/Users/Storme/brainhack/Project/stephaniealley_bhs2020_project/Original_Data/development_fmri/development_fmri/sub-pixar059_task-pixar_desc-confounds_regressors.tsv',\n",
       "  'type': 'file',\n",
       "  'refds': '/Users/Storme/brainhack/Project/stephaniealley_bhs2020_project/Original_Data',\n",
       "  'status': 'ok',\n",
       "  'message': '',\n",
       "  'key': None},\n",
       " {'action': 'add',\n",
       "  'path': '/Users/Storme/brainhack/Project/stephaniealley_bhs2020_project/Original_Data/development_fmri/development_fmri/sub-pixar059_task-pixar_space-MNI152NLin2009cAsym_desc-preproc_bold.nii.gz',\n",
       "  'type': 'file',\n",
       "  'refds': '/Users/Storme/brainhack/Project/stephaniealley_bhs2020_project/Original_Data',\n",
       "  'status': 'ok',\n",
       "  'message': '',\n",
       "  'key': None},\n",
       " {'action': 'add',\n",
       "  'path': '/Users/Storme/brainhack/Project/stephaniealley_bhs2020_project/Original_Data/development_fmri/development_fmri/sub-pixar060_task-pixar_desc-confounds_regressors.tsv',\n",
       "  'type': 'file',\n",
       "  'refds': '/Users/Storme/brainhack/Project/stephaniealley_bhs2020_project/Original_Data',\n",
       "  'status': 'ok',\n",
       "  'message': '',\n",
       "  'key': None},\n",
       " {'action': 'add',\n",
       "  'path': '/Users/Storme/brainhack/Project/stephaniealley_bhs2020_project/Original_Data/development_fmri/development_fmri/sub-pixar060_task-pixar_space-MNI152NLin2009cAsym_desc-preproc_bold.nii.gz',\n",
       "  'type': 'file',\n",
       "  'refds': '/Users/Storme/brainhack/Project/stephaniealley_bhs2020_project/Original_Data',\n",
       "  'status': 'ok',\n",
       "  'message': '',\n",
       "  'key': None},\n",
       " {'action': 'add',\n",
       "  'path': '/Users/Storme/brainhack/Project/stephaniealley_bhs2020_project/Original_Data/development_fmri/development_fmri/sub-pixar061_task-pixar_desc-confounds_regressors.tsv',\n",
       "  'type': 'file',\n",
       "  'refds': '/Users/Storme/brainhack/Project/stephaniealley_bhs2020_project/Original_Data',\n",
       "  'status': 'ok',\n",
       "  'message': '',\n",
       "  'key': None},\n",
       " {'action': 'add',\n",
       "  'path': '/Users/Storme/brainhack/Project/stephaniealley_bhs2020_project/Original_Data/development_fmri/development_fmri/sub-pixar061_task-pixar_space-MNI152NLin2009cAsym_desc-preproc_bold.nii.gz',\n",
       "  'type': 'file',\n",
       "  'refds': '/Users/Storme/brainhack/Project/stephaniealley_bhs2020_project/Original_Data',\n",
       "  'status': 'ok',\n",
       "  'message': '',\n",
       "  'key': None},\n",
       " {'action': 'add',\n",
       "  'path': '/Users/Storme/brainhack/Project/stephaniealley_bhs2020_project/Original_Data/development_fmri/development_fmri/sub-pixar062_task-pixar_desc-confounds_regressors.tsv',\n",
       "  'type': 'file',\n",
       "  'refds': '/Users/Storme/brainhack/Project/stephaniealley_bhs2020_project/Original_Data',\n",
       "  'status': 'ok',\n",
       "  'message': '',\n",
       "  'key': None},\n",
       " {'action': 'add',\n",
       "  'path': '/Users/Storme/brainhack/Project/stephaniealley_bhs2020_project/Original_Data/development_fmri/development_fmri/sub-pixar062_task-pixar_space-MNI152NLin2009cAsym_desc-preproc_bold.nii.gz',\n",
       "  'type': 'file',\n",
       "  'refds': '/Users/Storme/brainhack/Project/stephaniealley_bhs2020_project/Original_Data',\n",
       "  'status': 'ok',\n",
       "  'message': '',\n",
       "  'key': None},\n",
       " {'action': 'add',\n",
       "  'path': '/Users/Storme/brainhack/Project/stephaniealley_bhs2020_project/Original_Data/development_fmri/development_fmri/sub-pixar063_task-pixar_desc-confounds_regressors.tsv',\n",
       "  'type': 'file',\n",
       "  'refds': '/Users/Storme/brainhack/Project/stephaniealley_bhs2020_project/Original_Data',\n",
       "  'status': 'ok',\n",
       "  'message': '',\n",
       "  'key': None},\n",
       " {'action': 'add',\n",
       "  'path': '/Users/Storme/brainhack/Project/stephaniealley_bhs2020_project/Original_Data/development_fmri/development_fmri/sub-pixar063_task-pixar_space-MNI152NLin2009cAsym_desc-preproc_bold.nii.gz',\n",
       "  'type': 'file',\n",
       "  'refds': '/Users/Storme/brainhack/Project/stephaniealley_bhs2020_project/Original_Data',\n",
       "  'status': 'ok',\n",
       "  'message': '',\n",
       "  'key': None},\n",
       " {'action': 'add',\n",
       "  'path': '/Users/Storme/brainhack/Project/stephaniealley_bhs2020_project/Original_Data/development_fmri/development_fmri/sub-pixar064_task-pixar_desc-confounds_regressors.tsv',\n",
       "  'type': 'file',\n",
       "  'refds': '/Users/Storme/brainhack/Project/stephaniealley_bhs2020_project/Original_Data',\n",
       "  'status': 'ok',\n",
       "  'message': '',\n",
       "  'key': None},\n",
       " {'action': 'add',\n",
       "  'path': '/Users/Storme/brainhack/Project/stephaniealley_bhs2020_project/Original_Data/development_fmri/development_fmri/sub-pixar064_task-pixar_space-MNI152NLin2009cAsym_desc-preproc_bold.nii.gz',\n",
       "  'type': 'file',\n",
       "  'refds': '/Users/Storme/brainhack/Project/stephaniealley_bhs2020_project/Original_Data',\n",
       "  'status': 'ok',\n",
       "  'message': '',\n",
       "  'key': None},\n",
       " {'action': 'add',\n",
       "  'path': '/Users/Storme/brainhack/Project/stephaniealley_bhs2020_project/Original_Data/development_fmri/development_fmri/sub-pixar065_task-pixar_desc-confounds_regressors.tsv',\n",
       "  'type': 'file',\n",
       "  'refds': '/Users/Storme/brainhack/Project/stephaniealley_bhs2020_project/Original_Data',\n",
       "  'status': 'ok',\n",
       "  'message': '',\n",
       "  'key': None},\n",
       " {'action': 'add',\n",
       "  'path': '/Users/Storme/brainhack/Project/stephaniealley_bhs2020_project/Original_Data/development_fmri/development_fmri/sub-pixar065_task-pixar_space-MNI152NLin2009cAsym_desc-preproc_bold.nii.gz',\n",
       "  'type': 'file',\n",
       "  'refds': '/Users/Storme/brainhack/Project/stephaniealley_bhs2020_project/Original_Data',\n",
       "  'status': 'ok',\n",
       "  'message': '',\n",
       "  'key': None},\n",
       " {'action': 'add',\n",
       "  'path': '/Users/Storme/brainhack/Project/stephaniealley_bhs2020_project/Original_Data/development_fmri/development_fmri/sub-pixar066_task-pixar_desc-confounds_regressors.tsv',\n",
       "  'type': 'file',\n",
       "  'refds': '/Users/Storme/brainhack/Project/stephaniealley_bhs2020_project/Original_Data',\n",
       "  'status': 'ok',\n",
       "  'message': '',\n",
       "  'key': None},\n",
       " {'action': 'add',\n",
       "  'path': '/Users/Storme/brainhack/Project/stephaniealley_bhs2020_project/Original_Data/development_fmri/development_fmri/sub-pixar066_task-pixar_space-MNI152NLin2009cAsym_desc-preproc_bold.nii.gz',\n",
       "  'type': 'file',\n",
       "  'refds': '/Users/Storme/brainhack/Project/stephaniealley_bhs2020_project/Original_Data',\n",
       "  'status': 'ok',\n",
       "  'message': '',\n",
       "  'key': None},\n",
       " {'action': 'add',\n",
       "  'path': '/Users/Storme/brainhack/Project/stephaniealley_bhs2020_project/Original_Data/development_fmri/development_fmri/sub-pixar067_task-pixar_desc-confounds_regressors.tsv',\n",
       "  'type': 'file',\n",
       "  'refds': '/Users/Storme/brainhack/Project/stephaniealley_bhs2020_project/Original_Data',\n",
       "  'status': 'ok',\n",
       "  'message': '',\n",
       "  'key': None},\n",
       " {'action': 'add',\n",
       "  'path': '/Users/Storme/brainhack/Project/stephaniealley_bhs2020_project/Original_Data/development_fmri/development_fmri/sub-pixar067_task-pixar_space-MNI152NLin2009cAsym_desc-preproc_bold.nii.gz',\n",
       "  'type': 'file',\n",
       "  'refds': '/Users/Storme/brainhack/Project/stephaniealley_bhs2020_project/Original_Data',\n",
       "  'status': 'ok',\n",
       "  'message': '',\n",
       "  'key': None},\n",
       " {'action': 'add',\n",
       "  'path': '/Users/Storme/brainhack/Project/stephaniealley_bhs2020_project/Original_Data/development_fmri/development_fmri/sub-pixar068_task-pixar_desc-confounds_regressors.tsv',\n",
       "  'type': 'file',\n",
       "  'refds': '/Users/Storme/brainhack/Project/stephaniealley_bhs2020_project/Original_Data',\n",
       "  'status': 'ok',\n",
       "  'message': '',\n",
       "  'key': None},\n",
       " {'action': 'add',\n",
       "  'path': '/Users/Storme/brainhack/Project/stephaniealley_bhs2020_project/Original_Data/development_fmri/development_fmri/sub-pixar068_task-pixar_space-MNI152NLin2009cAsym_desc-preproc_bold.nii.gz',\n",
       "  'type': 'file',\n",
       "  'refds': '/Users/Storme/brainhack/Project/stephaniealley_bhs2020_project/Original_Data',\n",
       "  'status': 'ok',\n",
       "  'message': '',\n",
       "  'key': None},\n",
       " {'action': 'add',\n",
       "  'path': '/Users/Storme/brainhack/Project/stephaniealley_bhs2020_project/Original_Data/development_fmri/development_fmri/sub-pixar069_task-pixar_desc-confounds_regressors.tsv',\n",
       "  'type': 'file',\n",
       "  'refds': '/Users/Storme/brainhack/Project/stephaniealley_bhs2020_project/Original_Data',\n",
       "  'status': 'ok',\n",
       "  'message': '',\n",
       "  'key': None},\n",
       " {'action': 'add',\n",
       "  'path': '/Users/Storme/brainhack/Project/stephaniealley_bhs2020_project/Original_Data/development_fmri/development_fmri/sub-pixar069_task-pixar_space-MNI152NLin2009cAsym_desc-preproc_bold.nii.gz',\n",
       "  'type': 'file',\n",
       "  'refds': '/Users/Storme/brainhack/Project/stephaniealley_bhs2020_project/Original_Data',\n",
       "  'status': 'ok',\n",
       "  'message': '',\n",
       "  'key': None},\n",
       " {'action': 'add',\n",
       "  'path': '/Users/Storme/brainhack/Project/stephaniealley_bhs2020_project/Original_Data/development_fmri/development_fmri/sub-pixar070_task-pixar_desc-confounds_regressors.tsv',\n",
       "  'type': 'file',\n",
       "  'refds': '/Users/Storme/brainhack/Project/stephaniealley_bhs2020_project/Original_Data',\n",
       "  'status': 'ok',\n",
       "  'message': '',\n",
       "  'key': None},\n",
       " {'action': 'add',\n",
       "  'path': '/Users/Storme/brainhack/Project/stephaniealley_bhs2020_project/Original_Data/development_fmri/development_fmri/sub-pixar070_task-pixar_space-MNI152NLin2009cAsym_desc-preproc_bold.nii.gz',\n",
       "  'type': 'file',\n",
       "  'refds': '/Users/Storme/brainhack/Project/stephaniealley_bhs2020_project/Original_Data',\n",
       "  'status': 'ok',\n",
       "  'message': '',\n",
       "  'key': None},\n",
       " {'action': 'add',\n",
       "  'path': '/Users/Storme/brainhack/Project/stephaniealley_bhs2020_project/Original_Data/development_fmri/development_fmri/sub-pixar071_task-pixar_desc-confounds_regressors.tsv',\n",
       "  'type': 'file',\n",
       "  'refds': '/Users/Storme/brainhack/Project/stephaniealley_bhs2020_project/Original_Data',\n",
       "  'status': 'ok',\n",
       "  'message': '',\n",
       "  'key': None},\n",
       " {'action': 'add',\n",
       "  'path': '/Users/Storme/brainhack/Project/stephaniealley_bhs2020_project/Original_Data/development_fmri/development_fmri/sub-pixar071_task-pixar_space-MNI152NLin2009cAsym_desc-preproc_bold.nii.gz',\n",
       "  'type': 'file',\n",
       "  'refds': '/Users/Storme/brainhack/Project/stephaniealley_bhs2020_project/Original_Data',\n",
       "  'status': 'ok',\n",
       "  'message': '',\n",
       "  'key': None},\n",
       " {'action': 'add',\n",
       "  'path': '/Users/Storme/brainhack/Project/stephaniealley_bhs2020_project/Original_Data/development_fmri/development_fmri/sub-pixar072_task-pixar_desc-confounds_regressors.tsv',\n",
       "  'type': 'file',\n",
       "  'refds': '/Users/Storme/brainhack/Project/stephaniealley_bhs2020_project/Original_Data',\n",
       "  'status': 'ok',\n",
       "  'message': '',\n",
       "  'key': None},\n",
       " {'action': 'add',\n",
       "  'path': '/Users/Storme/brainhack/Project/stephaniealley_bhs2020_project/Original_Data/development_fmri/development_fmri/sub-pixar072_task-pixar_space-MNI152NLin2009cAsym_desc-preproc_bold.nii.gz',\n",
       "  'type': 'file',\n",
       "  'refds': '/Users/Storme/brainhack/Project/stephaniealley_bhs2020_project/Original_Data',\n",
       "  'status': 'ok',\n",
       "  'message': '',\n",
       "  'key': None},\n",
       " {'action': 'add',\n",
       "  'path': '/Users/Storme/brainhack/Project/stephaniealley_bhs2020_project/Original_Data/development_fmri/development_fmri/sub-pixar073_task-pixar_desc-confounds_regressors.tsv',\n",
       "  'type': 'file',\n",
       "  'refds': '/Users/Storme/brainhack/Project/stephaniealley_bhs2020_project/Original_Data',\n",
       "  'status': 'ok',\n",
       "  'message': '',\n",
       "  'key': None},\n",
       " {'action': 'add',\n",
       "  'path': '/Users/Storme/brainhack/Project/stephaniealley_bhs2020_project/Original_Data/development_fmri/development_fmri/sub-pixar073_task-pixar_space-MNI152NLin2009cAsym_desc-preproc_bold.nii.gz',\n",
       "  'type': 'file',\n",
       "  'refds': '/Users/Storme/brainhack/Project/stephaniealley_bhs2020_project/Original_Data',\n",
       "  'status': 'ok',\n",
       "  'message': '',\n",
       "  'key': None},\n",
       " {'action': 'add',\n",
       "  'path': '/Users/Storme/brainhack/Project/stephaniealley_bhs2020_project/Original_Data/development_fmri/development_fmri/sub-pixar074_task-pixar_desc-confounds_regressors.tsv',\n",
       "  'type': 'file',\n",
       "  'refds': '/Users/Storme/brainhack/Project/stephaniealley_bhs2020_project/Original_Data',\n",
       "  'status': 'ok',\n",
       "  'message': '',\n",
       "  'key': None},\n",
       " {'action': 'add',\n",
       "  'path': '/Users/Storme/brainhack/Project/stephaniealley_bhs2020_project/Original_Data/development_fmri/development_fmri/sub-pixar074_task-pixar_space-MNI152NLin2009cAsym_desc-preproc_bold.nii.gz',\n",
       "  'type': 'file',\n",
       "  'refds': '/Users/Storme/brainhack/Project/stephaniealley_bhs2020_project/Original_Data',\n",
       "  'status': 'ok',\n",
       "  'message': '',\n",
       "  'key': None},\n",
       " {'action': 'add',\n",
       "  'path': '/Users/Storme/brainhack/Project/stephaniealley_bhs2020_project/Original_Data/development_fmri/development_fmri/sub-pixar075_task-pixar_desc-confounds_regressors.tsv',\n",
       "  'type': 'file',\n",
       "  'refds': '/Users/Storme/brainhack/Project/stephaniealley_bhs2020_project/Original_Data',\n",
       "  'status': 'ok',\n",
       "  'message': '',\n",
       "  'key': None},\n",
       " {'action': 'add',\n",
       "  'path': '/Users/Storme/brainhack/Project/stephaniealley_bhs2020_project/Original_Data/development_fmri/development_fmri/sub-pixar075_task-pixar_space-MNI152NLin2009cAsym_desc-preproc_bold.nii.gz',\n",
       "  'type': 'file',\n",
       "  'refds': '/Users/Storme/brainhack/Project/stephaniealley_bhs2020_project/Original_Data',\n",
       "  'status': 'ok',\n",
       "  'message': '',\n",
       "  'key': None},\n",
       " {'action': 'add',\n",
       "  'path': '/Users/Storme/brainhack/Project/stephaniealley_bhs2020_project/Original_Data/development_fmri/development_fmri/sub-pixar076_task-pixar_desc-confounds_regressors.tsv',\n",
       "  'type': 'file',\n",
       "  'refds': '/Users/Storme/brainhack/Project/stephaniealley_bhs2020_project/Original_Data',\n",
       "  'status': 'ok',\n",
       "  'message': '',\n",
       "  'key': None},\n",
       " {'action': 'add',\n",
       "  'path': '/Users/Storme/brainhack/Project/stephaniealley_bhs2020_project/Original_Data/development_fmri/development_fmri/sub-pixar076_task-pixar_space-MNI152NLin2009cAsym_desc-preproc_bold.nii.gz',\n",
       "  'type': 'file',\n",
       "  'refds': '/Users/Storme/brainhack/Project/stephaniealley_bhs2020_project/Original_Data',\n",
       "  'status': 'ok',\n",
       "  'message': '',\n",
       "  'key': None},\n",
       " {'action': 'add',\n",
       "  'path': '/Users/Storme/brainhack/Project/stephaniealley_bhs2020_project/Original_Data/development_fmri/development_fmri/sub-pixar077_task-pixar_desc-confounds_regressors.tsv',\n",
       "  'type': 'file',\n",
       "  'refds': '/Users/Storme/brainhack/Project/stephaniealley_bhs2020_project/Original_Data',\n",
       "  'status': 'ok',\n",
       "  'message': '',\n",
       "  'key': None},\n",
       " {'action': 'add',\n",
       "  'path': '/Users/Storme/brainhack/Project/stephaniealley_bhs2020_project/Original_Data/development_fmri/development_fmri/sub-pixar077_task-pixar_space-MNI152NLin2009cAsym_desc-preproc_bold.nii.gz',\n",
       "  'type': 'file',\n",
       "  'refds': '/Users/Storme/brainhack/Project/stephaniealley_bhs2020_project/Original_Data',\n",
       "  'status': 'ok',\n",
       "  'message': '',\n",
       "  'key': None},\n",
       " {'action': 'add',\n",
       "  'path': '/Users/Storme/brainhack/Project/stephaniealley_bhs2020_project/Original_Data/development_fmri/development_fmri/sub-pixar078_task-pixar_desc-confounds_regressors.tsv',\n",
       "  'type': 'file',\n",
       "  'refds': '/Users/Storme/brainhack/Project/stephaniealley_bhs2020_project/Original_Data',\n",
       "  'status': 'ok',\n",
       "  'message': '',\n",
       "  'key': None},\n",
       " {'action': 'add',\n",
       "  'path': '/Users/Storme/brainhack/Project/stephaniealley_bhs2020_project/Original_Data/development_fmri/development_fmri/sub-pixar078_task-pixar_space-MNI152NLin2009cAsym_desc-preproc_bold.nii.gz',\n",
       "  'type': 'file',\n",
       "  'refds': '/Users/Storme/brainhack/Project/stephaniealley_bhs2020_project/Original_Data',\n",
       "  'status': 'ok',\n",
       "  'message': '',\n",
       "  'key': None},\n",
       " {'action': 'add',\n",
       "  'path': '/Users/Storme/brainhack/Project/stephaniealley_bhs2020_project/Original_Data/development_fmri/development_fmri/sub-pixar079_task-pixar_desc-confounds_regressors.tsv',\n",
       "  'type': 'file',\n",
       "  'refds': '/Users/Storme/brainhack/Project/stephaniealley_bhs2020_project/Original_Data',\n",
       "  'status': 'ok',\n",
       "  'message': '',\n",
       "  'key': None},\n",
       " {'action': 'add',\n",
       "  'path': '/Users/Storme/brainhack/Project/stephaniealley_bhs2020_project/Original_Data/development_fmri/development_fmri/sub-pixar079_task-pixar_space-MNI152NLin2009cAsym_desc-preproc_bold.nii.gz',\n",
       "  'type': 'file',\n",
       "  'refds': '/Users/Storme/brainhack/Project/stephaniealley_bhs2020_project/Original_Data',\n",
       "  'status': 'ok',\n",
       "  'message': '',\n",
       "  'key': None},\n",
       " {'action': 'add',\n",
       "  'path': '/Users/Storme/brainhack/Project/stephaniealley_bhs2020_project/Original_Data/development_fmri/development_fmri/sub-pixar080_task-pixar_desc-confounds_regressors.tsv',\n",
       "  'type': 'file',\n",
       "  'refds': '/Users/Storme/brainhack/Project/stephaniealley_bhs2020_project/Original_Data',\n",
       "  'status': 'ok',\n",
       "  'message': '',\n",
       "  'key': None},\n",
       " {'action': 'add',\n",
       "  'path': '/Users/Storme/brainhack/Project/stephaniealley_bhs2020_project/Original_Data/development_fmri/development_fmri/sub-pixar080_task-pixar_space-MNI152NLin2009cAsym_desc-preproc_bold.nii.gz',\n",
       "  'type': 'file',\n",
       "  'refds': '/Users/Storme/brainhack/Project/stephaniealley_bhs2020_project/Original_Data',\n",
       "  'status': 'ok',\n",
       "  'message': '',\n",
       "  'key': None},\n",
       " {'action': 'add',\n",
       "  'path': '/Users/Storme/brainhack/Project/stephaniealley_bhs2020_project/Original_Data/development_fmri/development_fmri/sub-pixar081_task-pixar_desc-confounds_regressors.tsv',\n",
       "  'type': 'file',\n",
       "  'refds': '/Users/Storme/brainhack/Project/stephaniealley_bhs2020_project/Original_Data',\n",
       "  'status': 'ok',\n",
       "  'message': '',\n",
       "  'key': None},\n",
       " {'action': 'add',\n",
       "  'path': '/Users/Storme/brainhack/Project/stephaniealley_bhs2020_project/Original_Data/development_fmri/development_fmri/sub-pixar081_task-pixar_space-MNI152NLin2009cAsym_desc-preproc_bold.nii.gz',\n",
       "  'type': 'file',\n",
       "  'refds': '/Users/Storme/brainhack/Project/stephaniealley_bhs2020_project/Original_Data',\n",
       "  'status': 'ok',\n",
       "  'message': '',\n",
       "  'key': None},\n",
       " {'action': 'add',\n",
       "  'path': '/Users/Storme/brainhack/Project/stephaniealley_bhs2020_project/Original_Data/development_fmri/development_fmri/sub-pixar082_task-pixar_desc-confounds_regressors.tsv',\n",
       "  'type': 'file',\n",
       "  'refds': '/Users/Storme/brainhack/Project/stephaniealley_bhs2020_project/Original_Data',\n",
       "  'status': 'ok',\n",
       "  'message': '',\n",
       "  'key': None},\n",
       " {'action': 'add',\n",
       "  'path': '/Users/Storme/brainhack/Project/stephaniealley_bhs2020_project/Original_Data/development_fmri/development_fmri/sub-pixar082_task-pixar_space-MNI152NLin2009cAsym_desc-preproc_bold.nii.gz',\n",
       "  'type': 'file',\n",
       "  'refds': '/Users/Storme/brainhack/Project/stephaniealley_bhs2020_project/Original_Data',\n",
       "  'status': 'ok',\n",
       "  'message': '',\n",
       "  'key': None},\n",
       " {'action': 'add',\n",
       "  'path': '/Users/Storme/brainhack/Project/stephaniealley_bhs2020_project/Original_Data/development_fmri/development_fmri/sub-pixar083_task-pixar_desc-confounds_regressors.tsv',\n",
       "  'type': 'file',\n",
       "  'refds': '/Users/Storme/brainhack/Project/stephaniealley_bhs2020_project/Original_Data',\n",
       "  'status': 'ok',\n",
       "  'message': '',\n",
       "  'key': None},\n",
       " {'action': 'add',\n",
       "  'path': '/Users/Storme/brainhack/Project/stephaniealley_bhs2020_project/Original_Data/development_fmri/development_fmri/sub-pixar083_task-pixar_space-MNI152NLin2009cAsym_desc-preproc_bold.nii.gz',\n",
       "  'type': 'file',\n",
       "  'refds': '/Users/Storme/brainhack/Project/stephaniealley_bhs2020_project/Original_Data',\n",
       "  'status': 'ok',\n",
       "  'message': '',\n",
       "  'key': None},\n",
       " {'action': 'add',\n",
       "  'path': '/Users/Storme/brainhack/Project/stephaniealley_bhs2020_project/Original_Data/development_fmri/development_fmri/sub-pixar084_task-pixar_desc-confounds_regressors.tsv',\n",
       "  'type': 'file',\n",
       "  'refds': '/Users/Storme/brainhack/Project/stephaniealley_bhs2020_project/Original_Data',\n",
       "  'status': 'ok',\n",
       "  'message': '',\n",
       "  'key': None},\n",
       " {'action': 'add',\n",
       "  'path': '/Users/Storme/brainhack/Project/stephaniealley_bhs2020_project/Original_Data/development_fmri/development_fmri/sub-pixar084_task-pixar_space-MNI152NLin2009cAsym_desc-preproc_bold.nii.gz',\n",
       "  'type': 'file',\n",
       "  'refds': '/Users/Storme/brainhack/Project/stephaniealley_bhs2020_project/Original_Data',\n",
       "  'status': 'ok',\n",
       "  'message': '',\n",
       "  'key': None},\n",
       " {'action': 'add',\n",
       "  'path': '/Users/Storme/brainhack/Project/stephaniealley_bhs2020_project/Original_Data/development_fmri/development_fmri/sub-pixar085_task-pixar_desc-confounds_regressors.tsv',\n",
       "  'type': 'file',\n",
       "  'refds': '/Users/Storme/brainhack/Project/stephaniealley_bhs2020_project/Original_Data',\n",
       "  'status': 'ok',\n",
       "  'message': '',\n",
       "  'key': None},\n",
       " {'action': 'add',\n",
       "  'path': '/Users/Storme/brainhack/Project/stephaniealley_bhs2020_project/Original_Data/development_fmri/development_fmri/sub-pixar085_task-pixar_space-MNI152NLin2009cAsym_desc-preproc_bold.nii.gz',\n",
       "  'type': 'file',\n",
       "  'refds': '/Users/Storme/brainhack/Project/stephaniealley_bhs2020_project/Original_Data',\n",
       "  'status': 'ok',\n",
       "  'message': '',\n",
       "  'key': None},\n",
       " {'action': 'add',\n",
       "  'path': '/Users/Storme/brainhack/Project/stephaniealley_bhs2020_project/Original_Data/development_fmri/development_fmri/sub-pixar086_task-pixar_desc-confounds_regressors.tsv',\n",
       "  'type': 'file',\n",
       "  'refds': '/Users/Storme/brainhack/Project/stephaniealley_bhs2020_project/Original_Data',\n",
       "  'status': 'ok',\n",
       "  'message': '',\n",
       "  'key': None},\n",
       " {'action': 'add',\n",
       "  'path': '/Users/Storme/brainhack/Project/stephaniealley_bhs2020_project/Original_Data/development_fmri/development_fmri/sub-pixar086_task-pixar_space-MNI152NLin2009cAsym_desc-preproc_bold.nii.gz',\n",
       "  'type': 'file',\n",
       "  'refds': '/Users/Storme/brainhack/Project/stephaniealley_bhs2020_project/Original_Data',\n",
       "  'status': 'ok',\n",
       "  'message': '',\n",
       "  'key': None},\n",
       " {'action': 'add',\n",
       "  'path': '/Users/Storme/brainhack/Project/stephaniealley_bhs2020_project/Original_Data/development_fmri/development_fmri/sub-pixar087_task-pixar_desc-confounds_regressors.tsv',\n",
       "  'type': 'file',\n",
       "  'refds': '/Users/Storme/brainhack/Project/stephaniealley_bhs2020_project/Original_Data',\n",
       "  'status': 'ok',\n",
       "  'message': '',\n",
       "  'key': None},\n",
       " {'action': 'add',\n",
       "  'path': '/Users/Storme/brainhack/Project/stephaniealley_bhs2020_project/Original_Data/development_fmri/development_fmri/sub-pixar087_task-pixar_space-MNI152NLin2009cAsym_desc-preproc_bold.nii.gz',\n",
       "  'type': 'file',\n",
       "  'refds': '/Users/Storme/brainhack/Project/stephaniealley_bhs2020_project/Original_Data',\n",
       "  'status': 'ok',\n",
       "  'message': '',\n",
       "  'key': None},\n",
       " {'action': 'add',\n",
       "  'path': '/Users/Storme/brainhack/Project/stephaniealley_bhs2020_project/Original_Data/development_fmri/development_fmri/sub-pixar088_task-pixar_desc-confounds_regressors.tsv',\n",
       "  'type': 'file',\n",
       "  'refds': '/Users/Storme/brainhack/Project/stephaniealley_bhs2020_project/Original_Data',\n",
       "  'status': 'ok',\n",
       "  'message': '',\n",
       "  'key': None},\n",
       " {'action': 'add',\n",
       "  'path': '/Users/Storme/brainhack/Project/stephaniealley_bhs2020_project/Original_Data/development_fmri/development_fmri/sub-pixar088_task-pixar_space-MNI152NLin2009cAsym_desc-preproc_bold.nii.gz',\n",
       "  'type': 'file',\n",
       "  'refds': '/Users/Storme/brainhack/Project/stephaniealley_bhs2020_project/Original_Data',\n",
       "  'status': 'ok',\n",
       "  'message': '',\n",
       "  'key': None},\n",
       " {'action': 'add',\n",
       "  'path': '/Users/Storme/brainhack/Project/stephaniealley_bhs2020_project/Original_Data/development_fmri/development_fmri/sub-pixar089_task-pixar_desc-confounds_regressors.tsv',\n",
       "  'type': 'file',\n",
       "  'refds': '/Users/Storme/brainhack/Project/stephaniealley_bhs2020_project/Original_Data',\n",
       "  'status': 'ok',\n",
       "  'message': '',\n",
       "  'key': None},\n",
       " {'action': 'add',\n",
       "  'path': '/Users/Storme/brainhack/Project/stephaniealley_bhs2020_project/Original_Data/development_fmri/development_fmri/sub-pixar089_task-pixar_space-MNI152NLin2009cAsym_desc-preproc_bold.nii.gz',\n",
       "  'type': 'file',\n",
       "  'refds': '/Users/Storme/brainhack/Project/stephaniealley_bhs2020_project/Original_Data',\n",
       "  'status': 'ok',\n",
       "  'message': '',\n",
       "  'key': None},\n",
       " {'action': 'add',\n",
       "  'path': '/Users/Storme/brainhack/Project/stephaniealley_bhs2020_project/Original_Data/development_fmri/development_fmri/sub-pixar090_task-pixar_desc-confounds_regressors.tsv',\n",
       "  'type': 'file',\n",
       "  'refds': '/Users/Storme/brainhack/Project/stephaniealley_bhs2020_project/Original_Data',\n",
       "  'status': 'ok',\n",
       "  'message': '',\n",
       "  'key': None},\n",
       " {'action': 'add',\n",
       "  'path': '/Users/Storme/brainhack/Project/stephaniealley_bhs2020_project/Original_Data/development_fmri/development_fmri/sub-pixar090_task-pixar_space-MNI152NLin2009cAsym_desc-preproc_bold.nii.gz',\n",
       "  'type': 'file',\n",
       "  'refds': '/Users/Storme/brainhack/Project/stephaniealley_bhs2020_project/Original_Data',\n",
       "  'status': 'ok',\n",
       "  'message': '',\n",
       "  'key': None},\n",
       " {'action': 'add',\n",
       "  'path': '/Users/Storme/brainhack/Project/stephaniealley_bhs2020_project/Original_Data/development_fmri/development_fmri/sub-pixar091_task-pixar_desc-confounds_regressors.tsv',\n",
       "  'type': 'file',\n",
       "  'refds': '/Users/Storme/brainhack/Project/stephaniealley_bhs2020_project/Original_Data',\n",
       "  'status': 'ok',\n",
       "  'message': '',\n",
       "  'key': None},\n",
       " {'action': 'add',\n",
       "  'path': '/Users/Storme/brainhack/Project/stephaniealley_bhs2020_project/Original_Data/development_fmri/development_fmri/sub-pixar091_task-pixar_space-MNI152NLin2009cAsym_desc-preproc_bold.nii.gz',\n",
       "  'type': 'file',\n",
       "  'refds': '/Users/Storme/brainhack/Project/stephaniealley_bhs2020_project/Original_Data',\n",
       "  'status': 'ok',\n",
       "  'message': '',\n",
       "  'key': None},\n",
       " {'action': 'add',\n",
       "  'path': '/Users/Storme/brainhack/Project/stephaniealley_bhs2020_project/Original_Data/development_fmri/development_fmri/sub-pixar092_task-pixar_desc-confounds_regressors.tsv',\n",
       "  'type': 'file',\n",
       "  'refds': '/Users/Storme/brainhack/Project/stephaniealley_bhs2020_project/Original_Data',\n",
       "  'status': 'ok',\n",
       "  'message': '',\n",
       "  'key': None},\n",
       " {'action': 'add',\n",
       "  'path': '/Users/Storme/brainhack/Project/stephaniealley_bhs2020_project/Original_Data/development_fmri/development_fmri/sub-pixar092_task-pixar_space-MNI152NLin2009cAsym_desc-preproc_bold.nii.gz',\n",
       "  'type': 'file',\n",
       "  'refds': '/Users/Storme/brainhack/Project/stephaniealley_bhs2020_project/Original_Data',\n",
       "  'status': 'ok',\n",
       "  'message': '',\n",
       "  'key': None},\n",
       " {'action': 'add',\n",
       "  'path': '/Users/Storme/brainhack/Project/stephaniealley_bhs2020_project/Original_Data/development_fmri/development_fmri/sub-pixar093_task-pixar_desc-confounds_regressors.tsv',\n",
       "  'type': 'file',\n",
       "  'refds': '/Users/Storme/brainhack/Project/stephaniealley_bhs2020_project/Original_Data',\n",
       "  'status': 'ok',\n",
       "  'message': '',\n",
       "  'key': None},\n",
       " {'action': 'add',\n",
       "  'path': '/Users/Storme/brainhack/Project/stephaniealley_bhs2020_project/Original_Data/development_fmri/development_fmri/sub-pixar093_task-pixar_space-MNI152NLin2009cAsym_desc-preproc_bold.nii.gz',\n",
       "  'type': 'file',\n",
       "  'refds': '/Users/Storme/brainhack/Project/stephaniealley_bhs2020_project/Original_Data',\n",
       "  'status': 'ok',\n",
       "  'message': '',\n",
       "  'key': None},\n",
       " {'action': 'add',\n",
       "  'path': '/Users/Storme/brainhack/Project/stephaniealley_bhs2020_project/Original_Data/development_fmri/development_fmri/sub-pixar094_task-pixar_desc-confounds_regressors.tsv',\n",
       "  'type': 'file',\n",
       "  'refds': '/Users/Storme/brainhack/Project/stephaniealley_bhs2020_project/Original_Data',\n",
       "  'status': 'ok',\n",
       "  'message': '',\n",
       "  'key': None},\n",
       " {'action': 'add',\n",
       "  'path': '/Users/Storme/brainhack/Project/stephaniealley_bhs2020_project/Original_Data/development_fmri/development_fmri/sub-pixar094_task-pixar_space-MNI152NLin2009cAsym_desc-preproc_bold.nii.gz',\n",
       "  'type': 'file',\n",
       "  'refds': '/Users/Storme/brainhack/Project/stephaniealley_bhs2020_project/Original_Data',\n",
       "  'status': 'ok',\n",
       "  'message': '',\n",
       "  'key': None},\n",
       " {'action': 'add',\n",
       "  'path': '/Users/Storme/brainhack/Project/stephaniealley_bhs2020_project/Original_Data/development_fmri/development_fmri/sub-pixar095_task-pixar_desc-confounds_regressors.tsv',\n",
       "  'type': 'file',\n",
       "  'refds': '/Users/Storme/brainhack/Project/stephaniealley_bhs2020_project/Original_Data',\n",
       "  'status': 'ok',\n",
       "  'message': '',\n",
       "  'key': None},\n",
       " {'action': 'add',\n",
       "  'path': '/Users/Storme/brainhack/Project/stephaniealley_bhs2020_project/Original_Data/development_fmri/development_fmri/sub-pixar095_task-pixar_space-MNI152NLin2009cAsym_desc-preproc_bold.nii.gz',\n",
       "  'type': 'file',\n",
       "  'refds': '/Users/Storme/brainhack/Project/stephaniealley_bhs2020_project/Original_Data',\n",
       "  'status': 'ok',\n",
       "  'message': '',\n",
       "  'key': None},\n",
       " {'action': 'add',\n",
       "  'path': '/Users/Storme/brainhack/Project/stephaniealley_bhs2020_project/Original_Data/development_fmri/development_fmri/sub-pixar096_task-pixar_desc-confounds_regressors.tsv',\n",
       "  'type': 'file',\n",
       "  'refds': '/Users/Storme/brainhack/Project/stephaniealley_bhs2020_project/Original_Data',\n",
       "  'status': 'ok',\n",
       "  'message': '',\n",
       "  'key': None},\n",
       " {'action': 'add',\n",
       "  'path': '/Users/Storme/brainhack/Project/stephaniealley_bhs2020_project/Original_Data/development_fmri/development_fmri/sub-pixar096_task-pixar_space-MNI152NLin2009cAsym_desc-preproc_bold.nii.gz',\n",
       "  'type': 'file',\n",
       "  'refds': '/Users/Storme/brainhack/Project/stephaniealley_bhs2020_project/Original_Data',\n",
       "  'status': 'ok',\n",
       "  'message': '',\n",
       "  'key': None},\n",
       " {'action': 'add',\n",
       "  'path': '/Users/Storme/brainhack/Project/stephaniealley_bhs2020_project/Original_Data/development_fmri/development_fmri/sub-pixar097_task-pixar_desc-confounds_regressors.tsv',\n",
       "  'type': 'file',\n",
       "  'refds': '/Users/Storme/brainhack/Project/stephaniealley_bhs2020_project/Original_Data',\n",
       "  'status': 'ok',\n",
       "  'message': '',\n",
       "  'key': None},\n",
       " {'action': 'add',\n",
       "  'path': '/Users/Storme/brainhack/Project/stephaniealley_bhs2020_project/Original_Data/development_fmri/development_fmri/sub-pixar097_task-pixar_space-MNI152NLin2009cAsym_desc-preproc_bold.nii.gz',\n",
       "  'type': 'file',\n",
       "  'refds': '/Users/Storme/brainhack/Project/stephaniealley_bhs2020_project/Original_Data',\n",
       "  'status': 'ok',\n",
       "  'message': '',\n",
       "  'key': None},\n",
       " {'action': 'add',\n",
       "  'path': '/Users/Storme/brainhack/Project/stephaniealley_bhs2020_project/Original_Data/development_fmri/development_fmri/sub-pixar098_task-pixar_desc-confounds_regressors.tsv',\n",
       "  'type': 'file',\n",
       "  'refds': '/Users/Storme/brainhack/Project/stephaniealley_bhs2020_project/Original_Data',\n",
       "  'status': 'ok',\n",
       "  'message': '',\n",
       "  'key': None},\n",
       " {'action': 'add',\n",
       "  'path': '/Users/Storme/brainhack/Project/stephaniealley_bhs2020_project/Original_Data/development_fmri/development_fmri/sub-pixar098_task-pixar_space-MNI152NLin2009cAsym_desc-preproc_bold.nii.gz',\n",
       "  'type': 'file',\n",
       "  'refds': '/Users/Storme/brainhack/Project/stephaniealley_bhs2020_project/Original_Data',\n",
       "  'status': 'ok',\n",
       "  'message': '',\n",
       "  'key': None},\n",
       " {'action': 'add',\n",
       "  'path': '/Users/Storme/brainhack/Project/stephaniealley_bhs2020_project/Original_Data/development_fmri/development_fmri/sub-pixar099_task-pixar_desc-confounds_regressors.tsv',\n",
       "  'type': 'file',\n",
       "  'refds': '/Users/Storme/brainhack/Project/stephaniealley_bhs2020_project/Original_Data',\n",
       "  'status': 'ok',\n",
       "  'message': '',\n",
       "  'key': None},\n",
       " {'action': 'add',\n",
       "  'path': '/Users/Storme/brainhack/Project/stephaniealley_bhs2020_project/Original_Data/development_fmri/development_fmri/sub-pixar099_task-pixar_space-MNI152NLin2009cAsym_desc-preproc_bold.nii.gz',\n",
       "  'type': 'file',\n",
       "  'refds': '/Users/Storme/brainhack/Project/stephaniealley_bhs2020_project/Original_Data',\n",
       "  'status': 'ok',\n",
       "  'message': '',\n",
       "  'key': None},\n",
       " {'action': 'add',\n",
       "  'path': '/Users/Storme/brainhack/Project/stephaniealley_bhs2020_project/Original_Data/development_fmri/development_fmri/sub-pixar100_task-pixar_desc-confounds_regressors.tsv',\n",
       "  'type': 'file',\n",
       "  'refds': '/Users/Storme/brainhack/Project/stephaniealley_bhs2020_project/Original_Data',\n",
       "  'status': 'ok',\n",
       "  'message': '',\n",
       "  'key': None},\n",
       " {'action': 'add',\n",
       "  'path': '/Users/Storme/brainhack/Project/stephaniealley_bhs2020_project/Original_Data/development_fmri/development_fmri/sub-pixar100_task-pixar_space-MNI152NLin2009cAsym_desc-preproc_bold.nii.gz',\n",
       "  'type': 'file',\n",
       "  'refds': '/Users/Storme/brainhack/Project/stephaniealley_bhs2020_project/Original_Data',\n",
       "  'status': 'ok',\n",
       "  'message': '',\n",
       "  'key': None},\n",
       " {'action': 'add',\n",
       "  'path': '/Users/Storme/brainhack/Project/stephaniealley_bhs2020_project/Original_Data/development_fmri/development_fmri/sub-pixar101_task-pixar_desc-confounds_regressors.tsv',\n",
       "  'type': 'file',\n",
       "  'refds': '/Users/Storme/brainhack/Project/stephaniealley_bhs2020_project/Original_Data',\n",
       "  'status': 'ok',\n",
       "  'message': '',\n",
       "  'key': None},\n",
       " {'action': 'add',\n",
       "  'path': '/Users/Storme/brainhack/Project/stephaniealley_bhs2020_project/Original_Data/development_fmri/development_fmri/sub-pixar101_task-pixar_space-MNI152NLin2009cAsym_desc-preproc_bold.nii.gz',\n",
       "  'type': 'file',\n",
       "  'refds': '/Users/Storme/brainhack/Project/stephaniealley_bhs2020_project/Original_Data',\n",
       "  'status': 'ok',\n",
       "  'message': '',\n",
       "  'key': None},\n",
       " {'action': 'add',\n",
       "  'path': '/Users/Storme/brainhack/Project/stephaniealley_bhs2020_project/Original_Data/development_fmri/development_fmri/sub-pixar102_task-pixar_desc-confounds_regressors.tsv',\n",
       "  'type': 'file',\n",
       "  'refds': '/Users/Storme/brainhack/Project/stephaniealley_bhs2020_project/Original_Data',\n",
       "  'status': 'ok',\n",
       "  'message': '',\n",
       "  'key': None},\n",
       " {'action': 'add',\n",
       "  'path': '/Users/Storme/brainhack/Project/stephaniealley_bhs2020_project/Original_Data/development_fmri/development_fmri/sub-pixar102_task-pixar_space-MNI152NLin2009cAsym_desc-preproc_bold.nii.gz',\n",
       "  'type': 'file',\n",
       "  'refds': '/Users/Storme/brainhack/Project/stephaniealley_bhs2020_project/Original_Data',\n",
       "  'status': 'ok',\n",
       "  'message': '',\n",
       "  'key': None},\n",
       " {'action': 'add',\n",
       "  'path': '/Users/Storme/brainhack/Project/stephaniealley_bhs2020_project/Original_Data/development_fmri/development_fmri/sub-pixar103_task-pixar_desc-confounds_regressors.tsv',\n",
       "  'type': 'file',\n",
       "  'refds': '/Users/Storme/brainhack/Project/stephaniealley_bhs2020_project/Original_Data',\n",
       "  'status': 'ok',\n",
       "  'message': '',\n",
       "  'key': None},\n",
       " {'action': 'add',\n",
       "  'path': '/Users/Storme/brainhack/Project/stephaniealley_bhs2020_project/Original_Data/development_fmri/development_fmri/sub-pixar103_task-pixar_space-MNI152NLin2009cAsym_desc-preproc_bold.nii.gz',\n",
       "  'type': 'file',\n",
       "  'refds': '/Users/Storme/brainhack/Project/stephaniealley_bhs2020_project/Original_Data',\n",
       "  'status': 'ok',\n",
       "  'message': '',\n",
       "  'key': None},\n",
       " {'action': 'add',\n",
       "  'path': '/Users/Storme/brainhack/Project/stephaniealley_bhs2020_project/Original_Data/development_fmri/development_fmri/sub-pixar104_task-pixar_desc-confounds_regressors.tsv',\n",
       "  'type': 'file',\n",
       "  'refds': '/Users/Storme/brainhack/Project/stephaniealley_bhs2020_project/Original_Data',\n",
       "  'status': 'ok',\n",
       "  'message': '',\n",
       "  'key': None},\n",
       " {'action': 'add',\n",
       "  'path': '/Users/Storme/brainhack/Project/stephaniealley_bhs2020_project/Original_Data/development_fmri/development_fmri/sub-pixar104_task-pixar_space-MNI152NLin2009cAsym_desc-preproc_bold.nii.gz',\n",
       "  'type': 'file',\n",
       "  'refds': '/Users/Storme/brainhack/Project/stephaniealley_bhs2020_project/Original_Data',\n",
       "  'status': 'ok',\n",
       "  'message': '',\n",
       "  'key': None},\n",
       " {'action': 'add',\n",
       "  'path': '/Users/Storme/brainhack/Project/stephaniealley_bhs2020_project/Original_Data/development_fmri/development_fmri/sub-pixar105_task-pixar_desc-confounds_regressors.tsv',\n",
       "  'type': 'file',\n",
       "  'refds': '/Users/Storme/brainhack/Project/stephaniealley_bhs2020_project/Original_Data',\n",
       "  'status': 'ok',\n",
       "  'message': '',\n",
       "  'key': None},\n",
       " {'action': 'add',\n",
       "  'path': '/Users/Storme/brainhack/Project/stephaniealley_bhs2020_project/Original_Data/development_fmri/development_fmri/sub-pixar105_task-pixar_space-MNI152NLin2009cAsym_desc-preproc_bold.nii.gz',\n",
       "  'type': 'file',\n",
       "  'refds': '/Users/Storme/brainhack/Project/stephaniealley_bhs2020_project/Original_Data',\n",
       "  'status': 'ok',\n",
       "  'message': '',\n",
       "  'key': None},\n",
       " {'action': 'add',\n",
       "  'path': '/Users/Storme/brainhack/Project/stephaniealley_bhs2020_project/Original_Data/development_fmri/development_fmri/sub-pixar106_task-pixar_desc-confounds_regressors.tsv',\n",
       "  'type': 'file',\n",
       "  'refds': '/Users/Storme/brainhack/Project/stephaniealley_bhs2020_project/Original_Data',\n",
       "  'status': 'ok',\n",
       "  'message': '',\n",
       "  'key': None},\n",
       " {'action': 'add',\n",
       "  'path': '/Users/Storme/brainhack/Project/stephaniealley_bhs2020_project/Original_Data/development_fmri/development_fmri/sub-pixar106_task-pixar_space-MNI152NLin2009cAsym_desc-preproc_bold.nii.gz',\n",
       "  'type': 'file',\n",
       "  'refds': '/Users/Storme/brainhack/Project/stephaniealley_bhs2020_project/Original_Data',\n",
       "  'status': 'ok',\n",
       "  'message': '',\n",
       "  'key': None},\n",
       " {'action': 'add',\n",
       "  'path': '/Users/Storme/brainhack/Project/stephaniealley_bhs2020_project/Original_Data/development_fmri/development_fmri/sub-pixar107_task-pixar_desc-confounds_regressors.tsv',\n",
       "  'type': 'file',\n",
       "  'refds': '/Users/Storme/brainhack/Project/stephaniealley_bhs2020_project/Original_Data',\n",
       "  'status': 'ok',\n",
       "  'message': '',\n",
       "  'key': None},\n",
       " {'action': 'add',\n",
       "  'path': '/Users/Storme/brainhack/Project/stephaniealley_bhs2020_project/Original_Data/development_fmri/development_fmri/sub-pixar107_task-pixar_space-MNI152NLin2009cAsym_desc-preproc_bold.nii.gz',\n",
       "  'type': 'file',\n",
       "  'refds': '/Users/Storme/brainhack/Project/stephaniealley_bhs2020_project/Original_Data',\n",
       "  'status': 'ok',\n",
       "  'message': '',\n",
       "  'key': None},\n",
       " {'action': 'add',\n",
       "  'path': '/Users/Storme/brainhack/Project/stephaniealley_bhs2020_project/Original_Data/development_fmri/development_fmri/sub-pixar108_task-pixar_desc-confounds_regressors.tsv',\n",
       "  'type': 'file',\n",
       "  'refds': '/Users/Storme/brainhack/Project/stephaniealley_bhs2020_project/Original_Data',\n",
       "  'status': 'ok',\n",
       "  'message': '',\n",
       "  'key': None},\n",
       " {'action': 'add',\n",
       "  'path': '/Users/Storme/brainhack/Project/stephaniealley_bhs2020_project/Original_Data/development_fmri/development_fmri/sub-pixar108_task-pixar_space-MNI152NLin2009cAsym_desc-preproc_bold.nii.gz',\n",
       "  'type': 'file',\n",
       "  'refds': '/Users/Storme/brainhack/Project/stephaniealley_bhs2020_project/Original_Data',\n",
       "  'status': 'ok',\n",
       "  'message': '',\n",
       "  'key': None},\n",
       " {'action': 'add',\n",
       "  'path': '/Users/Storme/brainhack/Project/stephaniealley_bhs2020_project/Original_Data/development_fmri/development_fmri/sub-pixar109_task-pixar_desc-confounds_regressors.tsv',\n",
       "  'type': 'file',\n",
       "  'refds': '/Users/Storme/brainhack/Project/stephaniealley_bhs2020_project/Original_Data',\n",
       "  'status': 'ok',\n",
       "  'message': '',\n",
       "  'key': None},\n",
       " {'action': 'add',\n",
       "  'path': '/Users/Storme/brainhack/Project/stephaniealley_bhs2020_project/Original_Data/development_fmri/development_fmri/sub-pixar109_task-pixar_space-MNI152NLin2009cAsym_desc-preproc_bold.nii.gz',\n",
       "  'type': 'file',\n",
       "  'refds': '/Users/Storme/brainhack/Project/stephaniealley_bhs2020_project/Original_Data',\n",
       "  'status': 'ok',\n",
       "  'message': '',\n",
       "  'key': None},\n",
       " {'action': 'add',\n",
       "  'path': '/Users/Storme/brainhack/Project/stephaniealley_bhs2020_project/Original_Data/development_fmri/development_fmri/sub-pixar110_task-pixar_desc-confounds_regressors.tsv',\n",
       "  'type': 'file',\n",
       "  'refds': '/Users/Storme/brainhack/Project/stephaniealley_bhs2020_project/Original_Data',\n",
       "  'status': 'ok',\n",
       "  'message': '',\n",
       "  'key': None},\n",
       " {'action': 'add',\n",
       "  'path': '/Users/Storme/brainhack/Project/stephaniealley_bhs2020_project/Original_Data/development_fmri/development_fmri/sub-pixar110_task-pixar_space-MNI152NLin2009cAsym_desc-preproc_bold.nii.gz',\n",
       "  'type': 'file',\n",
       "  'refds': '/Users/Storme/brainhack/Project/stephaniealley_bhs2020_project/Original_Data',\n",
       "  'status': 'ok',\n",
       "  'message': '',\n",
       "  'key': None},\n",
       " {'action': 'add',\n",
       "  'path': '/Users/Storme/brainhack/Project/stephaniealley_bhs2020_project/Original_Data/development_fmri/development_fmri/sub-pixar111_task-pixar_desc-confounds_regressors.tsv',\n",
       "  'type': 'file',\n",
       "  'refds': '/Users/Storme/brainhack/Project/stephaniealley_bhs2020_project/Original_Data',\n",
       "  'status': 'ok',\n",
       "  'message': '',\n",
       "  'key': None},\n",
       " {'action': 'add',\n",
       "  'path': '/Users/Storme/brainhack/Project/stephaniealley_bhs2020_project/Original_Data/development_fmri/development_fmri/sub-pixar111_task-pixar_space-MNI152NLin2009cAsym_desc-preproc_bold.nii.gz',\n",
       "  'type': 'file',\n",
       "  'refds': '/Users/Storme/brainhack/Project/stephaniealley_bhs2020_project/Original_Data',\n",
       "  'status': 'ok',\n",
       "  'message': '',\n",
       "  'key': None},\n",
       " {'action': 'add',\n",
       "  'path': '/Users/Storme/brainhack/Project/stephaniealley_bhs2020_project/Original_Data/development_fmri/development_fmri/sub-pixar112_task-pixar_desc-confounds_regressors.tsv',\n",
       "  'type': 'file',\n",
       "  'refds': '/Users/Storme/brainhack/Project/stephaniealley_bhs2020_project/Original_Data',\n",
       "  'status': 'ok',\n",
       "  'message': '',\n",
       "  'key': None},\n",
       " {'action': 'add',\n",
       "  'path': '/Users/Storme/brainhack/Project/stephaniealley_bhs2020_project/Original_Data/development_fmri/development_fmri/sub-pixar112_task-pixar_space-MNI152NLin2009cAsym_desc-preproc_bold.nii.gz',\n",
       "  'type': 'file',\n",
       "  'refds': '/Users/Storme/brainhack/Project/stephaniealley_bhs2020_project/Original_Data',\n",
       "  'status': 'ok',\n",
       "  'message': '',\n",
       "  'key': None},\n",
       " {'action': 'add',\n",
       "  'path': '/Users/Storme/brainhack/Project/stephaniealley_bhs2020_project/Original_Data/development_fmri/development_fmri/sub-pixar113_task-pixar_desc-confounds_regressors.tsv',\n",
       "  'type': 'file',\n",
       "  'refds': '/Users/Storme/brainhack/Project/stephaniealley_bhs2020_project/Original_Data',\n",
       "  'status': 'ok',\n",
       "  'message': '',\n",
       "  'key': None},\n",
       " {'action': 'add',\n",
       "  'path': '/Users/Storme/brainhack/Project/stephaniealley_bhs2020_project/Original_Data/development_fmri/development_fmri/sub-pixar113_task-pixar_space-MNI152NLin2009cAsym_desc-preproc_bold.nii.gz',\n",
       "  'type': 'file',\n",
       "  'refds': '/Users/Storme/brainhack/Project/stephaniealley_bhs2020_project/Original_Data',\n",
       "  'status': 'ok',\n",
       "  'message': '',\n",
       "  'key': None},\n",
       " {'action': 'add',\n",
       "  'path': '/Users/Storme/brainhack/Project/stephaniealley_bhs2020_project/Original_Data/development_fmri/development_fmri/sub-pixar114_task-pixar_desc-confounds_regressors.tsv',\n",
       "  'type': 'file',\n",
       "  'refds': '/Users/Storme/brainhack/Project/stephaniealley_bhs2020_project/Original_Data',\n",
       "  'status': 'ok',\n",
       "  'message': '',\n",
       "  'key': None},\n",
       " {'action': 'add',\n",
       "  'path': '/Users/Storme/brainhack/Project/stephaniealley_bhs2020_project/Original_Data/development_fmri/development_fmri/sub-pixar114_task-pixar_space-MNI152NLin2009cAsym_desc-preproc_bold.nii.gz',\n",
       "  'type': 'file',\n",
       "  'refds': '/Users/Storme/brainhack/Project/stephaniealley_bhs2020_project/Original_Data',\n",
       "  'status': 'ok',\n",
       "  'message': '',\n",
       "  'key': None},\n",
       " {'action': 'add',\n",
       "  'path': '/Users/Storme/brainhack/Project/stephaniealley_bhs2020_project/Original_Data/development_fmri/development_fmri/sub-pixar115_task-pixar_desc-confounds_regressors.tsv',\n",
       "  'type': 'file',\n",
       "  'refds': '/Users/Storme/brainhack/Project/stephaniealley_bhs2020_project/Original_Data',\n",
       "  'status': 'ok',\n",
       "  'message': '',\n",
       "  'key': None},\n",
       " {'action': 'add',\n",
       "  'path': '/Users/Storme/brainhack/Project/stephaniealley_bhs2020_project/Original_Data/development_fmri/development_fmri/sub-pixar115_task-pixar_space-MNI152NLin2009cAsym_desc-preproc_bold.nii.gz',\n",
       "  'type': 'file',\n",
       "  'refds': '/Users/Storme/brainhack/Project/stephaniealley_bhs2020_project/Original_Data',\n",
       "  'status': 'ok',\n",
       "  'message': '',\n",
       "  'key': None},\n",
       " {'action': 'add',\n",
       "  'path': '/Users/Storme/brainhack/Project/stephaniealley_bhs2020_project/Original_Data/development_fmri/development_fmri/sub-pixar116_task-pixar_desc-confounds_regressors.tsv',\n",
       "  'type': 'file',\n",
       "  'refds': '/Users/Storme/brainhack/Project/stephaniealley_bhs2020_project/Original_Data',\n",
       "  'status': 'ok',\n",
       "  'message': '',\n",
       "  'key': None},\n",
       " {'action': 'add',\n",
       "  'path': '/Users/Storme/brainhack/Project/stephaniealley_bhs2020_project/Original_Data/development_fmri/development_fmri/sub-pixar116_task-pixar_space-MNI152NLin2009cAsym_desc-preproc_bold.nii.gz',\n",
       "  'type': 'file',\n",
       "  'refds': '/Users/Storme/brainhack/Project/stephaniealley_bhs2020_project/Original_Data',\n",
       "  'status': 'ok',\n",
       "  'message': '',\n",
       "  'key': None},\n",
       " {'action': 'add',\n",
       "  'path': '/Users/Storme/brainhack/Project/stephaniealley_bhs2020_project/Original_Data/development_fmri/development_fmri/sub-pixar117_task-pixar_desc-confounds_regressors.tsv',\n",
       "  'type': 'file',\n",
       "  'refds': '/Users/Storme/brainhack/Project/stephaniealley_bhs2020_project/Original_Data',\n",
       "  'status': 'ok',\n",
       "  'message': '',\n",
       "  'key': None},\n",
       " {'action': 'add',\n",
       "  'path': '/Users/Storme/brainhack/Project/stephaniealley_bhs2020_project/Original_Data/development_fmri/development_fmri/sub-pixar117_task-pixar_space-MNI152NLin2009cAsym_desc-preproc_bold.nii.gz',\n",
       "  'type': 'file',\n",
       "  'refds': '/Users/Storme/brainhack/Project/stephaniealley_bhs2020_project/Original_Data',\n",
       "  'status': 'ok',\n",
       "  'message': '',\n",
       "  'key': None},\n",
       " {'action': 'add',\n",
       "  'path': '/Users/Storme/brainhack/Project/stephaniealley_bhs2020_project/Original_Data/development_fmri/development_fmri/sub-pixar118_task-pixar_desc-confounds_regressors.tsv',\n",
       "  'type': 'file',\n",
       "  'refds': '/Users/Storme/brainhack/Project/stephaniealley_bhs2020_project/Original_Data',\n",
       "  'status': 'ok',\n",
       "  'message': '',\n",
       "  'key': None},\n",
       " {'action': 'add',\n",
       "  'path': '/Users/Storme/brainhack/Project/stephaniealley_bhs2020_project/Original_Data/development_fmri/development_fmri/sub-pixar118_task-pixar_space-MNI152NLin2009cAsym_desc-preproc_bold.nii.gz',\n",
       "  'type': 'file',\n",
       "  'refds': '/Users/Storme/brainhack/Project/stephaniealley_bhs2020_project/Original_Data',\n",
       "  'status': 'ok',\n",
       "  'message': '',\n",
       "  'key': None},\n",
       " {'action': 'add',\n",
       "  'path': '/Users/Storme/brainhack/Project/stephaniealley_bhs2020_project/Original_Data/development_fmri/development_fmri/sub-pixar119_task-pixar_desc-confounds_regressors.tsv',\n",
       "  'type': 'file',\n",
       "  'refds': '/Users/Storme/brainhack/Project/stephaniealley_bhs2020_project/Original_Data',\n",
       "  'status': 'ok',\n",
       "  'message': '',\n",
       "  'key': None},\n",
       " {'action': 'add',\n",
       "  'path': '/Users/Storme/brainhack/Project/stephaniealley_bhs2020_project/Original_Data/development_fmri/development_fmri/sub-pixar119_task-pixar_space-MNI152NLin2009cAsym_desc-preproc_bold.nii.gz',\n",
       "  'type': 'file',\n",
       "  'refds': '/Users/Storme/brainhack/Project/stephaniealley_bhs2020_project/Original_Data',\n",
       "  'status': 'ok',\n",
       "  'message': '',\n",
       "  'key': None},\n",
       " {'action': 'add',\n",
       "  'path': '/Users/Storme/brainhack/Project/stephaniealley_bhs2020_project/Original_Data/development_fmri/development_fmri/sub-pixar120_task-pixar_desc-confounds_regressors.tsv',\n",
       "  'type': 'file',\n",
       "  'refds': '/Users/Storme/brainhack/Project/stephaniealley_bhs2020_project/Original_Data',\n",
       "  'status': 'ok',\n",
       "  'message': '',\n",
       "  'key': None},\n",
       " {'action': 'add',\n",
       "  'path': '/Users/Storme/brainhack/Project/stephaniealley_bhs2020_project/Original_Data/development_fmri/development_fmri/sub-pixar120_task-pixar_space-MNI152NLin2009cAsym_desc-preproc_bold.nii.gz',\n",
       "  'type': 'file',\n",
       "  'refds': '/Users/Storme/brainhack/Project/stephaniealley_bhs2020_project/Original_Data',\n",
       "  'status': 'ok',\n",
       "  'message': '',\n",
       "  'key': None},\n",
       " {'action': 'add',\n",
       "  'path': '/Users/Storme/brainhack/Project/stephaniealley_bhs2020_project/Original_Data/development_fmri/development_fmri/sub-pixar121_task-pixar_desc-confounds_regressors.tsv',\n",
       "  'type': 'file',\n",
       "  'refds': '/Users/Storme/brainhack/Project/stephaniealley_bhs2020_project/Original_Data',\n",
       "  'status': 'ok',\n",
       "  'message': '',\n",
       "  'key': None},\n",
       " {'action': 'add',\n",
       "  'path': '/Users/Storme/brainhack/Project/stephaniealley_bhs2020_project/Original_Data/development_fmri/development_fmri/sub-pixar121_task-pixar_space-MNI152NLin2009cAsym_desc-preproc_bold.nii.gz',\n",
       "  'type': 'file',\n",
       "  'refds': '/Users/Storme/brainhack/Project/stephaniealley_bhs2020_project/Original_Data',\n",
       "  'status': 'ok',\n",
       "  'message': '',\n",
       "  'key': None},\n",
       " {'action': 'add',\n",
       "  'path': '/Users/Storme/brainhack/Project/stephaniealley_bhs2020_project/Original_Data/development_fmri/development_fmri/sub-pixar122_task-pixar_desc-confounds_regressors.tsv',\n",
       "  'type': 'file',\n",
       "  'refds': '/Users/Storme/brainhack/Project/stephaniealley_bhs2020_project/Original_Data',\n",
       "  'status': 'ok',\n",
       "  'message': '',\n",
       "  'key': None},\n",
       " {'action': 'add',\n",
       "  'path': '/Users/Storme/brainhack/Project/stephaniealley_bhs2020_project/Original_Data/development_fmri/development_fmri/sub-pixar122_task-pixar_space-MNI152NLin2009cAsym_desc-preproc_bold.nii.gz',\n",
       "  'type': 'file',\n",
       "  'refds': '/Users/Storme/brainhack/Project/stephaniealley_bhs2020_project/Original_Data',\n",
       "  'status': 'ok',\n",
       "  'message': '',\n",
       "  'key': None},\n",
       " {'action': 'add',\n",
       "  'path': '/Users/Storme/brainhack/Project/stephaniealley_bhs2020_project/Original_Data/development_fmri/development_fmri/sub-pixar123_task-pixar_desc-confounds_regressors.tsv',\n",
       "  'type': 'file',\n",
       "  'refds': '/Users/Storme/brainhack/Project/stephaniealley_bhs2020_project/Original_Data',\n",
       "  'status': 'ok',\n",
       "  'message': '',\n",
       "  'key': None},\n",
       " {'action': 'add',\n",
       "  'path': '/Users/Storme/brainhack/Project/stephaniealley_bhs2020_project/Original_Data/development_fmri/development_fmri/sub-pixar123_task-pixar_space-MNI152NLin2009cAsym_desc-preproc_bold.nii.gz',\n",
       "  'type': 'file',\n",
       "  'refds': '/Users/Storme/brainhack/Project/stephaniealley_bhs2020_project/Original_Data',\n",
       "  'status': 'ok',\n",
       "  'message': '',\n",
       "  'key': None},\n",
       " {'action': 'add',\n",
       "  'path': '/Users/Storme/brainhack/Project/stephaniealley_bhs2020_project/Original_Data/development_fmri/development_fmri/sub-pixar124_task-pixar_desc-confounds_regressors.tsv',\n",
       "  'type': 'file',\n",
       "  'refds': '/Users/Storme/brainhack/Project/stephaniealley_bhs2020_project/Original_Data',\n",
       "  'status': 'ok',\n",
       "  'message': '',\n",
       "  'key': None},\n",
       " {'action': 'add',\n",
       "  'path': '/Users/Storme/brainhack/Project/stephaniealley_bhs2020_project/Original_Data/development_fmri/development_fmri/sub-pixar124_task-pixar_space-MNI152NLin2009cAsym_desc-preproc_bold.nii.gz',\n",
       "  'type': 'file',\n",
       "  'refds': '/Users/Storme/brainhack/Project/stephaniealley_bhs2020_project/Original_Data',\n",
       "  'status': 'ok',\n",
       "  'message': '',\n",
       "  'key': None},\n",
       " {'action': 'add',\n",
       "  'path': '/Users/Storme/brainhack/Project/stephaniealley_bhs2020_project/Original_Data/development_fmri/development_fmri/sub-pixar125_task-pixar_desc-confounds_regressors.tsv',\n",
       "  'type': 'file',\n",
       "  'refds': '/Users/Storme/brainhack/Project/stephaniealley_bhs2020_project/Original_Data',\n",
       "  'status': 'ok',\n",
       "  'message': '',\n",
       "  'key': None},\n",
       " {'action': 'add',\n",
       "  'path': '/Users/Storme/brainhack/Project/stephaniealley_bhs2020_project/Original_Data/development_fmri/development_fmri/sub-pixar125_task-pixar_space-MNI152NLin2009cAsym_desc-preproc_bold.nii.gz',\n",
       "  'type': 'file',\n",
       "  'refds': '/Users/Storme/brainhack/Project/stephaniealley_bhs2020_project/Original_Data',\n",
       "  'status': 'ok',\n",
       "  'message': '',\n",
       "  'key': None},\n",
       " {'action': 'add',\n",
       "  'path': '/Users/Storme/brainhack/Project/stephaniealley_bhs2020_project/Original_Data/development_fmri/development_fmri/sub-pixar126_task-pixar_desc-confounds_regressors.tsv',\n",
       "  'type': 'file',\n",
       "  'refds': '/Users/Storme/brainhack/Project/stephaniealley_bhs2020_project/Original_Data',\n",
       "  'status': 'ok',\n",
       "  'message': '',\n",
       "  'key': None},\n",
       " {'action': 'add',\n",
       "  'path': '/Users/Storme/brainhack/Project/stephaniealley_bhs2020_project/Original_Data/development_fmri/development_fmri/sub-pixar126_task-pixar_space-MNI152NLin2009cAsym_desc-preproc_bold.nii.gz',\n",
       "  'type': 'file',\n",
       "  'refds': '/Users/Storme/brainhack/Project/stephaniealley_bhs2020_project/Original_Data',\n",
       "  'status': 'ok',\n",
       "  'message': '',\n",
       "  'key': None},\n",
       " {'action': 'add',\n",
       "  'path': '/Users/Storme/brainhack/Project/stephaniealley_bhs2020_project/Original_Data/development_fmri/development_fmri/sub-pixar127_task-pixar_desc-confounds_regressors.tsv',\n",
       "  'type': 'file',\n",
       "  'refds': '/Users/Storme/brainhack/Project/stephaniealley_bhs2020_project/Original_Data',\n",
       "  'status': 'ok',\n",
       "  'message': '',\n",
       "  'key': None},\n",
       " {'action': 'add',\n",
       "  'path': '/Users/Storme/brainhack/Project/stephaniealley_bhs2020_project/Original_Data/development_fmri/development_fmri/sub-pixar127_task-pixar_space-MNI152NLin2009cAsym_desc-preproc_bold.nii.gz',\n",
       "  'type': 'file',\n",
       "  'refds': '/Users/Storme/brainhack/Project/stephaniealley_bhs2020_project/Original_Data',\n",
       "  'status': 'ok',\n",
       "  'message': '',\n",
       "  'key': None},\n",
       " {'action': 'add',\n",
       "  'path': '/Users/Storme/brainhack/Project/stephaniealley_bhs2020_project/Original_Data/development_fmri/development_fmri/sub-pixar128_task-pixar_desc-confounds_regressors.tsv',\n",
       "  'type': 'file',\n",
       "  'refds': '/Users/Storme/brainhack/Project/stephaniealley_bhs2020_project/Original_Data',\n",
       "  'status': 'ok',\n",
       "  'message': '',\n",
       "  'key': None},\n",
       " {'action': 'add',\n",
       "  'path': '/Users/Storme/brainhack/Project/stephaniealley_bhs2020_project/Original_Data/development_fmri/development_fmri/sub-pixar128_task-pixar_space-MNI152NLin2009cAsym_desc-preproc_bold.nii.gz',\n",
       "  'type': 'file',\n",
       "  'refds': '/Users/Storme/brainhack/Project/stephaniealley_bhs2020_project/Original_Data',\n",
       "  'status': 'ok',\n",
       "  'message': '',\n",
       "  'key': None},\n",
       " {'action': 'add',\n",
       "  'path': '/Users/Storme/brainhack/Project/stephaniealley_bhs2020_project/Original_Data/development_fmri/development_fmri/sub-pixar129_task-pixar_desc-confounds_regressors.tsv',\n",
       "  'type': 'file',\n",
       "  'refds': '/Users/Storme/brainhack/Project/stephaniealley_bhs2020_project/Original_Data',\n",
       "  'status': 'ok',\n",
       "  'message': '',\n",
       "  'key': None},\n",
       " {'action': 'add',\n",
       "  'path': '/Users/Storme/brainhack/Project/stephaniealley_bhs2020_project/Original_Data/development_fmri/development_fmri/sub-pixar129_task-pixar_space-MNI152NLin2009cAsym_desc-preproc_bold.nii.gz',\n",
       "  'type': 'file',\n",
       "  'refds': '/Users/Storme/brainhack/Project/stephaniealley_bhs2020_project/Original_Data',\n",
       "  'status': 'ok',\n",
       "  'message': '',\n",
       "  'key': None},\n",
       " {'action': 'add',\n",
       "  'path': '/Users/Storme/brainhack/Project/stephaniealley_bhs2020_project/Original_Data/development_fmri/development_fmri/sub-pixar130_task-pixar_desc-confounds_regressors.tsv',\n",
       "  'type': 'file',\n",
       "  'refds': '/Users/Storme/brainhack/Project/stephaniealley_bhs2020_project/Original_Data',\n",
       "  'status': 'ok',\n",
       "  'message': '',\n",
       "  'key': None},\n",
       " {'action': 'add',\n",
       "  'path': '/Users/Storme/brainhack/Project/stephaniealley_bhs2020_project/Original_Data/development_fmri/development_fmri/sub-pixar130_task-pixar_space-MNI152NLin2009cAsym_desc-preproc_bold.nii.gz',\n",
       "  'type': 'file',\n",
       "  'refds': '/Users/Storme/brainhack/Project/stephaniealley_bhs2020_project/Original_Data',\n",
       "  'status': 'ok',\n",
       "  'message': '',\n",
       "  'key': None},\n",
       " {'action': 'add',\n",
       "  'path': '/Users/Storme/brainhack/Project/stephaniealley_bhs2020_project/Original_Data/development_fmri/development_fmri/sub-pixar131_task-pixar_desc-confounds_regressors.tsv',\n",
       "  'type': 'file',\n",
       "  'refds': '/Users/Storme/brainhack/Project/stephaniealley_bhs2020_project/Original_Data',\n",
       "  'status': 'ok',\n",
       "  'message': '',\n",
       "  'key': None},\n",
       " {'action': 'add',\n",
       "  'path': '/Users/Storme/brainhack/Project/stephaniealley_bhs2020_project/Original_Data/development_fmri/development_fmri/sub-pixar131_task-pixar_space-MNI152NLin2009cAsym_desc-preproc_bold.nii.gz',\n",
       "  'type': 'file',\n",
       "  'refds': '/Users/Storme/brainhack/Project/stephaniealley_bhs2020_project/Original_Data',\n",
       "  'status': 'ok',\n",
       "  'message': '',\n",
       "  'key': None},\n",
       " {'action': 'add',\n",
       "  'path': '/Users/Storme/brainhack/Project/stephaniealley_bhs2020_project/Original_Data/development_fmri/development_fmri/sub-pixar132_task-pixar_desc-confounds_regressors.tsv',\n",
       "  'type': 'file',\n",
       "  'refds': '/Users/Storme/brainhack/Project/stephaniealley_bhs2020_project/Original_Data',\n",
       "  'status': 'ok',\n",
       "  'message': '',\n",
       "  'key': None},\n",
       " {'action': 'add',\n",
       "  'path': '/Users/Storme/brainhack/Project/stephaniealley_bhs2020_project/Original_Data/development_fmri/development_fmri/sub-pixar132_task-pixar_space-MNI152NLin2009cAsym_desc-preproc_bold.nii.gz',\n",
       "  'type': 'file',\n",
       "  'refds': '/Users/Storme/brainhack/Project/stephaniealley_bhs2020_project/Original_Data',\n",
       "  'status': 'ok',\n",
       "  'message': '',\n",
       "  'key': None},\n",
       " {'action': 'add',\n",
       "  'path': '/Users/Storme/brainhack/Project/stephaniealley_bhs2020_project/Original_Data/development_fmri/development_fmri/sub-pixar133_task-pixar_desc-confounds_regressors.tsv',\n",
       "  'type': 'file',\n",
       "  'refds': '/Users/Storme/brainhack/Project/stephaniealley_bhs2020_project/Original_Data',\n",
       "  'status': 'ok',\n",
       "  'message': '',\n",
       "  'key': None},\n",
       " {'action': 'add',\n",
       "  'path': '/Users/Storme/brainhack/Project/stephaniealley_bhs2020_project/Original_Data/development_fmri/development_fmri/sub-pixar133_task-pixar_space-MNI152NLin2009cAsym_desc-preproc_bold.nii.gz',\n",
       "  'type': 'file',\n",
       "  'refds': '/Users/Storme/brainhack/Project/stephaniealley_bhs2020_project/Original_Data',\n",
       "  'status': 'ok',\n",
       "  'message': '',\n",
       "  'key': None},\n",
       " {'action': 'add',\n",
       "  'path': '/Users/Storme/brainhack/Project/stephaniealley_bhs2020_project/Original_Data/development_fmri/development_fmri/sub-pixar134_task-pixar_desc-confounds_regressors.tsv',\n",
       "  'type': 'file',\n",
       "  'refds': '/Users/Storme/brainhack/Project/stephaniealley_bhs2020_project/Original_Data',\n",
       "  'status': 'ok',\n",
       "  'message': '',\n",
       "  'key': None},\n",
       " {'action': 'add',\n",
       "  'path': '/Users/Storme/brainhack/Project/stephaniealley_bhs2020_project/Original_Data/development_fmri/development_fmri/sub-pixar134_task-pixar_space-MNI152NLin2009cAsym_desc-preproc_bold.nii.gz',\n",
       "  'type': 'file',\n",
       "  'refds': '/Users/Storme/brainhack/Project/stephaniealley_bhs2020_project/Original_Data',\n",
       "  'status': 'ok',\n",
       "  'message': '',\n",
       "  'key': None},\n",
       " {'action': 'add',\n",
       "  'path': '/Users/Storme/brainhack/Project/stephaniealley_bhs2020_project/Original_Data/development_fmri/development_fmri/sub-pixar135_task-pixar_desc-confounds_regressors.tsv',\n",
       "  'type': 'file',\n",
       "  'refds': '/Users/Storme/brainhack/Project/stephaniealley_bhs2020_project/Original_Data',\n",
       "  'status': 'ok',\n",
       "  'message': '',\n",
       "  'key': None},\n",
       " {'action': 'add',\n",
       "  'path': '/Users/Storme/brainhack/Project/stephaniealley_bhs2020_project/Original_Data/development_fmri/development_fmri/sub-pixar135_task-pixar_space-MNI152NLin2009cAsym_desc-preproc_bold.nii.gz',\n",
       "  'type': 'file',\n",
       "  'refds': '/Users/Storme/brainhack/Project/stephaniealley_bhs2020_project/Original_Data',\n",
       "  'status': 'ok',\n",
       "  'message': '',\n",
       "  'key': None},\n",
       " {'action': 'add',\n",
       "  'path': '/Users/Storme/brainhack/Project/stephaniealley_bhs2020_project/Original_Data/development_fmri/development_fmri/sub-pixar136_task-pixar_desc-confounds_regressors.tsv',\n",
       "  'type': 'file',\n",
       "  'refds': '/Users/Storme/brainhack/Project/stephaniealley_bhs2020_project/Original_Data',\n",
       "  'status': 'ok',\n",
       "  'message': '',\n",
       "  'key': None},\n",
       " {'action': 'add',\n",
       "  'path': '/Users/Storme/brainhack/Project/stephaniealley_bhs2020_project/Original_Data/development_fmri/development_fmri/sub-pixar136_task-pixar_space-MNI152NLin2009cAsym_desc-preproc_bold.nii.gz',\n",
       "  'type': 'file',\n",
       "  'refds': '/Users/Storme/brainhack/Project/stephaniealley_bhs2020_project/Original_Data',\n",
       "  'status': 'ok',\n",
       "  'message': '',\n",
       "  'key': None},\n",
       " {'action': 'add',\n",
       "  'path': '/Users/Storme/brainhack/Project/stephaniealley_bhs2020_project/Original_Data/development_fmri/development_fmri/sub-pixar137_task-pixar_desc-confounds_regressors.tsv',\n",
       "  'type': 'file',\n",
       "  'refds': '/Users/Storme/brainhack/Project/stephaniealley_bhs2020_project/Original_Data',\n",
       "  'status': 'ok',\n",
       "  'message': '',\n",
       "  'key': None},\n",
       " {'action': 'add',\n",
       "  'path': '/Users/Storme/brainhack/Project/stephaniealley_bhs2020_project/Original_Data/development_fmri/development_fmri/sub-pixar137_task-pixar_space-MNI152NLin2009cAsym_desc-preproc_bold.nii.gz',\n",
       "  'type': 'file',\n",
       "  'refds': '/Users/Storme/brainhack/Project/stephaniealley_bhs2020_project/Original_Data',\n",
       "  'status': 'ok',\n",
       "  'message': '',\n",
       "  'key': None},\n",
       " {'action': 'add',\n",
       "  'path': '/Users/Storme/brainhack/Project/stephaniealley_bhs2020_project/Original_Data/development_fmri/development_fmri/sub-pixar138_task-pixar_desc-confounds_regressors.tsv',\n",
       "  'type': 'file',\n",
       "  'refds': '/Users/Storme/brainhack/Project/stephaniealley_bhs2020_project/Original_Data',\n",
       "  'status': 'ok',\n",
       "  'message': '',\n",
       "  'key': None},\n",
       " {'action': 'add',\n",
       "  'path': '/Users/Storme/brainhack/Project/stephaniealley_bhs2020_project/Original_Data/development_fmri/development_fmri/sub-pixar138_task-pixar_space-MNI152NLin2009cAsym_desc-preproc_bold.nii.gz',\n",
       "  'type': 'file',\n",
       "  'refds': '/Users/Storme/brainhack/Project/stephaniealley_bhs2020_project/Original_Data',\n",
       "  'status': 'ok',\n",
       "  'message': '',\n",
       "  'key': None},\n",
       " {'action': 'add',\n",
       "  'path': '/Users/Storme/brainhack/Project/stephaniealley_bhs2020_project/Original_Data/development_fmri/development_fmri/sub-pixar139_task-pixar_desc-confounds_regressors.tsv',\n",
       "  'type': 'file',\n",
       "  'refds': '/Users/Storme/brainhack/Project/stephaniealley_bhs2020_project/Original_Data',\n",
       "  'status': 'ok',\n",
       "  'message': '',\n",
       "  'key': None},\n",
       " {'action': 'add',\n",
       "  'path': '/Users/Storme/brainhack/Project/stephaniealley_bhs2020_project/Original_Data/development_fmri/development_fmri/sub-pixar139_task-pixar_space-MNI152NLin2009cAsym_desc-preproc_bold.nii.gz',\n",
       "  'type': 'file',\n",
       "  'refds': '/Users/Storme/brainhack/Project/stephaniealley_bhs2020_project/Original_Data',\n",
       "  'status': 'ok',\n",
       "  'message': '',\n",
       "  'key': None},\n",
       " {'action': 'add',\n",
       "  'path': '/Users/Storme/brainhack/Project/stephaniealley_bhs2020_project/Original_Data/development_fmri/development_fmri/sub-pixar140_task-pixar_desc-confounds_regressors.tsv',\n",
       "  'type': 'file',\n",
       "  'refds': '/Users/Storme/brainhack/Project/stephaniealley_bhs2020_project/Original_Data',\n",
       "  'status': 'ok',\n",
       "  'message': '',\n",
       "  'key': None},\n",
       " {'action': 'add',\n",
       "  'path': '/Users/Storme/brainhack/Project/stephaniealley_bhs2020_project/Original_Data/development_fmri/development_fmri/sub-pixar140_task-pixar_space-MNI152NLin2009cAsym_desc-preproc_bold.nii.gz',\n",
       "  'type': 'file',\n",
       "  'refds': '/Users/Storme/brainhack/Project/stephaniealley_bhs2020_project/Original_Data',\n",
       "  'status': 'ok',\n",
       "  'message': '',\n",
       "  'key': None},\n",
       " {'action': 'add',\n",
       "  'path': '/Users/Storme/brainhack/Project/stephaniealley_bhs2020_project/Original_Data/development_fmri/development_fmri/sub-pixar141_task-pixar_desc-confounds_regressors.tsv',\n",
       "  'type': 'file',\n",
       "  'refds': '/Users/Storme/brainhack/Project/stephaniealley_bhs2020_project/Original_Data',\n",
       "  'status': 'ok',\n",
       "  'message': '',\n",
       "  'key': None},\n",
       " {'action': 'add',\n",
       "  'path': '/Users/Storme/brainhack/Project/stephaniealley_bhs2020_project/Original_Data/development_fmri/development_fmri/sub-pixar141_task-pixar_space-MNI152NLin2009cAsym_desc-preproc_bold.nii.gz',\n",
       "  'type': 'file',\n",
       "  'refds': '/Users/Storme/brainhack/Project/stephaniealley_bhs2020_project/Original_Data',\n",
       "  'status': 'ok',\n",
       "  'message': '',\n",
       "  'key': None},\n",
       " {'action': 'add',\n",
       "  'path': '/Users/Storme/brainhack/Project/stephaniealley_bhs2020_project/Original_Data/development_fmri/development_fmri/sub-pixar142_task-pixar_desc-confounds_regressors.tsv',\n",
       "  'type': 'file',\n",
       "  'refds': '/Users/Storme/brainhack/Project/stephaniealley_bhs2020_project/Original_Data',\n",
       "  'status': 'ok',\n",
       "  'message': '',\n",
       "  'key': None},\n",
       " {'action': 'add',\n",
       "  'path': '/Users/Storme/brainhack/Project/stephaniealley_bhs2020_project/Original_Data/development_fmri/development_fmri/sub-pixar142_task-pixar_space-MNI152NLin2009cAsym_desc-preproc_bold.nii.gz',\n",
       "  'type': 'file',\n",
       "  'refds': '/Users/Storme/brainhack/Project/stephaniealley_bhs2020_project/Original_Data',\n",
       "  'status': 'ok',\n",
       "  'message': '',\n",
       "  'key': None},\n",
       " {'action': 'add',\n",
       "  'path': '/Users/Storme/brainhack/Project/stephaniealley_bhs2020_project/Original_Data/development_fmri/development_fmri/sub-pixar143_task-pixar_desc-confounds_regressors.tsv',\n",
       "  'type': 'file',\n",
       "  'refds': '/Users/Storme/brainhack/Project/stephaniealley_bhs2020_project/Original_Data',\n",
       "  'status': 'ok',\n",
       "  'message': '',\n",
       "  'key': None},\n",
       " {'action': 'add',\n",
       "  'path': '/Users/Storme/brainhack/Project/stephaniealley_bhs2020_project/Original_Data/development_fmri/development_fmri/sub-pixar143_task-pixar_space-MNI152NLin2009cAsym_desc-preproc_bold.nii.gz',\n",
       "  'type': 'file',\n",
       "  'refds': '/Users/Storme/brainhack/Project/stephaniealley_bhs2020_project/Original_Data',\n",
       "  'status': 'ok',\n",
       "  'message': '',\n",
       "  'key': None},\n",
       " {'action': 'add',\n",
       "  'path': '/Users/Storme/brainhack/Project/stephaniealley_bhs2020_project/Original_Data/development_fmri/development_fmri/sub-pixar144_task-pixar_desc-confounds_regressors.tsv',\n",
       "  'type': 'file',\n",
       "  'refds': '/Users/Storme/brainhack/Project/stephaniealley_bhs2020_project/Original_Data',\n",
       "  'status': 'ok',\n",
       "  'message': '',\n",
       "  'key': None},\n",
       " {'action': 'add',\n",
       "  'path': '/Users/Storme/brainhack/Project/stephaniealley_bhs2020_project/Original_Data/development_fmri/development_fmri/sub-pixar144_task-pixar_space-MNI152NLin2009cAsym_desc-preproc_bold.nii.gz',\n",
       "  'type': 'file',\n",
       "  'refds': '/Users/Storme/brainhack/Project/stephaniealley_bhs2020_project/Original_Data',\n",
       "  'status': 'ok',\n",
       "  'message': '',\n",
       "  'key': None},\n",
       " {'action': 'add',\n",
       "  'path': '/Users/Storme/brainhack/Project/stephaniealley_bhs2020_project/Original_Data/development_fmri/development_fmri/sub-pixar145_task-pixar_desc-confounds_regressors.tsv',\n",
       "  'type': 'file',\n",
       "  'refds': '/Users/Storme/brainhack/Project/stephaniealley_bhs2020_project/Original_Data',\n",
       "  'status': 'ok',\n",
       "  'message': '',\n",
       "  'key': None},\n",
       " {'action': 'add',\n",
       "  'path': '/Users/Storme/brainhack/Project/stephaniealley_bhs2020_project/Original_Data/development_fmri/development_fmri/sub-pixar145_task-pixar_space-MNI152NLin2009cAsym_desc-preproc_bold.nii.gz',\n",
       "  'type': 'file',\n",
       "  'refds': '/Users/Storme/brainhack/Project/stephaniealley_bhs2020_project/Original_Data',\n",
       "  'status': 'ok',\n",
       "  'message': '',\n",
       "  'key': None},\n",
       " {'action': 'add',\n",
       "  'path': '/Users/Storme/brainhack/Project/stephaniealley_bhs2020_project/Original_Data/development_fmri/development_fmri/sub-pixar146_task-pixar_desc-confounds_regressors.tsv',\n",
       "  'type': 'file',\n",
       "  'refds': '/Users/Storme/brainhack/Project/stephaniealley_bhs2020_project/Original_Data',\n",
       "  'status': 'ok',\n",
       "  'message': '',\n",
       "  'key': None},\n",
       " {'action': 'add',\n",
       "  'path': '/Users/Storme/brainhack/Project/stephaniealley_bhs2020_project/Original_Data/development_fmri/development_fmri/sub-pixar146_task-pixar_space-MNI152NLin2009cAsym_desc-preproc_bold.nii.gz',\n",
       "  'type': 'file',\n",
       "  'refds': '/Users/Storme/brainhack/Project/stephaniealley_bhs2020_project/Original_Data',\n",
       "  'status': 'ok',\n",
       "  'message': '',\n",
       "  'key': None},\n",
       " {'action': 'add',\n",
       "  'path': '/Users/Storme/brainhack/Project/stephaniealley_bhs2020_project/Original_Data/development_fmri/development_fmri/sub-pixar147_task-pixar_desc-confounds_regressors.tsv',\n",
       "  'type': 'file',\n",
       "  'refds': '/Users/Storme/brainhack/Project/stephaniealley_bhs2020_project/Original_Data',\n",
       "  'status': 'ok',\n",
       "  'message': '',\n",
       "  'key': None},\n",
       " {'action': 'add',\n",
       "  'path': '/Users/Storme/brainhack/Project/stephaniealley_bhs2020_project/Original_Data/development_fmri/development_fmri/sub-pixar147_task-pixar_space-MNI152NLin2009cAsym_desc-preproc_bold.nii.gz',\n",
       "  'type': 'file',\n",
       "  'refds': '/Users/Storme/brainhack/Project/stephaniealley_bhs2020_project/Original_Data',\n",
       "  'status': 'ok',\n",
       "  'message': '',\n",
       "  'key': None},\n",
       " {'action': 'add',\n",
       "  'path': '/Users/Storme/brainhack/Project/stephaniealley_bhs2020_project/Original_Data/development_fmri/development_fmri/sub-pixar148_task-pixar_desc-confounds_regressors.tsv',\n",
       "  'type': 'file',\n",
       "  'refds': '/Users/Storme/brainhack/Project/stephaniealley_bhs2020_project/Original_Data',\n",
       "  'status': 'ok',\n",
       "  'message': '',\n",
       "  'key': None},\n",
       " {'action': 'add',\n",
       "  'path': '/Users/Storme/brainhack/Project/stephaniealley_bhs2020_project/Original_Data/development_fmri/development_fmri/sub-pixar148_task-pixar_space-MNI152NLin2009cAsym_desc-preproc_bold.nii.gz',\n",
       "  'type': 'file',\n",
       "  'refds': '/Users/Storme/brainhack/Project/stephaniealley_bhs2020_project/Original_Data',\n",
       "  'status': 'ok',\n",
       "  'message': '',\n",
       "  'key': None},\n",
       " {'action': 'add',\n",
       "  'path': '/Users/Storme/brainhack/Project/stephaniealley_bhs2020_project/Original_Data/development_fmri/development_fmri/sub-pixar149_task-pixar_desc-confounds_regressors.tsv',\n",
       "  'type': 'file',\n",
       "  'refds': '/Users/Storme/brainhack/Project/stephaniealley_bhs2020_project/Original_Data',\n",
       "  'status': 'ok',\n",
       "  'message': '',\n",
       "  'key': None},\n",
       " {'action': 'add',\n",
       "  'path': '/Users/Storme/brainhack/Project/stephaniealley_bhs2020_project/Original_Data/development_fmri/development_fmri/sub-pixar149_task-pixar_space-MNI152NLin2009cAsym_desc-preproc_bold.nii.gz',\n",
       "  'type': 'file',\n",
       "  'refds': '/Users/Storme/brainhack/Project/stephaniealley_bhs2020_project/Original_Data',\n",
       "  'status': 'ok',\n",
       "  'message': '',\n",
       "  'key': None},\n",
       " {'action': 'add',\n",
       "  'path': '/Users/Storme/brainhack/Project/stephaniealley_bhs2020_project/Original_Data/development_fmri/development_fmri/sub-pixar150_task-pixar_desc-confounds_regressors.tsv',\n",
       "  'type': 'file',\n",
       "  'refds': '/Users/Storme/brainhack/Project/stephaniealley_bhs2020_project/Original_Data',\n",
       "  'status': 'ok',\n",
       "  'message': '',\n",
       "  'key': None},\n",
       " {'action': 'add',\n",
       "  'path': '/Users/Storme/brainhack/Project/stephaniealley_bhs2020_project/Original_Data/development_fmri/development_fmri/sub-pixar150_task-pixar_space-MNI152NLin2009cAsym_desc-preproc_bold.nii.gz',\n",
       "  'type': 'file',\n",
       "  'refds': '/Users/Storme/brainhack/Project/stephaniealley_bhs2020_project/Original_Data',\n",
       "  'status': 'ok',\n",
       "  'message': '',\n",
       "  'key': None},\n",
       " {'action': 'add',\n",
       "  'path': '/Users/Storme/brainhack/Project/stephaniealley_bhs2020_project/Original_Data/development_fmri/development_fmri/sub-pixar151_task-pixar_desc-confounds_regressors.tsv',\n",
       "  'type': 'file',\n",
       "  'refds': '/Users/Storme/brainhack/Project/stephaniealley_bhs2020_project/Original_Data',\n",
       "  'status': 'ok',\n",
       "  'message': '',\n",
       "  'key': None},\n",
       " {'action': 'add',\n",
       "  'path': '/Users/Storme/brainhack/Project/stephaniealley_bhs2020_project/Original_Data/development_fmri/development_fmri/sub-pixar151_task-pixar_space-MNI152NLin2009cAsym_desc-preproc_bold.nii.gz',\n",
       "  'type': 'file',\n",
       "  'refds': '/Users/Storme/brainhack/Project/stephaniealley_bhs2020_project/Original_Data',\n",
       "  'status': 'ok',\n",
       "  'message': '',\n",
       "  'key': None},\n",
       " {'action': 'add',\n",
       "  'path': '/Users/Storme/brainhack/Project/stephaniealley_bhs2020_project/Original_Data/development_fmri/development_fmri/sub-pixar152_task-pixar_desc-confounds_regressors.tsv',\n",
       "  'type': 'file',\n",
       "  'refds': '/Users/Storme/brainhack/Project/stephaniealley_bhs2020_project/Original_Data',\n",
       "  'status': 'ok',\n",
       "  'message': '',\n",
       "  'key': None},\n",
       " {'action': 'add',\n",
       "  'path': '/Users/Storme/brainhack/Project/stephaniealley_bhs2020_project/Original_Data/development_fmri/development_fmri/sub-pixar152_task-pixar_space-MNI152NLin2009cAsym_desc-preproc_bold.nii.gz',\n",
       "  'type': 'file',\n",
       "  'refds': '/Users/Storme/brainhack/Project/stephaniealley_bhs2020_project/Original_Data',\n",
       "  'status': 'ok',\n",
       "  'message': '',\n",
       "  'key': None},\n",
       " {'action': 'add',\n",
       "  'path': '/Users/Storme/brainhack/Project/stephaniealley_bhs2020_project/Original_Data/development_fmri/development_fmri/sub-pixar153_task-pixar_desc-confounds_regressors.tsv',\n",
       "  'type': 'file',\n",
       "  'refds': '/Users/Storme/brainhack/Project/stephaniealley_bhs2020_project/Original_Data',\n",
       "  'status': 'ok',\n",
       "  'message': '',\n",
       "  'key': None},\n",
       " {'action': 'add',\n",
       "  'path': '/Users/Storme/brainhack/Project/stephaniealley_bhs2020_project/Original_Data/development_fmri/development_fmri/sub-pixar153_task-pixar_space-MNI152NLin2009cAsym_desc-preproc_bold.nii.gz',\n",
       "  'type': 'file',\n",
       "  'refds': '/Users/Storme/brainhack/Project/stephaniealley_bhs2020_project/Original_Data',\n",
       "  'status': 'ok',\n",
       "  'message': '',\n",
       "  'key': None},\n",
       " {'action': 'add',\n",
       "  'path': '/Users/Storme/brainhack/Project/stephaniealley_bhs2020_project/Original_Data/development_fmri/development_fmri/sub-pixar154_task-pixar_desc-confounds_regressors.tsv',\n",
       "  'type': 'file',\n",
       "  'refds': '/Users/Storme/brainhack/Project/stephaniealley_bhs2020_project/Original_Data',\n",
       "  'status': 'ok',\n",
       "  'message': '',\n",
       "  'key': None},\n",
       " {'action': 'add',\n",
       "  'path': '/Users/Storme/brainhack/Project/stephaniealley_bhs2020_project/Original_Data/development_fmri/development_fmri/sub-pixar154_task-pixar_space-MNI152NLin2009cAsym_desc-preproc_bold.nii.gz',\n",
       "  'type': 'file',\n",
       "  'refds': '/Users/Storme/brainhack/Project/stephaniealley_bhs2020_project/Original_Data',\n",
       "  'status': 'ok',\n",
       "  'message': '',\n",
       "  'key': None},\n",
       " {'action': 'add',\n",
       "  'path': '/Users/Storme/brainhack/Project/stephaniealley_bhs2020_project/Original_Data/development_fmri/development_fmri/sub-pixar155_task-pixar_desc-confounds_regressors.tsv',\n",
       "  'type': 'file',\n",
       "  'refds': '/Users/Storme/brainhack/Project/stephaniealley_bhs2020_project/Original_Data',\n",
       "  'status': 'ok',\n",
       "  'message': '',\n",
       "  'key': None},\n",
       " {'action': 'add',\n",
       "  'path': '/Users/Storme/brainhack/Project/stephaniealley_bhs2020_project/Original_Data/development_fmri/development_fmri/sub-pixar155_task-pixar_space-MNI152NLin2009cAsym_desc-preproc_bold.nii.gz',\n",
       "  'type': 'file',\n",
       "  'refds': '/Users/Storme/brainhack/Project/stephaniealley_bhs2020_project/Original_Data',\n",
       "  'status': 'ok',\n",
       "  'message': '',\n",
       "  'key': None},\n",
       " {'action': 'save',\n",
       "  'type': 'dataset',\n",
       "  'path': '/Users/Storme/brainhack/Project/stephaniealley_bhs2020_project/Original_Data',\n",
       "  'refds': '/Users/Storme/brainhack/Project/stephaniealley_bhs2020_project',\n",
       "  'status': 'ok'}]"
      ]
     },
     "execution_count": 10,
     "metadata": {},
     "output_type": "execute_result"
    }
   ],
   "source": [
    "api.save(path='../Original_Data', message='Fetch development_fMRI dataset using Nilearn and create DataLad dataset')"
   ]
  },
  {
   "cell_type": "markdown",
   "metadata": {},
   "source": [
    "## Functional atlas"
   ]
  },
  {
   "cell_type": "markdown",
   "metadata": {},
   "source": [
    "### Load BASC multiscale atlas"
   ]
  },
  {
   "cell_type": "code",
   "execution_count": 29,
   "metadata": {},
   "outputs": [
    {
     "name": "stdout",
     "output_type": "stream",
     "text": [
      "\n",
      "Dataset created in ../Original_Data/basc_multiscale_2015\n",
      "\n",
      "Downloading data from https://ndownloader.figshare.com/files/1861819 ...\n"
     ]
    },
    {
     "name": "stderr",
     "output_type": "stream",
     "text": [
      "\r",
      "Downloaded 193985 of 193985 bytes (100.0%,    0.0s remaining) ...done. (1 seconds, 0 min)\n",
      "Extracting data from ../Original_Data/basc_multiscale_2015/3cbcf0eeb3f666f55070aba1db9a758f/1861819..... done.\n"
     ]
    }
   ],
   "source": [
    "# Load atlas with 64 ROIs\n",
    "multiscale = datasets.fetch_atlas_basc_multiscale_2015(data_dir='../Original_Data')\n",
    "atlas_filename = multiscale.scale064"
   ]
  },
  {
   "cell_type": "code",
   "execution_count": 30,
   "metadata": {},
   "outputs": [
    {
     "data": {
      "application/vnd.jupyter.widget-view+json": {
       "model_id": "",
       "version_major": 2,
       "version_minor": 0
      },
      "text/plain": [
       "HBox(children=(FloatProgress(value=0.0, description='Total', max=202966.0, style=ProgressStyle(description_wid…"
      ]
     },
     "metadata": {},
     "output_type": "display_data"
    },
    {
     "data": {
      "text/plain": [
       "[{'action': 'add',\n",
       "  'path': '/Users/Storme/brainhack/Project/stephaniealley_bhs2020_project/Original_Data/basc_multiscale_2015/template_cambridge_basc_multiscale_nii_sym/README.md',\n",
       "  'type': 'file',\n",
       "  'refds': '/Users/Storme/brainhack/Project/stephaniealley_bhs2020_project/Original_Data',\n",
       "  'status': 'ok',\n",
       "  'message': '',\n",
       "  'key': None},\n",
       " {'action': 'add',\n",
       "  'path': '/Users/Storme/brainhack/Project/stephaniealley_bhs2020_project/Original_Data/basc_multiscale_2015/template_cambridge_basc_multiscale_nii_sym/template_cambridge_basc_multiscale_sym_scale007.nii.gz',\n",
       "  'type': 'file',\n",
       "  'refds': '/Users/Storme/brainhack/Project/stephaniealley_bhs2020_project/Original_Data',\n",
       "  'status': 'ok',\n",
       "  'message': '',\n",
       "  'key': None},\n",
       " {'action': 'add',\n",
       "  'path': '/Users/Storme/brainhack/Project/stephaniealley_bhs2020_project/Original_Data/basc_multiscale_2015/template_cambridge_basc_multiscale_nii_sym/template_cambridge_basc_multiscale_sym_scale012.nii.gz',\n",
       "  'type': 'file',\n",
       "  'refds': '/Users/Storme/brainhack/Project/stephaniealley_bhs2020_project/Original_Data',\n",
       "  'status': 'ok',\n",
       "  'message': '',\n",
       "  'key': None},\n",
       " {'action': 'add',\n",
       "  'path': '/Users/Storme/brainhack/Project/stephaniealley_bhs2020_project/Original_Data/basc_multiscale_2015/template_cambridge_basc_multiscale_nii_sym/template_cambridge_basc_multiscale_sym_scale020.nii.gz',\n",
       "  'type': 'file',\n",
       "  'refds': '/Users/Storme/brainhack/Project/stephaniealley_bhs2020_project/Original_Data',\n",
       "  'status': 'ok',\n",
       "  'message': '',\n",
       "  'key': None},\n",
       " {'action': 'add',\n",
       "  'path': '/Users/Storme/brainhack/Project/stephaniealley_bhs2020_project/Original_Data/basc_multiscale_2015/template_cambridge_basc_multiscale_nii_sym/template_cambridge_basc_multiscale_sym_scale036.nii.gz',\n",
       "  'type': 'file',\n",
       "  'refds': '/Users/Storme/brainhack/Project/stephaniealley_bhs2020_project/Original_Data',\n",
       "  'status': 'ok',\n",
       "  'message': '',\n",
       "  'key': None},\n",
       " {'action': 'add',\n",
       "  'path': '/Users/Storme/brainhack/Project/stephaniealley_bhs2020_project/Original_Data/basc_multiscale_2015/template_cambridge_basc_multiscale_nii_sym/template_cambridge_basc_multiscale_sym_scale064.nii.gz',\n",
       "  'type': 'file',\n",
       "  'refds': '/Users/Storme/brainhack/Project/stephaniealley_bhs2020_project/Original_Data',\n",
       "  'status': 'ok',\n",
       "  'message': '',\n",
       "  'key': None},\n",
       " {'action': 'add',\n",
       "  'path': '/Users/Storme/brainhack/Project/stephaniealley_bhs2020_project/Original_Data/basc_multiscale_2015/template_cambridge_basc_multiscale_nii_sym/template_cambridge_basc_multiscale_sym_scale122.nii.gz',\n",
       "  'type': 'file',\n",
       "  'refds': '/Users/Storme/brainhack/Project/stephaniealley_bhs2020_project/Original_Data',\n",
       "  'status': 'ok',\n",
       "  'message': '',\n",
       "  'key': None},\n",
       " {'action': 'add',\n",
       "  'path': '/Users/Storme/brainhack/Project/stephaniealley_bhs2020_project/Original_Data/basc_multiscale_2015/template_cambridge_basc_multiscale_nii_sym/template_cambridge_basc_multiscale_sym_scale197.nii.gz',\n",
       "  'type': 'file',\n",
       "  'refds': '/Users/Storme/brainhack/Project/stephaniealley_bhs2020_project/Original_Data',\n",
       "  'status': 'ok',\n",
       "  'message': '',\n",
       "  'key': None},\n",
       " {'action': 'add',\n",
       "  'path': '/Users/Storme/brainhack/Project/stephaniealley_bhs2020_project/Original_Data/basc_multiscale_2015/template_cambridge_basc_multiscale_nii_sym/template_cambridge_basc_multiscale_sym_scale325.nii.gz',\n",
       "  'type': 'file',\n",
       "  'refds': '/Users/Storme/brainhack/Project/stephaniealley_bhs2020_project/Original_Data',\n",
       "  'status': 'ok',\n",
       "  'message': '',\n",
       "  'key': None},\n",
       " {'action': 'add',\n",
       "  'path': '/Users/Storme/brainhack/Project/stephaniealley_bhs2020_project/Original_Data/basc_multiscale_2015/template_cambridge_basc_multiscale_nii_sym/template_cambridge_basc_multiscale_sym_scale444.nii.gz',\n",
       "  'type': 'file',\n",
       "  'refds': '/Users/Storme/brainhack/Project/stephaniealley_bhs2020_project/Original_Data',\n",
       "  'status': 'ok',\n",
       "  'message': '',\n",
       "  'key': None},\n",
       " {'action': 'save',\n",
       "  'type': 'dataset',\n",
       "  'path': '/Users/Storme/brainhack/Project/stephaniealley_bhs2020_project/Original_Data',\n",
       "  'refds': '/Users/Storme/brainhack/Project/stephaniealley_bhs2020_project',\n",
       "  'status': 'ok'}]"
      ]
     },
     "execution_count": 30,
     "metadata": {},
     "output_type": "execute_result"
    }
   ],
   "source": [
    "api.save(path='../Original_Data/basc_multiscale_2015', message='Download BASC multiscale atlas')"
   ]
  },
  {
   "cell_type": "markdown",
   "metadata": {},
   "source": [
    "### Feature extraction"
   ]
  },
  {
   "cell_type": "code",
   "execution_count": 12,
   "metadata": {},
   "outputs": [
    {
     "name": "stdout",
     "output_type": "stream",
     "text": [
      "finished 1 of 155\n",
      "finished 2 of 155\n",
      "finished 3 of 155\n",
      "finished 4 of 155\n",
      "finished 5 of 155\n",
      "finished 6 of 155\n",
      "finished 7 of 155\n",
      "finished 8 of 155\n",
      "finished 9 of 155\n",
      "finished 10 of 155\n",
      "finished 11 of 155\n",
      "finished 12 of 155\n",
      "finished 13 of 155\n",
      "finished 14 of 155\n",
      "finished 15 of 155\n",
      "finished 16 of 155\n",
      "finished 17 of 155\n",
      "finished 18 of 155\n",
      "finished 19 of 155\n",
      "finished 20 of 155\n",
      "finished 21 of 155\n",
      "finished 22 of 155\n",
      "finished 23 of 155\n",
      "finished 24 of 155\n",
      "finished 25 of 155\n",
      "finished 26 of 155\n",
      "finished 27 of 155\n",
      "finished 28 of 155\n",
      "finished 29 of 155\n",
      "finished 30 of 155\n",
      "finished 31 of 155\n",
      "finished 32 of 155\n",
      "finished 33 of 155\n",
      "finished 34 of 155\n",
      "finished 35 of 155\n",
      "finished 36 of 155\n",
      "finished 37 of 155\n",
      "finished 38 of 155\n",
      "finished 39 of 155\n",
      "finished 40 of 155\n",
      "finished 41 of 155\n",
      "finished 42 of 155\n",
      "finished 43 of 155\n",
      "finished 44 of 155\n",
      "finished 45 of 155\n",
      "finished 46 of 155\n",
      "finished 47 of 155\n",
      "finished 48 of 155\n",
      "finished 49 of 155\n",
      "finished 50 of 155\n",
      "finished 51 of 155\n",
      "finished 52 of 155\n",
      "finished 53 of 155\n",
      "finished 54 of 155\n",
      "finished 55 of 155\n",
      "finished 56 of 155\n",
      "finished 57 of 155\n",
      "finished 58 of 155\n",
      "finished 59 of 155\n",
      "finished 60 of 155\n",
      "finished 61 of 155\n",
      "finished 62 of 155\n",
      "finished 63 of 155\n",
      "finished 64 of 155\n",
      "finished 65 of 155\n",
      "finished 66 of 155\n",
      "finished 67 of 155\n",
      "finished 68 of 155\n",
      "finished 69 of 155\n",
      "finished 70 of 155\n",
      "finished 71 of 155\n",
      "finished 72 of 155\n",
      "finished 73 of 155\n",
      "finished 74 of 155\n",
      "finished 75 of 155\n",
      "finished 76 of 155\n",
      "finished 77 of 155\n",
      "finished 78 of 155\n",
      "finished 79 of 155\n",
      "finished 80 of 155\n",
      "finished 81 of 155\n",
      "finished 82 of 155\n",
      "finished 83 of 155\n",
      "finished 84 of 155\n",
      "finished 85 of 155\n",
      "finished 86 of 155\n",
      "finished 87 of 155\n",
      "finished 88 of 155\n",
      "finished 89 of 155\n",
      "finished 90 of 155\n",
      "finished 91 of 155\n",
      "finished 92 of 155\n",
      "finished 93 of 155\n",
      "finished 94 of 155\n",
      "finished 95 of 155\n",
      "finished 96 of 155\n",
      "finished 97 of 155\n",
      "finished 98 of 155\n",
      "finished 99 of 155\n",
      "finished 100 of 155\n",
      "finished 101 of 155\n",
      "finished 102 of 155\n",
      "finished 103 of 155\n",
      "finished 104 of 155\n",
      "finished 105 of 155\n",
      "finished 106 of 155\n",
      "finished 107 of 155\n",
      "finished 108 of 155\n",
      "finished 109 of 155\n",
      "finished 110 of 155\n",
      "finished 111 of 155\n",
      "finished 112 of 155\n",
      "finished 113 of 155\n",
      "finished 114 of 155\n",
      "finished 115 of 155\n",
      "finished 116 of 155\n",
      "finished 117 of 155\n",
      "finished 118 of 155\n",
      "finished 119 of 155\n",
      "finished 120 of 155\n",
      "finished 121 of 155\n",
      "finished 122 of 155\n",
      "finished 123 of 155\n",
      "finished 124 of 155\n",
      "finished 125 of 155\n",
      "finished 126 of 155\n",
      "finished 127 of 155\n",
      "finished 128 of 155\n",
      "finished 129 of 155\n",
      "finished 130 of 155\n",
      "finished 131 of 155\n",
      "finished 132 of 155\n",
      "finished 133 of 155\n",
      "finished 134 of 155\n",
      "finished 135 of 155\n",
      "finished 136 of 155\n",
      "finished 137 of 155\n",
      "finished 138 of 155\n",
      "finished 139 of 155\n",
      "finished 140 of 155\n",
      "finished 141 of 155\n",
      "finished 142 of 155\n",
      "finished 143 of 155\n",
      "finished 144 of 155\n",
      "finished 145 of 155\n",
      "finished 146 of 155\n",
      "finished 147 of 155\n",
      "finished 148 of 155\n",
      "finished 149 of 155\n",
      "finished 150 of 155\n",
      "finished 151 of 155\n",
      "finished 152 of 155\n",
      "finished 153 of 155\n",
      "finished 154 of 155\n",
      "finished 155 of 155\n"
     ]
    }
   ],
   "source": [
    "from nilearn.input_data import NiftiLabelsMasker\n",
    "from nilearn.connectome import ConnectivityMeasure\n",
    "from nilearn.connectome import vec_to_sym_matrix\n",
    "import numpy as np\n",
    "\n",
    "# Initialize masker\n",
    "masker = NiftiLabelsMasker(labels_img=atlas_filename, standardize=True, \n",
    "                           memory='nilearn_cache', verbose=0)\n",
    "\n",
    "# Initialize correlation measure for individual correlation matrix generation\n",
    "correlation_measure_ind = ConnectivityMeasure(kind='correlation', vectorize=True, # Set to vectorize\n",
    "                                         discard_diagonal=False)                  # Keep diagonal\n",
    "\n",
    "all_features = [] # Empty list for containing all features (correlations)\n",
    "\n",
    "# Extract signal based on labels defined by atlas\n",
    "for i,sub in enumerate(data.func):\n",
    "    # Extract timeseries from each ROI in atlas\n",
    "    time_series = masker.fit_transform(sub, confounds=data.confounds[i])\n",
    "    # Create region x region correlation matrix\n",
    "    correlation_matrix_ind = correlation_measure_ind.fit_transform([time_series])[0]\n",
    "    # Add correlation matrix to feature container\n",
    "    all_features.append(correlation_matrix_ind)\n",
    "    # Track progress\n",
    "    print('finished %s of %s'%(i+1,len(data.func)))\n",
    "    \n",
    "# Convert feature list to numpy array\n",
    "X_features = np.array(all_features)\n",
    "\n",
    "ind_matrices = vec_to_sym_matrix(X_features)"
   ]
  },
  {
   "cell_type": "markdown",
   "metadata": {},
   "source": [
    "### Plot correlation matrix"
   ]
  },
  {
   "cell_type": "code",
   "execution_count": 16,
   "metadata": {},
   "outputs": [
    {
     "data": {
      "text/plain": [
       "<matplotlib.image.AxesImage at 0x7fc6a8740ad0>"
      ]
     },
     "execution_count": 16,
     "metadata": {},
     "output_type": "execute_result"
    },
    {
     "data": {
      "image/png": "[encoded data removed]",
      "text/plain": [
       "<Figure size 720x576 with 2 Axes>"
      ]
     },
     "metadata": {
      "needs_background": "light"
     },
     "output_type": "display_data"
    }
   ],
   "source": [
    "from nilearn import plotting\n",
    "\n",
    "# Mask out major diagonal\n",
    "np.fill_diagonal(ind_matrices[40], 0)\n",
    "\n",
    "plotting.plot_matrix(ind_matrices[40], figure=(10, 8),   \n",
    "                     labels=range(time_series.shape[-1]),\n",
    "                     vmax=0.8, vmin=-0.8, reorder=False)"
   ]
  },
  {
   "cell_type": "markdown",
   "metadata": {},
   "source": [
    "### Feature extraction for model"
   ]
  },
  {
   "cell_type": "code",
   "execution_count": 17,
   "metadata": {},
   "outputs": [
    {
     "name": "stdout",
     "output_type": "stream",
     "text": [
      "finished 1 of 155\n",
      "finished 2 of 155\n",
      "finished 3 of 155\n",
      "finished 4 of 155\n",
      "finished 5 of 155\n",
      "finished 6 of 155\n",
      "finished 7 of 155\n",
      "finished 8 of 155\n",
      "finished 9 of 155\n",
      "finished 10 of 155\n",
      "finished 11 of 155\n",
      "finished 12 of 155\n",
      "finished 13 of 155\n",
      "finished 14 of 155\n",
      "finished 15 of 155\n",
      "finished 16 of 155\n",
      "finished 17 of 155\n",
      "finished 18 of 155\n",
      "finished 19 of 155\n",
      "finished 20 of 155\n",
      "finished 21 of 155\n",
      "finished 22 of 155\n",
      "finished 23 of 155\n",
      "finished 24 of 155\n",
      "finished 25 of 155\n",
      "finished 26 of 155\n",
      "finished 27 of 155\n",
      "finished 28 of 155\n",
      "finished 29 of 155\n",
      "finished 30 of 155\n",
      "finished 31 of 155\n",
      "finished 32 of 155\n",
      "finished 33 of 155\n",
      "finished 34 of 155\n",
      "finished 35 of 155\n",
      "finished 36 of 155\n",
      "finished 37 of 155\n",
      "finished 38 of 155\n",
      "finished 39 of 155\n",
      "finished 40 of 155\n",
      "finished 41 of 155\n",
      "finished 42 of 155\n",
      "finished 43 of 155\n",
      "finished 44 of 155\n",
      "finished 45 of 155\n",
      "finished 46 of 155\n",
      "finished 47 of 155\n",
      "finished 48 of 155\n",
      "finished 49 of 155\n",
      "finished 50 of 155\n",
      "finished 51 of 155\n",
      "finished 52 of 155\n",
      "finished 53 of 155\n",
      "finished 54 of 155\n",
      "finished 55 of 155\n",
      "finished 56 of 155\n",
      "finished 57 of 155\n",
      "finished 58 of 155\n",
      "finished 59 of 155\n",
      "finished 60 of 155\n",
      "finished 61 of 155\n",
      "finished 62 of 155\n",
      "finished 63 of 155\n",
      "finished 64 of 155\n",
      "finished 65 of 155\n",
      "finished 66 of 155\n",
      "finished 67 of 155\n",
      "finished 68 of 155\n",
      "finished 69 of 155\n",
      "finished 70 of 155\n",
      "finished 71 of 155\n",
      "finished 72 of 155\n",
      "finished 73 of 155\n",
      "finished 74 of 155\n",
      "finished 75 of 155\n",
      "finished 76 of 155\n",
      "finished 77 of 155\n",
      "finished 78 of 155\n",
      "finished 79 of 155\n",
      "finished 80 of 155\n",
      "finished 81 of 155\n",
      "finished 82 of 155\n",
      "finished 83 of 155\n",
      "finished 84 of 155\n",
      "finished 85 of 155\n",
      "finished 86 of 155\n",
      "finished 87 of 155\n",
      "finished 88 of 155\n",
      "finished 89 of 155\n",
      "finished 90 of 155\n",
      "finished 91 of 155\n",
      "finished 92 of 155\n",
      "finished 93 of 155\n",
      "finished 94 of 155\n",
      "finished 95 of 155\n",
      "finished 96 of 155\n",
      "finished 97 of 155\n",
      "finished 98 of 155\n",
      "finished 99 of 155\n",
      "finished 100 of 155\n",
      "finished 101 of 155\n",
      "finished 102 of 155\n",
      "finished 103 of 155\n",
      "finished 104 of 155\n",
      "finished 105 of 155\n",
      "finished 106 of 155\n",
      "finished 107 of 155\n",
      "finished 108 of 155\n",
      "finished 109 of 155\n",
      "finished 110 of 155\n",
      "finished 111 of 155\n",
      "finished 112 of 155\n",
      "finished 113 of 155\n",
      "finished 114 of 155\n",
      "finished 115 of 155\n",
      "finished 116 of 155\n",
      "finished 117 of 155\n",
      "finished 118 of 155\n",
      "finished 119 of 155\n",
      "finished 120 of 155\n",
      "finished 121 of 155\n",
      "finished 122 of 155\n",
      "finished 123 of 155\n",
      "finished 124 of 155\n",
      "finished 125 of 155\n",
      "finished 126 of 155\n",
      "finished 127 of 155\n",
      "finished 128 of 155\n",
      "finished 129 of 155\n",
      "finished 130 of 155\n",
      "finished 131 of 155\n",
      "finished 132 of 155\n",
      "finished 133 of 155\n",
      "finished 134 of 155\n",
      "finished 135 of 155\n",
      "finished 136 of 155\n",
      "finished 137 of 155\n",
      "finished 138 of 155\n",
      "finished 139 of 155\n",
      "finished 140 of 155\n",
      "finished 141 of 155\n",
      "finished 142 of 155\n",
      "finished 143 of 155\n",
      "finished 144 of 155\n",
      "finished 145 of 155\n",
      "finished 146 of 155\n",
      "finished 147 of 155\n",
      "finished 148 of 155\n",
      "finished 149 of 155\n",
      "finished 150 of 155\n",
      "finished 151 of 155\n",
      "finished 152 of 155\n",
      "finished 153 of 155\n",
      "finished 154 of 155\n",
      "finished 155 of 155\n"
     ]
    }
   ],
   "source": [
    "# Initialize correlation measure for SVR model\n",
    "# Set to vectorize\n",
    "correlation_measure = ConnectivityMeasure(kind='correlation', vectorize=True, # Set to vectorize\n",
    "                                         discard_diagonal=True)               # Discard diagonal\n",
    "\n",
    "all_features = [] # Empty list for containing all features (correlations)\n",
    "\n",
    "# Extract signal based on labels defined by atlas\n",
    "for i,sub in enumerate(data.func):\n",
    "    # Extract timeseries from each ROI in atlas\n",
    "    time_series = masker.fit_transform(sub, confounds=data.confounds[i])\n",
    "    # Create region x region correlation matrix\n",
    "    correlation_matrix = correlation_measure.fit_transform([time_series])[0]\n",
    "    # Add correlation matrix to feature container\n",
    "    all_features.append(correlation_matrix)\n",
    "    # Track progress\n",
    "    print('finished %s of %s'%(i+1,len(data.func)))\n",
    "    \n",
    "# Convert feature list to numpy array\n",
    "X_features = np.array(all_features)"
   ]
  },
  {
   "cell_type": "markdown",
   "metadata": {},
   "source": [
    "### Plot feature matrix"
   ]
  },
  {
   "cell_type": "code",
   "execution_count": 18,
   "metadata": {},
   "outputs": [
    {
     "data": {
      "text/plain": [
       "Text(0, 0.5, 'Subjects')"
      ]
     },
     "execution_count": 18,
     "metadata": {},
     "output_type": "execute_result"
    },
    {
     "data": {
      "image/png": "[encoded data removed]",
      "text/plain": [
       "<Figure size 432x288 with 2 Axes>"
      ]
     },
     "metadata": {
      "needs_background": "light"
     },
     "output_type": "display_data"
    }
   ],
   "source": [
    "import matplotlib.pyplot as plt\n",
    "\n",
    "plt.imshow(X_features, aspect='auto')\n",
    "plt.colorbar()\n",
    "plt.title('Feature matrix')\n",
    "plt.xlabel('Features')\n",
    "plt.ylabel('Subjects')"
   ]
  },
  {
   "cell_type": "markdown",
   "metadata": {},
   "source": [
    "### Load phenotypic information"
   ]
  },
  {
   "cell_type": "code",
   "execution_count": 19,
   "metadata": {},
   "outputs": [
    {
     "data": {
      "text/html": [
       "<div>\n",
       "<style scoped>\n",
       "    .dataframe tbody tr th:only-of-type {\n",
       "        vertical-align: middle;\n",
       "    }\n",
       "\n",
       "    .dataframe tbody tr th {\n",
       "        vertical-align: top;\n",
       "    }\n",
       "\n",
       "    .dataframe thead th {\n",
       "        text-align: right;\n",
       "    }\n",
       "</style>\n",
       "<table border=\"1\" class=\"dataframe\">\n",
       "  <thead>\n",
       "    <tr style=\"text-align: right;\">\n",
       "      <th></th>\n",
       "      <th>participant_id</th>\n",
       "      <th>Age</th>\n",
       "      <th>AgeGroup</th>\n",
       "      <th>Child_Adult</th>\n",
       "      <th>Gender</th>\n",
       "      <th>Handedness</th>\n",
       "    </tr>\n",
       "  </thead>\n",
       "  <tbody>\n",
       "    <tr>\n",
       "      <th>0</th>\n",
       "      <td>sub-pixar123</td>\n",
       "      <td>27.06</td>\n",
       "      <td>Adult</td>\n",
       "      <td>adult</td>\n",
       "      <td>F</td>\n",
       "      <td>R</td>\n",
       "    </tr>\n",
       "    <tr>\n",
       "      <th>1</th>\n",
       "      <td>sub-pixar124</td>\n",
       "      <td>33.44</td>\n",
       "      <td>Adult</td>\n",
       "      <td>adult</td>\n",
       "      <td>M</td>\n",
       "      <td>R</td>\n",
       "    </tr>\n",
       "    <tr>\n",
       "      <th>2</th>\n",
       "      <td>sub-pixar125</td>\n",
       "      <td>31.00</td>\n",
       "      <td>Adult</td>\n",
       "      <td>adult</td>\n",
       "      <td>M</td>\n",
       "      <td>R</td>\n",
       "    </tr>\n",
       "    <tr>\n",
       "      <th>3</th>\n",
       "      <td>sub-pixar126</td>\n",
       "      <td>19.00</td>\n",
       "      <td>Adult</td>\n",
       "      <td>adult</td>\n",
       "      <td>F</td>\n",
       "      <td>R</td>\n",
       "    </tr>\n",
       "    <tr>\n",
       "      <th>4</th>\n",
       "      <td>sub-pixar127</td>\n",
       "      <td>23.00</td>\n",
       "      <td>Adult</td>\n",
       "      <td>adult</td>\n",
       "      <td>F</td>\n",
       "      <td>R</td>\n",
       "    </tr>\n",
       "  </tbody>\n",
       "</table>\n",
       "</div>"
      ],
      "text/plain": [
       "  participant_id    Age AgeGroup Child_Adult Gender Handedness\n",
       "0   sub-pixar123  27.06    Adult       adult      F          R\n",
       "1   sub-pixar124  33.44    Adult       adult      M          R\n",
       "2   sub-pixar125  31.00    Adult       adult      M          R\n",
       "3   sub-pixar126  19.00    Adult       adult      F          R\n",
       "4   sub-pixar127  23.00    Adult       adult      F          R"
      ]
     },
     "execution_count": 19,
     "metadata": {},
     "output_type": "execute_result"
    }
   ],
   "source": [
    "import pandas\n",
    "\n",
    "pheno = pandas.DataFrame(data.phenotypic)\n",
    "pheno.head()"
   ]
  },
  {
   "cell_type": "markdown",
   "metadata": {},
   "source": [
    "### Assign Age to variable"
   ]
  },
  {
   "cell_type": "code",
   "execution_count": 23,
   "metadata": {},
   "outputs": [],
   "source": [
    "y_age = pheno['Age']"
   ]
  },
  {
   "cell_type": "markdown",
   "metadata": {},
   "source": [
    "### Assess class balance"
   ]
  },
  {
   "cell_type": "code",
   "execution_count": 21,
   "metadata": {},
   "outputs": [
    {
     "data": {
      "text/plain": [
       "8-12yo    34\n",
       "5yo       34\n",
       "Adult     33\n",
       "7yo       23\n",
       "3yo       17\n",
       "4yo       14\n",
       "Name: AgeGroup, dtype: int64"
      ]
     },
     "execution_count": 21,
     "metadata": {},
     "output_type": "execute_result"
    }
   ],
   "source": [
    "age_class = pheno['AgeGroup']\n",
    "age_class.value_counts()"
   ]
  },
  {
   "cell_type": "markdown",
   "metadata": {},
   "source": [
    "### Generate training/validation splits"
   ]
  },
  {
   "cell_type": "code",
   "execution_count": 24,
   "metadata": {},
   "outputs": [
    {
     "name": "stdout",
     "output_type": "stream",
     "text": [
      "training: 116 testing: 39\n"
     ]
    }
   ],
   "source": [
    "from sklearn.model_selection import train_test_split\n",
    "\n",
    "# Split sample to training/validation with a 75/25 ratio\n",
    "# Stratify by age class, shuffle data\n",
    "\n",
    "n_val = 10\n",
    "\n",
    "X_train_container = []\n",
    "X_val_container = []\n",
    "y_train_container = []\n",
    "y_val_container = []\n",
    "\n",
    "for i in range(n_val):\n",
    "    X_train, X_val, y_train, y_val = train_test_split(\n",
    "                                                    X_features, # x\n",
    "                                                    y_age, # y\n",
    "                                                    test_size = 0.25, # 75%/25% split  \n",
    "                                                    shuffle = True, # Shuffle dataset\n",
    "                                                                    # before splitting\n",
    "                                                    stratify = age_class,  # keep\n",
    "                                                                           # distribution\n",
    "                                                                           # of ageclass\n",
    "                                                                           # consistent\n",
    "                                                                           # betw. train\n",
    "                                                                           # & test sets.\n",
    "                                                    #random_state = 123 # same shuffle each\n",
    "                                                                       # time\n",
    "                                                                       )\n",
    "\n",
    "    X_train_container.append(X_train)\n",
    "    X_val_container.append(X_val)\n",
    "    y_train_container.append(y_train)\n",
    "    y_val_container.append(y_val)\n",
    "    \n",
    "# Print size of our training and test groups\n",
    "print('training:', len(X_train),\n",
    "     'testing:', len(X_val))"
   ]
  },
  {
   "cell_type": "markdown",
   "metadata": {},
   "source": [
    "### Define model for age prediction"
   ]
  },
  {
   "cell_type": "code",
   "execution_count": 25,
   "metadata": {},
   "outputs": [],
   "source": [
    "from sklearn.svm import SVR\n",
    "l_svr = SVR(kernel='linear')"
   ]
  },
  {
   "cell_type": "markdown",
   "metadata": {},
   "source": [
    "### Fit model to training data using 10-fold CV"
   ]
  },
  {
   "cell_type": "code",
   "execution_count": 26,
   "metadata": {},
   "outputs": [],
   "source": [
    "from sklearn.feature_selection import SelectPercentile, f_regression\n",
    "from sklearn.model_selection import KFold\n",
    "from sklearn.pipeline import Pipeline\n",
    "\n",
    "# Build a tiny pipeline that does feature selection (top 20% of features), \n",
    "# and then prediction with our linear svr model.\n",
    "model = Pipeline([\n",
    "    ('feature_selection',SelectPercentile(f_regression,percentile=20)),\n",
    "    ('prediction', l_svr)\n",
    "                 ])\n",
    "y_pred_all = []\n",
    "y_index_all = []\n",
    "\n",
    "for j in range(len(X_train_container)):\n",
    "\n",
    "    y_pred = [] # a container to catch the predictions from each fold\n",
    "    y_index = [] # just in case, the index for each prediction\n",
    "\n",
    "    # First we create 10 splits of the data\n",
    "    skf = KFold(n_splits=10, shuffle=True, random_state=123)\n",
    "\n",
    "    # For each split, assemble the train and test samples \n",
    "    for tr_ind, te_ind in skf.split(X_train_container[j]):\n",
    "        X_tr = X_train_container[j][tr_ind]\n",
    "        y_tr = y_train_container[j].values[tr_ind]\n",
    "        X_te = X_train_container[j][te_ind]\n",
    "        y_index += list(te_ind) # store the index of samples to predict\n",
    "    \n",
    "        # and run our pipeline \n",
    "        model.fit(X_tr, y_tr) # fit the data to the model using our mini pipeline\n",
    "        predictions = model.predict(X_te).tolist() # get the predictions for this fold\n",
    "        y_pred += predictions # add them to the list of predictions\n",
    "        \n",
    "    y_index_all.append(y_index)\n",
    "    y_pred_all.append(y_pred)"
   ]
  },
  {
   "cell_type": "code",
   "execution_count": 28,
   "metadata": {},
   "outputs": [
    {
     "name": "stdout",
     "output_type": "stream",
     "text": [
      "R2: 0.6484653555008462\n",
      "MAE: 3.319689664458773\n"
     ]
    },
    {
     "data": {
      "text/plain": [
       "Text(0, 0.5, 'Log Age')"
      ]
     },
     "execution_count": 28,
     "metadata": {},
     "output_type": "execute_result"
    },
    {
     "data": {
      "image/png": "[encoded data removed]",
      "text/plain": [
       "<Figure size 432x288 with 1 Axes>"
      ]
     },
     "metadata": {
      "needs_background": "light"
     },
     "output_type": "display_data"
    }
   ],
   "source": [
    "# Check CV\n",
    "from sklearn.metrics import r2_score\n",
    "from sklearn.metrics import mean_absolute_error\n",
    "import seaborn as sns\n",
    "\n",
    "k=9\n",
    "\n",
    "acc = r2_score(np.array(y_train_container)[k][y_index_all[k]], y_pred_all[k])\n",
    "mae = mean_absolute_error(np.array(y_train_container)[k][y_index_all[k]],y_pred_all[k])\n",
    "\n",
    "print('R2:',acc)\n",
    "print('MAE:',mae)\n",
    "\n",
    "sns.regplot(y_pred_all[k], np.array(y_train_container)[k][y_index_all[k]])\n",
    "plt.xlabel('Predicted Log Age')\n",
    "plt.ylabel('Log Age')"
   ]
  },
  {
   "cell_type": "code",
   "execution_count": null,
   "metadata": {},
   "outputs": [],
   "source": []
  }
 ],
 "metadata": {
  "kernelspec": {
   "display_name": "Python 3",
   "language": "python",
   "name": "python3"
  },
  "language_info": {
   "codemirror_mode": {
    "name": "ipython",
    "version": 3
   },
   "file_extension": ".py",
   "mimetype": "text/x-python",
   "name": "python",
   "nbconvert_exporter": "python",
   "pygments_lexer": "ipython3",
   "version": "3.7.6"
  },
  "latex_envs": {
   "LaTeX_envs_menu_present": true,
   "autoclose": false,
   "autocomplete": true,
   "bibliofile": "biblio.bib",
   "cite_by": "apalike",
   "current_citInitial": 1,
   "eqLabelWithNumbers": true,
   "eqNumInitial": 1,
   "hotkeys": {
    "equation": "Ctrl-E",
    "itemize": "Ctrl-I"
   },
   "labels_anchors": false,
   "latex_user_defs": false,
   "report_style_numbering": false,
   "user_envs_cfg": false
  },
  "varInspector": {
   "cols": {
    "lenName": 16,
    "lenType": 16,
    "lenVar": 40
   },
   "kernels_config": {
    "python": {
     "delete_cmd_postfix": "",
     "delete_cmd_prefix": "del ",
     "library": "var_list.py",
     "varRefreshCmd": "print(var_dic_list())"
    },
    "r": {
     "delete_cmd_postfix": ") ",
     "delete_cmd_prefix": "rm(",
     "library": "var_list.r",
     "varRefreshCmd": "cat(var_dic_list()) "
    }
   },
   "types_to_exclude": [
    "module",
    "function",
    "builtin_function_or_method",
    "instance",
    "_Feature"
   ],
   "window_display": false
  }
 },
 "nbformat": 4,
 "nbformat_minor": 4
}
