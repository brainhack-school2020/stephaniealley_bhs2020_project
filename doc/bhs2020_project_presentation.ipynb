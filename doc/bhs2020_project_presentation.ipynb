{
 "cells": [
  {
   "cell_type": "markdown",
   "metadata": {
    "slideshow": {
     "slide_type": "slide"
    }
   },
   "source": [
    "<center><h1> BrainHack School Project 2020 </h1></center>\n",
    "<center><h3> Stephanie Alley </h3></center>\n",
    "<center><h6> PhD student in Biomedical Engineering </h6></center>\n",
    "<center><h6> Polytechnique Montreal </h6></center>\n"
   ]
  },
  {
   "cell_type": "markdown",
   "metadata": {
    "slideshow": {
     "slide_type": "slide"
    }
   },
   "source": [
    "# Background\n",
    "<h4> Pre-processing pipeline for prostate mpMRI</h4>\n",
    "\n",
    "<center><img src=\"prostate.png\" style=\"margin-top: 20px\" /></center>"
   ]
  },
  {
   "cell_type": "markdown",
   "metadata": {
    "slideshow": {
     "slide_type": "subslide"
    }
   },
   "source": [
    " <center><img src=\"crying.png\" /></center>"
   ]
  },
  {
   "cell_type": "markdown",
   "metadata": {
    "slideshow": {
     "slide_type": "slide"
    }
   },
   "source": [
    "# What I wanted to learn\n",
    "\n",
    "<table>\n",
    "    <tr>\n",
    "        <td style=\"width:50%\">\n",
    "                 <h2>Nilearn</h2>\n",
    "                <h2>Git/GitHub</h2>\n",
    "                <h2>Datalad</h2>\n",
    "                <h2>Jupyter Notebook</h2>\n",
    "                <h2>Plotly</h2>\n",
    "                <h2>Binder</h2>\n",
    "        </td>\n",
    "        <td style=\"width:50%\">\n",
    "            <center><img src=\"tools.png\" style=\"\" /></center>\n",
    "        </td>\n",
    "    </tr>\n",
    "</table>"
   ]
  },
  {
   "cell_type": "markdown",
   "metadata": {
    "slideshow": {
     "slide_type": "slide"
    }
   },
   "source": [
    "# Project\n",
    "\n",
    "#### Assess effects of processing on age prediction using rs-fMRI\n",
    "\n",
    "* Atlas choice\n",
    "* Confound choice\n",
    "* Machine learning (Support Vector Regression)"
   ]
  },
  {
   "cell_type": "markdown",
   "metadata": {
    "slideshow": {
     "slide_type": "slide"
    }
   },
   "source": [
    "# rs-fMRI processing\n",
    "\n",
    "<center><img src=\"pipeline.png\" style=\"margin-bottom: 500px\" /></center>\n"
   ]
  },
  {
   "cell_type": "markdown",
   "metadata": {
    "slideshow": {
     "slide_type": "subslide"
    }
   },
   "source": [
    "# rs-fMRI processing\n",
    "<center><img src=\"pipeline_detail.png\" style=\"margin-bottom: 500px\" /></center>"
   ]
  },
  {
   "cell_type": "markdown",
   "metadata": {
    "slideshow": {
     "slide_type": "slide"
    }
   },
   "source": [
    "# Atlas choice\n",
    "\n",
    "<center><img src=\"atlases.png\" style=\"padding-top:100px\" /></center>"
   ]
  },
  {
   "cell_type": "markdown",
   "metadata": {
    "slideshow": {
     "slide_type": "slide"
    }
   },
   "source": [
    "# Confound choice\n",
    "\n",
    "<center><img src=\"confound_choice.png\" style=\"padding-top:100px\" /></center>"
   ]
  },
  {
   "cell_type": "markdown",
   "metadata": {
    "slideshow": {
     "slide_type": "slide"
    }
   },
   "source": [
    "# Machine learning: Nilearn\n",
    "### Repeated cross-validation\n",
    "\n",
    "<center><img src=\"ML_CV.jpeg\" style=\"margin-bottom: 500px\" /></center>"
   ]
  },
  {
   "cell_type": "code",
   "execution_count": 7,
   "metadata": {
    "slideshow": {
     "slide_type": "skip"
    }
   },
   "outputs": [
    {
     "data": {
      "text/html": [
       "<style>\n",
       ".mytext {\n",
       "    font-size: 50px;\n",
       "}\n",
       "</style>\n"
      ],
      "text/plain": [
       "<IPython.core.display.HTML object>"
      ]
     },
     "metadata": {},
     "output_type": "display_data"
    }
   ],
   "source": [
    "%%html\n",
    "<style>\n",
    ".mytext {\n",
    "    font-size: 50px;\n",
    "}\n",
    "</style>"
   ]
  },
  {
   "cell_type": "code",
   "execution_count": 8,
   "metadata": {
    "slideshow": {
     "slide_type": "skip"
    }
   },
   "outputs": [],
   "source": [
    "from plotly import graph_objects\n",
    "import statsmodels.api as sm\n",
    "from statsmodels.stats.outliers_influence import summary_table\n",
    "from ipywidgets import widgets\n",
    "import scipy.io as sio\n",
    "import numpy as np\n",
    "import pandas as pd\n",
    "\n",
    "def calculate(x, y):\n",
    "    X = sm.add_constant(x)\n",
    "    res = sm.OLS(y, X).fit()\n",
    "    st, data, ss2 = summary_table(res, alpha=0.05)\n",
    "    preds = pd.DataFrame.from_records(data, columns=[s.replace('\\n', ' ') for s in ss2])\n",
    "    preds['displ'] = x\n",
    "    preds = preds.sort_values(by='displ')\n",
    "    return preds\n",
    "\n",
    "out = sio.loadmat('output.mat')\n",
    "x=np.squeeze(out['BASC']['All'][0,0][0,0][0])\n",
    "y=np.squeeze(out['BASC']['All'][0,0][0,0][1])\n",
    "\n",
    "preds = calculate(np.squeeze(out['BASC']['All'][0,0][0,0][0]),np.squeeze(out['BASC']['All'][0,0][0,0][1]))\n",
    "\n",
    "\n",
    "textbox = widgets.Dropdown(\n",
    "    description='<b style=\"font-size: 15px\">Atlas:   </b>',\n",
    "    value='BASC',\n",
    "    options=['BASC', 'AAL', 'CRAD', 'MSDL'],\n",
    "    layout={'font-size': '50px'}\n",
    ")\n",
    "\n",
    "textbox.add_class(\"mytext\")\n",
    "\n",
    "slider = widgets.SelectionSlider(\n",
    "    options=['All', 'CSF', 'WM', 'Global', 'Motion'],\n",
    "    value='All',\n",
    "    description='<b style=\"font-size: 15px\">Confounds</b>',\n",
    "    disabled=False,\n",
    "    continuous_update=False,\n",
    "    orientation='horizontal',\n",
    "    readout=True,\n",
    "    layout={'width': '100%', 'font-size': '50px'}\n",
    ")\n",
    "\n",
    "p1 = graph_objects.Scatter(**{\n",
    "    'mode' : 'markers',\n",
    "    'x' : x,\n",
    "    'y' : y,\n",
    "    'name' : 'Points'\n",
    "})\n",
    "p2 = graph_objects.Scatter({\n",
    "    'mode' : 'lines',\n",
    "    'x' : preds['displ'],\n",
    "    'y' : preds['Predicted Value'],\n",
    "    'name' : 'Regression',\n",
    "})\n",
    "#Add a lower bound for the confidence interval, white\n",
    "p3 = graph_objects.Scatter({\n",
    "    'mode' : 'lines',\n",
    "    'x' : preds['displ'],\n",
    "    'y' : preds['Mean ci 95% low'],\n",
    "    'name' : 'Lower 95% CI',\n",
    "    'showlegend' : False,\n",
    "    'line' : {\n",
    "        'color' : 'white'\n",
    "    }\n",
    "})\n",
    "# Upper bound for the confidence band, transparent but with fill\n",
    "p4 = graph_objects.Scatter( {\n",
    "    'type' : 'scatter',\n",
    "    'mode' : 'lines',\n",
    "    'x' : preds['displ'],\n",
    "    'y' : preds['Mean ci 95% upp'],\n",
    "    'name' : '95% CI',\n",
    "    'fill' : 'tonexty',\n",
    "    'line' : {\n",
    "        'color' : 'white'\n",
    "    },\n",
    "    'fillcolor' : 'rgba(255, 127, 14, 0.3)'\n",
    "})\n",
    "g = graph_objects.FigureWidget(data=[p1, p2, p3, p4],\n",
    "                    layout={\n",
    "                        'title' : {\n",
    "                            'text': \"Age prediction on test set for each atlas\",\n",
    "                            'y': 0.9,\n",
    "                            'x': 0.5,\n",
    "                            'xanchor': 'center',\n",
    "                            'yanchor': 'top'\n",
    "                        },\n",
    "                        'xaxis' : {\n",
    "                            'title' : 'Predicted Log Age'\n",
    "                        },\n",
    "                        'yaxis' : {\n",
    "                            'title' : 'Log Age'\n",
    "                        }\n",
    "                    })\n",
    "def response(change):\n",
    "    x = np.squeeze(out[textbox.value][slider.value][0,0][0,0][0])\n",
    "    y = np.squeeze(out[textbox.value][slider.value][0,0][0,0][1])\n",
    "    preds = calculate(x,y)\n",
    "    g.data[0].x = x\n",
    "    g.data[0].y = y\n",
    "    g.data[1].x = preds['displ']\n",
    "    g.data[1].y = preds['Predicted Value']\n",
    "    g.data[2].x = preds['displ']\n",
    "    g.data[2].y = preds['Mean ci 95% low']\n",
    "    g.data[3].x = preds['displ']\n",
    "    g.data[3].y = preds['Mean ci 95% upp']\n",
    "        \n",
    "textbox.observe(response, names=\"value\")\n",
    "slider.observe(response, names=\"value\")\n",
    "container = widgets.VBox([textbox,\n",
    "              g])\n",
    "#widgets.VBox([container, slider])"
   ]
  },
  {
   "cell_type": "code",
   "execution_count": 9,
   "metadata": {
    "slideshow": {
     "slide_type": "slide"
    }
   },
   "outputs": [
    {
     "data": {
      "application/vnd.jupyter.widget-view+json": {
       "model_id": "e6f668e8e2db4191a159a7dd669bc0ee",
       "version_major": 2,
       "version_minor": 0
      },
      "text/plain": [
       "VBox(children=(VBox(children=(Dropdown(_dom_classes=('mytext',), description='<b style=\"font-size: 15px\">Atlas…"
      ]
     },
     "metadata": {},
     "output_type": "display_data"
    }
   ],
   "source": [
    "widgets.VBox([textbox,\n",
    "              g])\n",
    "widgets.VBox([container, slider])"
   ]
  },
  {
   "cell_type": "markdown",
   "metadata": {
    "slideshow": {
     "slide_type": "slide"
    }
   },
   "source": [
    "# Results\n",
    "\n",
    "<center><img src=\"results_datalad.png\" style=\"margin-bottom: 500px; width: 150%;\" /></center>"
   ]
  },
  {
   "cell_type": "markdown",
   "metadata": {
    "slideshow": {
     "slide_type": "slide"
    }
   },
   "source": [
    "# Takeaways\n",
    "\n",
    "* REPRODUCIBILITY IS POSSIBLE!!!\n",
    "* DataLad keeps track of data manipulation\n",
    "* TIER structure for organization\n",
    "* Share code using GitHub\n",
    "* Nilearn for machine learning"
   ]
  }
 ],
 "metadata": {
  "celltoolbar": "Slideshow",
  "kernelspec": {
   "display_name": "Python 3",
   "language": "python",
   "name": "python3"
  },
  "language_info": {
   "codemirror_mode": {
    "name": "ipython",
    "version": 3
   },
   "file_extension": ".py",
   "mimetype": "text/x-python",
   "name": "python",
   "nbconvert_exporter": "python",
   "pygments_lexer": "ipython3",
   "version": "3.7.6"
  },
  "latex_envs": {
   "LaTeX_envs_menu_present": true,
   "autoclose": false,
   "autocomplete": true,
   "bibliofile": "biblio.bib",
   "cite_by": "apalike",
   "current_citInitial": 1,
   "eqLabelWithNumbers": true,
   "eqNumInitial": 1,
   "hotkeys": {
    "equation": "Ctrl-E",
    "itemize": "Ctrl-I"
   },
   "labels_anchors": false,
   "latex_user_defs": false,
   "report_style_numbering": false,
   "user_envs_cfg": false
  },
  "rise": {
   "theme": "sky"
  },
  "varInspector": {
   "cols": {
    "lenName": 16,
    "lenType": 16,
    "lenVar": 40
   },
   "kernels_config": {
    "python": {
     "delete_cmd_postfix": "",
     "delete_cmd_prefix": "del ",
     "library": "var_list.py",
     "varRefreshCmd": "print(var_dic_list())"
    },
    "r": {
     "delete_cmd_postfix": ") ",
     "delete_cmd_prefix": "rm(",
     "library": "var_list.r",
     "varRefreshCmd": "cat(var_dic_list()) "
    }
   },
   "types_to_exclude": [
    "module",
    "function",
    "builtin_function_or_method",
    "instance",
    "_Feature"
   ],
   "window_display": false
  }
 },
 "nbformat": 4,
 "nbformat_minor": 4
}
