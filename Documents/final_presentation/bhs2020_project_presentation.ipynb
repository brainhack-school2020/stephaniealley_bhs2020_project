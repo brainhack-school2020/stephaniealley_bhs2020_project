{
 "cells": [
  {
   "cell_type": "markdown",
   "metadata": {
    "slideshow": {
     "slide_type": "slide"
    }
   },
   "source": [
    "<center><h1> BrainHack School Project 2020 </h1></center>\n",
    "<center><h3> Stephanie Alley </h3></center>\n",
    "<center><h6> PhD student in Biomedical Engineering </h6></center>\n",
    "<center><h6> Polytechnique Montreal </h6></center>\n"
   ]
  },
  {
   "cell_type": "markdown",
   "metadata": {
    "slideshow": {
     "slide_type": "slide"
    }
   },
   "source": [
    "# Background\n",
    "<h4> Pre-processing pipeline for prostate mpMRI</h4>\n",
    "\n",
    "<center><img src=\"prostate.png\" style=\"margin-top: 20px\" /></center>"
   ]
  },
  {
   "cell_type": "markdown",
   "metadata": {
    "slideshow": {
     "slide_type": "subslide"
    }
   },
   "source": [
    " <center><img src=\"crying.png\" /></center>"
   ]
  },
  {
   "cell_type": "markdown",
   "metadata": {
    "slideshow": {
     "slide_type": "slide"
    }
   },
   "source": [
    "# What I wanted to learn\n",
    "\n",
    "<table>\n",
    "    <tr>\n",
    "        <td style=\"width:50%\">\n",
    "                 <h2>Nilearn</h2>\n",
    "                <h2>Git/GitHub</h2>\n",
    "                <h2>Datalad</h2>\n",
    "                <h2>Jupyter Notebook</h2>\n",
    "                <h2>Plotly</h2>\n",
    "                <h2>Binder</h2>\n",
    "        </td>\n",
    "        <td style=\"width:50%\">\n",
    "            <center><img src=\"tools.png\" style=\"\" /></center>\n",
    "        </td>\n",
    "    </tr>\n",
    "</table>"
   ]
  },
  {
   "cell_type": "markdown",
   "metadata": {
    "slideshow": {
     "slide_type": "slide"
    }
   },
   "source": [
    "# Project\n",
    "\n",
    "#### Assess effects of processing on age prediction using rs-fMRI\n",
    "\n",
    "* Atlas choice\n",
    "* Confound choice\n",
    "* Machine learning (Support Vector Regression)"
   ]
  },
  {
   "cell_type": "markdown",
   "metadata": {
    "slideshow": {
     "slide_type": "slide"
    }
   },
   "source": [
    "# rs-fMRI processing\n",
    "\n",
    "<center><img src=\"pipeline.png\" style=\"margin-bottom: 500px\" /></center>\n"
   ]
  },
  {
   "cell_type": "markdown",
   "metadata": {
    "slideshow": {
     "slide_type": "subslide"
    }
   },
   "source": [
    "# rs-fMRI processing\n",
    "<center><img src=\"pipeline_detail.png\" style=\"margin-bottom: 500px\" /></center>"
   ]
  },
  {
   "cell_type": "markdown",
   "metadata": {
    "slideshow": {
     "slide_type": "slide"
    }
   },
   "source": [
    "# Atlas choice\n",
    "\n",
    "<center><img src=\"atlases.png\" style=\"padding-top:100px\" /></center>"
   ]
  },
  {
   "cell_type": "markdown",
   "metadata": {
    "slideshow": {
     "slide_type": "slide"
    }
   },
   "source": [
    "# Confound choice\n",
    "\n",
    "<center><img src=\"confound_choice.png\" style=\"padding-top:100px\" /></center>"
   ]
  },
  {
   "cell_type": "markdown",
   "metadata": {
    "slideshow": {
     "slide_type": "slide"
    }
   },
   "source": [
    "# Machine learning: Nilearn\n",
    "### Repeated cross-validation\n",
    "\n",
    "<center><img src=\"ML_CV.jpeg\" style=\"margin-bottom: 500px\" /></center>"
   ]
  },
  {
   "cell_type": "code",
   "execution_count": 7,
   "metadata": {
    "slideshow": {
     "slide_type": "skip"
    }
   },
   "outputs": [
    {
     "data": {
      "text/html": [
       "<style>\n",
       ".mytext {\n",
       "    font-size: 50px;\n",
       "}\n",
       "</style>\n"
      ],
      "text/plain": [
       "<IPython.core.display.HTML object>"
      ]
     },
     "metadata": {},
     "output_type": "display_data"
    }
   ],
   "source": [
    "%%html\n",
    "<style>\n",
    ".mytext {\n",
    "    font-size: 50px;\n",
    "}\n",
    "</style>"
   ]
  },
  {
   "cell_type": "code",
   "execution_count": 1,
   "metadata": {
    "slideshow": {
     "slide_type": "skip"
    }
   },
   "outputs": [],
   "source": [
    "from plotly import graph_objects\n",
    "import statsmodels.api as sm\n",
    "from statsmodels.stats.outliers_influence import summary_table\n",
    "from ipywidgets import widgets\n",
    "import scipy.io as sio\n",
    "import numpy as np\n",
    "import pandas as pd\n",
    "\n",
    "def calculate(x, y):\n",
    "    X = sm.add_constant(x)\n",
    "    res = sm.OLS(y, X).fit()\n",
    "    st, data, ss2 = summary_table(res, alpha=0.05)\n",
    "    preds = pd.DataFrame.from_records(data, columns=[s.replace('\\n', ' ') for s in ss2])\n",
    "    preds['displ'] = x\n",
    "    preds = preds.sort_values(by='displ')\n",
    "    return preds\n",
    "\n",
    "out = sio.loadmat('output.mat')\n",
    "x=np.squeeze(out['BASC']['All'][0,0][0,0][0])\n",
    "y=np.squeeze(out['BASC']['All'][0,0][0,0][1])\n",
    "\n",
    "preds = calculate(np.squeeze(out['BASC']['All'][0,0][0,0][0]),np.squeeze(out['BASC']['All'][0,0][0,0][1]))\n",
    "\n",
    "\n",
    "textbox = widgets.Dropdown(\n",
    "    description='<b style=\"font-size: 15px\">Atlas:   </b>',\n",
    "    value='BASC',\n",
    "    options=['BASC', 'AAL', 'CRAD', 'MSDL'],\n",
    "    layout={'font-size': '50px'}\n",
    ")\n",
    "\n",
    "textbox.add_class(\"mytext\")\n",
    "\n",
    "slider = widgets.SelectionSlider(\n",
    "    options=['All', 'CSF', 'WM', 'Global', 'Motion'],\n",
    "    value='All',\n",
    "    description='<b style=\"font-size: 15px\">Confounds</b>',\n",
    "    disabled=False,\n",
    "    continuous_update=False,\n",
    "    orientation='horizontal',\n",
    "    readout=True,\n",
    "    layout={'width': '100%', 'font-size': '50px'}\n",
    ")\n",
    "\n",
    "p1 = graph_objects.Scatter(**{\n",
    "    'mode' : 'markers',\n",
    "    'x' : x,\n",
    "    'y' : y,\n",
    "    'name' : 'Points'\n",
    "})\n",
    "p2 = graph_objects.Scatter({\n",
    "    'mode' : 'lines',\n",
    "    'x' : preds['displ'],\n",
    "    'y' : preds['Predicted Value'],\n",
    "    'name' : 'Regression',\n",
    "})\n",
    "#Add a lower bound for the confidence interval, white\n",
    "p3 = graph_objects.Scatter({\n",
    "    'mode' : 'lines',\n",
    "    'x' : preds['displ'],\n",
    "    'y' : preds['Mean ci 95% low'],\n",
    "    'name' : 'Lower 95% CI',\n",
    "    'showlegend' : False,\n",
    "    'line' : {\n",
    "        'color' : 'white'\n",
    "    }\n",
    "})\n",
    "# Upper bound for the confidence band, transparent but with fill\n",
    "p4 = graph_objects.Scatter( {\n",
    "    'type' : 'scatter',\n",
    "    'mode' : 'lines',\n",
    "    'x' : preds['displ'],\n",
    "    'y' : preds['Mean ci 95% upp'],\n",
    "    'name' : '95% CI',\n",
    "    'fill' : 'tonexty',\n",
    "    'line' : {\n",
    "        'color' : 'white'\n",
    "    },\n",
    "    'fillcolor' : 'rgba(255, 127, 14, 0.3)'\n",
    "})\n",
    "g = graph_objects.FigureWidget(data=[p1, p2, p3, p4],\n",
    "                    layout={\n",
    "                        'title' : {\n",
    "                            'text': \"Age prediction on test set for each atlas\",\n",
    "                            'y': 0.9,\n",
    "                            'x': 0.5,\n",
    "                            'xanchor': 'center',\n",
    "                            'yanchor': 'top'\n",
    "                        },\n",
    "                        'xaxis' : {\n",
    "                            'title' : 'Predicted Log Age'\n",
    "                        },\n",
    "                        'yaxis' : {\n",
    "                            'title' : 'Log Age'\n",
    "                        }\n",
    "                    })\n",
    "def response(change):\n",
    "    x = np.squeeze(out[textbox.value][slider.value][0,0][0,0][0])\n",
    "    y = np.squeeze(out[textbox.value][slider.value][0,0][0,0][1])\n",
    "    preds = calculate(x,y)\n",
    "    g.data[0].x = x\n",
    "    g.data[0].y = y\n",
    "    g.data[1].x = preds['displ']\n",
    "    g.data[1].y = preds['Predicted Value']\n",
    "    g.data[2].x = preds['displ']\n",
    "    g.data[2].y = preds['Mean ci 95% low']\n",
    "    g.data[3].x = preds['displ']\n",
    "    g.data[3].y = preds['Mean ci 95% upp']\n",
    "        \n",
    "textbox.observe(response, names=\"value\")\n",
    "slider.observe(response, names=\"value\")\n",
    "container = widgets.VBox([textbox,\n",
    "              g])\n",
    "#widgets.VBox([container, slider])"
   ]
  },
  {
   "cell_type": "code",
   "execution_count": 2,
   "metadata": {
    "slideshow": {
     "slide_type": "slide"
    }
   },
   "outputs": [
    {
     "data": {
      "application/vnd.jupyter.widget-view+json": {
       "model_id": "7b9f4c266a554cef9e68ad95f68e5869",
       "version_major": 2,
       "version_minor": 0
      },
      "text/plain": [
       "VBox(children=(VBox(children=(Dropdown(_dom_classes=('mytext',), description='<b style=\"font-size: 15px\">Atlas…"
      ]
     },
     "metadata": {},
     "output_type": "display_data"
    }
   ],
   "source": [
    "widgets.VBox([textbox,\n",
    "              g])\n",
    "widgets.VBox([container, slider])"
   ]
  },
  {
   "cell_type": "markdown",
   "metadata": {
    "slideshow": {
     "slide_type": "slide"
    }
   },
   "source": [
    "# Results\n",
    "\n",
    "<center><img src=\"results_datalad.png\" style=\"margin-bottom: 500px; width: 150%;\" /></center>"
   ]
  },
  {
   "cell_type": "markdown",
   "metadata": {
    "slideshow": {
     "slide_type": "slide"
    }
   },
   "source": [
    "# Takeaways\n",
    "\n",
    "* REPRODUCIBILITY IS POSSIBLE!!!\n",
    "* DataLad keeps track of data manipulation\n",
    "* TIER structure for organization\n",
    "* Share code using GitHub\n",
    "* Nilearn for machine learning"
   ]
  }
 ],
 "metadata": {
  "celltoolbar": "Slideshow",
  "kernelspec": {
   "display_name": "Python 3",
   "language": "python",
   "name": "python3"
  },
  "language_info": {
   "codemirror_mode": {
    "name": "ipython",
    "version": 3
   },
   "file_extension": ".py",
   "mimetype": "text/x-python",
   "name": "python",
   "nbconvert_exporter": "python",
   "pygments_lexer": "ipython3",
   "version": "3.7.6"
  },
  "latex_envs": {
   "LaTeX_envs_menu_present": true,
   "autoclose": false,
   "autocomplete": true,
   "bibliofile": "biblio.bib",
   "cite_by": "apalike",
   "current_citInitial": 1,
   "eqLabelWithNumbers": true,
   "eqNumInitial": 1,
   "hotkeys": {
    "equation": "Ctrl-E",
    "itemize": "Ctrl-I"
   },
   "labels_anchors": false,
   "latex_user_defs": false,
   "report_style_numbering": false,
   "user_envs_cfg": false
  },
  "rise": {
   "theme": "sky"
  },
  "varInspector": {
   "cols": {
    "lenName": 16,
    "lenType": 16,
    "lenVar": 40
   },
   "kernels_config": {
    "python": {
     "delete_cmd_postfix": "",
     "delete_cmd_prefix": "del ",
     "library": "var_list.py",
     "varRefreshCmd": "print(var_dic_list())"
    },
    "r": {
     "delete_cmd_postfix": ") ",
     "delete_cmd_prefix": "rm(",
     "library": "var_list.r",
     "varRefreshCmd": "cat(var_dic_list()) "
    }
   },
   "types_to_exclude": [
    "module",
    "function",
    "builtin_function_or_method",
    "instance",
    "_Feature"
   ],
   "window_display": false
  },
  "widgets": {
   "application/vnd.jupyter.widget-state+json": {
    "state": {
     "0388e1458d91496199dc58a5a1bb6a67": {
      "model_module": "@jupyter-widgets/controls",
      "model_module_version": "1.5.0",
      "model_name": "SelectionSliderModel",
      "state": {
       "_options_labels": [
        "All",
        "CSF",
        "WM",
        "Global",
        "Motion"
       ],
       "continuous_update": false,
       "description": "<b style=\"font-size: 15px\">Confounds</b>",
       "index": 0,
       "layout": "IPY_MODEL_539f7ca3f3954e3f8311466079038d21",
       "style": "IPY_MODEL_d7e2a0995f7542f48a58bca82bb63d00"
      }
     },
     "178bec074e404519a0c4257a4134a753": {
      "model_module": "@jupyter-widgets/controls",
      "model_module_version": "1.5.0",
      "model_name": "VBoxModel",
      "state": {
       "children": [
        "IPY_MODEL_93ab2e3915ed440c847bc74878ace349",
        "IPY_MODEL_37dd97e5cad04475b4c4f7b7c3595bb3"
       ],
       "layout": "IPY_MODEL_5c3ecf6aa20e4d6285f9d16e3d56e375"
      }
     },
     "37dd97e5cad04475b4c4f7b7c3595bb3": {
      "buffers": [
       {
        "data": "qApD58IIMUDSkS1gcPgiQHPF6wfhjjZAgA0inzhrJ0Ae8oqmRq8hQPLit8bcZyhAhIsMiPcYJ0DUlaa2S74jQFAE8KehWNa/6vvuXEFnIkBsQc0Dyu4lQFxHu8xfTBtAdHTwhLKkDkAG7erFq44hQLiviqV0LCVAiHeQLUS9IECf8xXZk5I6QHBMztkCuiVAAtA+W1ZgIUCuafV5RicnQCi6V7OZCTRA+eDa2UkHE0AuSyv6swQmQGLhHZQduwjAiHDjQ3OIGED7+QdnjX83QI/Dl1Y47zZA1tl615lzJEALWZ1/HF0TQJmeDN+3pxlAX4PmnF2qGkArf8rTwWgSQJnaBbpyfDRAsnpyeAZiIUCIie7PHb4iQEq4BMOEKSpA/8UIahWWGkCJNCa9P9kWQD2zpcHgsBtA",
        "encoding": "base64",
        "path": [
         "_data",
         0,
         "x",
         "value"
        ]
       },
       {
        "data": "AAAAAAAAN0DhehSuR+EjQAAAAAAAADdAUrgehetRIUD2KFyPwvUXQLgehetRuEBAw/UoXI/CJEAzMzMzMzMWQAq4sgcE5RFAuB6F61G4HUA9CtejcD0XQM3MzMzMTCBAexSuR+F6FECuR+F6FC4jQK5H4XoULiFAnh5xTkDtDkAAAAAAAIBAQIXrUbgehSFA16NwPQrXFUCkcD0K16MfQAAAAAAAAD5A9ihcj8L1F0D2KFyPwvUiQI5TfJXfdBFA1ogmcdJzD0AAAAAAAAA1QAAAAAAAADVA16NwPQrXHkDXo3A9CtcVQNaIJnHScw9AFmkurCUlDEA9CtejcD0WQAAAAAAAADZAhetRuB6FHECXCy+d41kTQI/C9ShcjyVAhetRuB6FHECkcD0K16MeQClcj8L1KBZA",
        "encoding": "base64",
        "path": [
         "_data",
         0,
         "y",
         "value"
        ]
       },
       {
        "data": "YuEdlB27CMBQBPCnoVjWv3R08ISypA5AK3/K08FoEkD54NrZSQcTQAtZnX8cXRNAiTQmvT/ZFkCIcONDc4gYQJmeDN+3pxlA/8UIahWWGkBfg+acXaoaQFxHu8xfTBtAPbOlweCwG0CId5AtRL0gQALQPltWYCFAsnpyeAZiIUAG7erFq44hQB7yiqZGryFA6vvuXEFnIkCIie7PHb4iQNKRLWBw+CJA1JWmtku+I0DW2XrXmXMkQLiviqV0LCVAcEzO2QK6JUBsQc0Dyu4lQC5LK/qzBCZAhIsMiPcYJ0CuafV5RicnQIANIp84aydA8uK3xtxnKEBKuATDhCkqQKgKQ+fCCDFAKLpXs5kJNECZ2gW6cnw0QHPF6wfhjjZAj8OXVjjvNkD7+QdnjX83QJ/zFdmTkjpA",
        "encoding": "base64",
        "path": [
         "_data",
         1,
         "x",
         "value"
        ]
       },
       {
        "data": "7luk/NHBDcAKcM5awwrqvxiX9KrS6wxAInl2OXu7EUD0YfHHeGMSQBp+t1pqvhJAHsZBz8hvFkDNdTfYtjgYQJR7pmgfaRlAbKPa7rVlGkBlRXbvM3saQH2Sw8TgJhtAnlkT5mCRG0Aa1xU7uNkgQGME2kiFhiFAmT+BLk+IIUAdjipwnrchQE8ullkr2iFAmY/kTiCdIkBYcviKK/kiQFUAbvj4NiNAj+drh6IIJEDbQkkOwsgkQM6IOnqkjCVAfz5u6aQiJkB0w5w/klomQE9B+fDKcSZAY4lAXoqWJ0Dq69/es6UnQF5c9N+z7SdA1NwuEmv5KEAp0dJ159UqQIWK5F5WmzFAE4rBBQ3KNED1OutSwEM1QDE0H9nUdTdATJ+evuvbN0A+xjt03XQ4QNhYHovZtjtA",
        "encoding": "base64",
        "path": [
         "_data",
         1,
         "y",
         "value"
        ]
       },
       {
        "data": "YuEdlB27CMBQBPCnoVjWv3R08ISypA5AK3/K08FoEkD54NrZSQcTQAtZnX8cXRNAiTQmvT/ZFkCIcONDc4gYQJmeDN+3pxlA/8UIahWWGkBfg+acXaoaQFxHu8xfTBtAPbOlweCwG0CId5AtRL0gQALQPltWYCFAsnpyeAZiIUAG7erFq44hQB7yiqZGryFA6vvuXEFnIkCIie7PHb4iQNKRLWBw+CJA1JWmtku+I0DW2XrXmXMkQLiviqV0LCVAcEzO2QK6JUBsQc0Dyu4lQC5LK/qzBCZAhIsMiPcYJ0CuafV5RicnQIANIp84aydA8uK3xtxnKEBKuATDhCkqQKgKQ+fCCDFAKLpXs5kJNECZ2gW6cnw0QHPF6wfhjjZAj8OXVjjvNkD7+QdnjX83QJ/zFdmTkjpA",
        "encoding": "base64",
        "path": [
         "_data",
         2,
         "x",
         "value"
        ]
       },
       {
        "data": "9BE+A3YMHsAAasqy4+oPwC6g+Kb9q/Q/N/UUTNv6AUD6iL+KIIEDQBLvBRcSVARATBoSYazVDEAHT5qbkXMQQBDj1Ew8zBFAdW1cscToEkDDmutG6gATQAhQQEdtwRNAbwBewIQ4FEBWO9iK6/IaQJoVBEy8ZBxApXwxV4toHEAimknPI80cQP65lGttFh1AHg8vnhixHkDS4Ho7QXEfQPBEEBal8R9A2GUCUqzQIECsHaavz5MhQElno+UfWCJAMOQeRKXsIkC2Wl7WniMjQMySfQliOiNAj3MAry1WJEAvvtgSuGQkQBaHhxiPqSRA2s3yzY+mJUAT08F89l0nQPZczs0vly5AcNymfWrhMUDe+Ex7pEIyQBOhG+0HADRA+NhihmVQNECsAKn8i8g0QC7MUt+QUzdA",
        "encoding": "base64",
        "path": [
         "_data",
         2,
         "y",
         "value"
        ]
       },
       {
        "data": "YuEdlB27CMBQBPCnoVjWv3R08ISypA5AK3/K08FoEkD54NrZSQcTQAtZnX8cXRNAiTQmvT/ZFkCIcONDc4gYQJmeDN+3pxlA/8UIahWWGkBfg+acXaoaQFxHu8xfTBtAPbOlweCwG0CId5AtRL0gQALQPltWYCFAsnpyeAZiIUAG7erFq44hQB7yiqZGryFA6vvuXEFnIkCIie7PHb4iQNKRLWBw+CJA1JWmtku+I0DW2XrXmXMkQLiviqV0LCVAcEzO2QK6JUBsQc0Dyu4lQC5LK/qzBCZAhIsMiPcYJ0CuafV5RicnQIANIp84aydA8uK3xtxnKEBKuATDhCkqQKgKQ+fCCDFAKLpXs5kJNECZ2gW6cnw0QHPF6wfhjjZAj8OXVjjvNkD7+QdnjX83QJ/zFdmTkjpA",
        "encoding": "base64",
        "path": [
         "_data",
         3,
         "x",
         "value"
        ]
       },
       {
        "data": "oIFtpgGpsj/6MWMFguUCQAxvNkHTwBdAqHfizIh5GkBr/4JKYQYbQKsE7KnLUhtAFn/6bbt0HkCTnNQU3P0fQAwKPEIBgyBAsmwsllPxIEADeADMvvogQHlqIyEqRiFAZ1nkhR51IUCJkL+w+jkkQPn9sWus2iRA38BpsVjcJEApT7D4qgglQJ//Yf0fKSVAo5exTrThJUBHdDN4tjkmQDLe02UfdSZARmnVvJhAJ0AKaOxstP0nQFOq0Q4pwShAzpi9jqRYKUAyLNuohZEpQNLvdNgzqSlAN5+ADefWKkClGeeqr+YqQKYxYafYMStAzutqVkZMLEA/z+Nu2E0uQI/m4dYU6zNAtjfcja+yN0AMfYkq3EQ4QE/HIsWh6zpAoGXa9nFnO0DQi87rLiE8QMHydBsRDUBA",
        "encoding": "base64",
        "path": [
         "_data",
         3,
         "y",
         "value"
        ]
       }
      ],
      "model_module": "plotlywidget",
      "model_module_version": "^1.1.0",
      "model_name": "FigureModel",
      "state": {
       "_config": {
        "plotlyServerURL": "https://plot.ly"
       },
       "_data": [
        {
         "mode": "markers",
         "name": "Points",
         "type": "scatter",
         "uid": "82016398-578e-4f5e-9ee8-93e29fa67b00",
         "x": {
          "dtype": "float64",
          "shape": [
           39
          ]
         },
         "y": {
          "dtype": "float64",
          "shape": [
           39
          ]
         }
        },
        {
         "mode": "lines",
         "name": "Regression",
         "type": "scatter",
         "uid": "6dfbc577-16cf-47cb-bda6-e7640f89de58",
         "x": {
          "dtype": "float64",
          "shape": [
           39
          ]
         },
         "y": {
          "dtype": "float64",
          "shape": [
           39
          ]
         }
        },
        {
         "line": {
          "color": "white"
         },
         "mode": "lines",
         "name": "Lower 95% CI",
         "showlegend": false,
         "type": "scatter",
         "uid": "94f43b72-8687-42e3-a74a-62cea93ca61b",
         "x": {
          "dtype": "float64",
          "shape": [
           39
          ]
         },
         "y": {
          "dtype": "float64",
          "shape": [
           39
          ]
         }
        },
        {
         "fill": "tonexty",
         "fillcolor": "rgba(255, 127, 14, 0.3)",
         "line": {
          "color": "white"
         },
         "mode": "lines",
         "name": "95% CI",
         "type": "scatter",
         "uid": "f8750c03-2d75-413e-8195-23506025893c",
         "x": {
          "dtype": "float64",
          "shape": [
           39
          ]
         },
         "y": {
          "dtype": "float64",
          "shape": [
           39
          ]
         }
        }
       ],
       "_js2py_restyle": {},
       "_js2py_update": {},
       "_last_layout_edit_id": 29,
       "_last_trace_edit_id": 28,
       "_layout": {
        "autosize": true,
        "template": {
         "data": {
          "bar": [
           {
            "error_x": {
             "color": "#2a3f5f"
            },
            "error_y": {
             "color": "#2a3f5f"
            },
            "marker": {
             "line": {
              "color": "#E5ECF6",
              "width": 0.5
             }
            },
            "type": "bar"
           }
          ],
          "barpolar": [
           {
            "marker": {
             "line": {
              "color": "#E5ECF6",
              "width": 0.5
             }
            },
            "type": "barpolar"
           }
          ],
          "carpet": [
           {
            "aaxis": {
             "endlinecolor": "#2a3f5f",
             "gridcolor": "white",
             "linecolor": "white",
             "minorgridcolor": "white",
             "startlinecolor": "#2a3f5f"
            },
            "baxis": {
             "endlinecolor": "#2a3f5f",
             "gridcolor": "white",
             "linecolor": "white",
             "minorgridcolor": "white",
             "startlinecolor": "#2a3f5f"
            },
            "type": "carpet"
           }
          ],
          "choropleth": [
           {
            "colorbar": {
             "outlinewidth": 0,
             "ticks": ""
            },
            "type": "choropleth"
           }
          ],
          "contour": [
           {
            "colorbar": {
             "outlinewidth": 0,
             "ticks": ""
            },
            "colorscale": [
             [
              0,
              "#0d0887"
             ],
             [
              0.1111111111111111,
              "#46039f"
             ],
             [
              0.2222222222222222,
              "#7201a8"
             ],
             [
              0.3333333333333333,
              "#9c179e"
             ],
             [
              0.4444444444444444,
              "#bd3786"
             ],
             [
              0.5555555555555556,
              "#d8576b"
             ],
             [
              0.6666666666666666,
              "#ed7953"
             ],
             [
              0.7777777777777778,
              "#fb9f3a"
             ],
             [
              0.8888888888888888,
              "#fdca26"
             ],
             [
              1,
              "#f0f921"
             ]
            ],
            "type": "contour"
           }
          ],
          "contourcarpet": [
           {
            "colorbar": {
             "outlinewidth": 0,
             "ticks": ""
            },
            "type": "contourcarpet"
           }
          ],
          "heatmap": [
           {
            "colorbar": {
             "outlinewidth": 0,
             "ticks": ""
            },
            "colorscale": [
             [
              0,
              "#0d0887"
             ],
             [
              0.1111111111111111,
              "#46039f"
             ],
             [
              0.2222222222222222,
              "#7201a8"
             ],
             [
              0.3333333333333333,
              "#9c179e"
             ],
             [
              0.4444444444444444,
              "#bd3786"
             ],
             [
              0.5555555555555556,
              "#d8576b"
             ],
             [
              0.6666666666666666,
              "#ed7953"
             ],
             [
              0.7777777777777778,
              "#fb9f3a"
             ],
             [
              0.8888888888888888,
              "#fdca26"
             ],
             [
              1,
              "#f0f921"
             ]
            ],
            "type": "heatmap"
           }
          ],
          "heatmapgl": [
           {
            "colorbar": {
             "outlinewidth": 0,
             "ticks": ""
            },
            "colorscale": [
             [
              0,
              "#0d0887"
             ],
             [
              0.1111111111111111,
              "#46039f"
             ],
             [
              0.2222222222222222,
              "#7201a8"
             ],
             [
              0.3333333333333333,
              "#9c179e"
             ],
             [
              0.4444444444444444,
              "#bd3786"
             ],
             [
              0.5555555555555556,
              "#d8576b"
             ],
             [
              0.6666666666666666,
              "#ed7953"
             ],
             [
              0.7777777777777778,
              "#fb9f3a"
             ],
             [
              0.8888888888888888,
              "#fdca26"
             ],
             [
              1,
              "#f0f921"
             ]
            ],
            "type": "heatmapgl"
           }
          ],
          "histogram": [
           {
            "marker": {
             "colorbar": {
              "outlinewidth": 0,
              "ticks": ""
             }
            },
            "type": "histogram"
           }
          ],
          "histogram2d": [
           {
            "colorbar": {
             "outlinewidth": 0,
             "ticks": ""
            },
            "colorscale": [
             [
              0,
              "#0d0887"
             ],
             [
              0.1111111111111111,
              "#46039f"
             ],
             [
              0.2222222222222222,
              "#7201a8"
             ],
             [
              0.3333333333333333,
              "#9c179e"
             ],
             [
              0.4444444444444444,
              "#bd3786"
             ],
             [
              0.5555555555555556,
              "#d8576b"
             ],
             [
              0.6666666666666666,
              "#ed7953"
             ],
             [
              0.7777777777777778,
              "#fb9f3a"
             ],
             [
              0.8888888888888888,
              "#fdca26"
             ],
             [
              1,
              "#f0f921"
             ]
            ],
            "type": "histogram2d"
           }
          ],
          "histogram2dcontour": [
           {
            "colorbar": {
             "outlinewidth": 0,
             "ticks": ""
            },
            "colorscale": [
             [
              0,
              "#0d0887"
             ],
             [
              0.1111111111111111,
              "#46039f"
             ],
             [
              0.2222222222222222,
              "#7201a8"
             ],
             [
              0.3333333333333333,
              "#9c179e"
             ],
             [
              0.4444444444444444,
              "#bd3786"
             ],
             [
              0.5555555555555556,
              "#d8576b"
             ],
             [
              0.6666666666666666,
              "#ed7953"
             ],
             [
              0.7777777777777778,
              "#fb9f3a"
             ],
             [
              0.8888888888888888,
              "#fdca26"
             ],
             [
              1,
              "#f0f921"
             ]
            ],
            "type": "histogram2dcontour"
           }
          ],
          "mesh3d": [
           {
            "colorbar": {
             "outlinewidth": 0,
             "ticks": ""
            },
            "type": "mesh3d"
           }
          ],
          "parcoords": [
           {
            "line": {
             "colorbar": {
              "outlinewidth": 0,
              "ticks": ""
             }
            },
            "type": "parcoords"
           }
          ],
          "scatter": [
           {
            "marker": {
             "colorbar": {
              "outlinewidth": 0,
              "ticks": ""
             }
            },
            "type": "scatter"
           }
          ],
          "scatter3d": [
           {
            "line": {
             "colorbar": {
              "outlinewidth": 0,
              "ticks": ""
             }
            },
            "marker": {
             "colorbar": {
              "outlinewidth": 0,
              "ticks": ""
             }
            },
            "type": "scatter3d"
           }
          ],
          "scattercarpet": [
           {
            "marker": {
             "colorbar": {
              "outlinewidth": 0,
              "ticks": ""
             }
            },
            "type": "scattercarpet"
           }
          ],
          "scattergeo": [
           {
            "marker": {
             "colorbar": {
              "outlinewidth": 0,
              "ticks": ""
             }
            },
            "type": "scattergeo"
           }
          ],
          "scattergl": [
           {
            "marker": {
             "colorbar": {
              "outlinewidth": 0,
              "ticks": ""
             }
            },
            "type": "scattergl"
           }
          ],
          "scattermapbox": [
           {
            "marker": {
             "colorbar": {
              "outlinewidth": 0,
              "ticks": ""
             }
            },
            "type": "scattermapbox"
           }
          ],
          "scatterpolar": [
           {
            "marker": {
             "colorbar": {
              "outlinewidth": 0,
              "ticks": ""
             }
            },
            "type": "scatterpolar"
           }
          ],
          "scatterpolargl": [
           {
            "marker": {
             "colorbar": {
              "outlinewidth": 0,
              "ticks": ""
             }
            },
            "type": "scatterpolargl"
           }
          ],
          "scatterternary": [
           {
            "marker": {
             "colorbar": {
              "outlinewidth": 0,
              "ticks": ""
             }
            },
            "type": "scatterternary"
           }
          ],
          "surface": [
           {
            "colorbar": {
             "outlinewidth": 0,
             "ticks": ""
            },
            "colorscale": [
             [
              0,
              "#0d0887"
             ],
             [
              0.1111111111111111,
              "#46039f"
             ],
             [
              0.2222222222222222,
              "#7201a8"
             ],
             [
              0.3333333333333333,
              "#9c179e"
             ],
             [
              0.4444444444444444,
              "#bd3786"
             ],
             [
              0.5555555555555556,
              "#d8576b"
             ],
             [
              0.6666666666666666,
              "#ed7953"
             ],
             [
              0.7777777777777778,
              "#fb9f3a"
             ],
             [
              0.8888888888888888,
              "#fdca26"
             ],
             [
              1,
              "#f0f921"
             ]
            ],
            "type": "surface"
           }
          ],
          "table": [
           {
            "cells": {
             "fill": {
              "color": "#EBF0F8"
             },
             "line": {
              "color": "white"
             }
            },
            "header": {
             "fill": {
              "color": "#C8D4E3"
             },
             "line": {
              "color": "white"
             }
            },
            "type": "table"
           }
          ]
         },
         "layout": {
          "annotationdefaults": {
           "arrowcolor": "#2a3f5f",
           "arrowhead": 0,
           "arrowwidth": 1
          },
          "colorscale": {
           "diverging": [
            [
             0,
             "#8e0152"
            ],
            [
             0.1,
             "#c51b7d"
            ],
            [
             0.2,
             "#de77ae"
            ],
            [
             0.3,
             "#f1b6da"
            ],
            [
             0.4,
             "#fde0ef"
            ],
            [
             0.5,
             "#f7f7f7"
            ],
            [
             0.6,
             "#e6f5d0"
            ],
            [
             0.7,
             "#b8e186"
            ],
            [
             0.8,
             "#7fbc41"
            ],
            [
             0.9,
             "#4d9221"
            ],
            [
             1,
             "#276419"
            ]
           ],
           "sequential": [
            [
             0,
             "#0d0887"
            ],
            [
             0.1111111111111111,
             "#46039f"
            ],
            [
             0.2222222222222222,
             "#7201a8"
            ],
            [
             0.3333333333333333,
             "#9c179e"
            ],
            [
             0.4444444444444444,
             "#bd3786"
            ],
            [
             0.5555555555555556,
             "#d8576b"
            ],
            [
             0.6666666666666666,
             "#ed7953"
            ],
            [
             0.7777777777777778,
             "#fb9f3a"
            ],
            [
             0.8888888888888888,
             "#fdca26"
            ],
            [
             1,
             "#f0f921"
            ]
           ],
           "sequentialminus": [
            [
             0,
             "#0d0887"
            ],
            [
             0.1111111111111111,
             "#46039f"
            ],
            [
             0.2222222222222222,
             "#7201a8"
            ],
            [
             0.3333333333333333,
             "#9c179e"
            ],
            [
             0.4444444444444444,
             "#bd3786"
            ],
            [
             0.5555555555555556,
             "#d8576b"
            ],
            [
             0.6666666666666666,
             "#ed7953"
            ],
            [
             0.7777777777777778,
             "#fb9f3a"
            ],
            [
             0.8888888888888888,
             "#fdca26"
            ],
            [
             1,
             "#f0f921"
            ]
           ]
          },
          "colorway": [
           "#636efa",
           "#EF553B",
           "#00cc96",
           "#ab63fa",
           "#FFA15A",
           "#19d3f3",
           "#FF6692",
           "#B6E880",
           "#FF97FF",
           "#FECB52"
          ],
          "font": {
           "color": "#2a3f5f"
          },
          "geo": {
           "bgcolor": "white",
           "lakecolor": "white",
           "landcolor": "#E5ECF6",
           "showlakes": true,
           "showland": true,
           "subunitcolor": "white"
          },
          "hoverlabel": {
           "align": "left"
          },
          "hovermode": "closest",
          "mapbox": {
           "style": "light"
          },
          "paper_bgcolor": "white",
          "plot_bgcolor": "#E5ECF6",
          "polar": {
           "angularaxis": {
            "gridcolor": "white",
            "linecolor": "white",
            "ticks": ""
           },
           "bgcolor": "#E5ECF6",
           "radialaxis": {
            "gridcolor": "white",
            "linecolor": "white",
            "ticks": ""
           }
          },
          "scene": {
           "xaxis": {
            "backgroundcolor": "#E5ECF6",
            "gridcolor": "white",
            "gridwidth": 2,
            "linecolor": "white",
            "showbackground": true,
            "ticks": "",
            "zerolinecolor": "white"
           },
           "yaxis": {
            "backgroundcolor": "#E5ECF6",
            "gridcolor": "white",
            "gridwidth": 2,
            "linecolor": "white",
            "showbackground": true,
            "ticks": "",
            "zerolinecolor": "white"
           },
           "zaxis": {
            "backgroundcolor": "#E5ECF6",
            "gridcolor": "white",
            "gridwidth": 2,
            "linecolor": "white",
            "showbackground": true,
            "ticks": "",
            "zerolinecolor": "white"
           }
          },
          "shapedefaults": {
           "line": {
            "color": "#2a3f5f"
           }
          },
          "ternary": {
           "aaxis": {
            "gridcolor": "white",
            "linecolor": "white",
            "ticks": ""
           },
           "baxis": {
            "gridcolor": "white",
            "linecolor": "white",
            "ticks": ""
           },
           "bgcolor": "#E5ECF6",
           "caxis": {
            "gridcolor": "white",
            "linecolor": "white",
            "ticks": ""
           }
          },
          "title": {
           "x": 0.05
          },
          "xaxis": {
           "automargin": true,
           "gridcolor": "white",
           "linecolor": "white",
           "ticks": "",
           "zerolinecolor": "white",
           "zerolinewidth": 2
          },
          "yaxis": {
           "automargin": true,
           "gridcolor": "white",
           "linecolor": "white",
           "ticks": "",
           "zerolinecolor": "white",
           "zerolinewidth": 2
          }
         }
        },
        "title": {
         "text": "Age prediction on test set for each atlas",
         "x": 0.5,
         "xanchor": "center",
         "y": 0.9,
         "yanchor": "top"
        },
        "xaxis": {
         "title": {
          "text": "Predicted Log Age"
         }
        },
        "yaxis": {
         "title": {
          "text": "Log Age"
         }
        }
       },
       "_py2js_addTraces": {},
       "_py2js_animate": {},
       "_py2js_deleteTraces": {},
       "_py2js_moveTraces": {},
       "_py2js_removeLayoutProps": {},
       "_py2js_removeTraceProps": {},
       "_py2js_update": {},
       "_view_count": 1
      }
     },
     "4ac69a4247fd415a8d0a6e2ef972bae5": {
      "model_module": "@jupyter-widgets/base",
      "model_module_version": "1.2.0",
      "model_name": "LayoutModel",
      "state": {}
     },
     "539f7ca3f3954e3f8311466079038d21": {
      "model_module": "@jupyter-widgets/base",
      "model_module_version": "1.2.0",
      "model_name": "LayoutModel",
      "state": {
       "width": "100%"
      }
     },
     "5c3ecf6aa20e4d6285f9d16e3d56e375": {
      "model_module": "@jupyter-widgets/base",
      "model_module_version": "1.2.0",
      "model_name": "LayoutModel",
      "state": {}
     },
     "64feba1cdaf94e74a9b6192f7b699522": {
      "model_module": "@jupyter-widgets/controls",
      "model_module_version": "1.5.0",
      "model_name": "VBoxModel",
      "state": {
       "children": [
        "IPY_MODEL_93ab2e3915ed440c847bc74878ace349",
        "IPY_MODEL_37dd97e5cad04475b4c4f7b7c3595bb3"
       ],
       "layout": "IPY_MODEL_f790f1cec144407facdd32eacba895c8"
      }
     },
     "70ba5537657b450baa01c107305114b8": {
      "model_module": "@jupyter-widgets/base",
      "model_module_version": "1.2.0",
      "model_name": "LayoutModel",
      "state": {}
     },
     "7b9f4c266a554cef9e68ad95f68e5869": {
      "model_module": "@jupyter-widgets/controls",
      "model_module_version": "1.5.0",
      "model_name": "VBoxModel",
      "state": {
       "children": [
        "IPY_MODEL_178bec074e404519a0c4257a4134a753",
        "IPY_MODEL_0388e1458d91496199dc58a5a1bb6a67"
       ],
       "layout": "IPY_MODEL_70ba5537657b450baa01c107305114b8"
      }
     },
     "93ab2e3915ed440c847bc74878ace349": {
      "model_module": "@jupyter-widgets/controls",
      "model_module_version": "1.5.0",
      "model_name": "DropdownModel",
      "state": {
       "_dom_classes": [
        "mytext"
       ],
       "_options_labels": [
        "BASC",
        "AAL",
        "CRAD",
        "MSDL"
       ],
       "description": "<b style=\"font-size: 15px\">Atlas:   </b>",
       "index": 0,
       "layout": "IPY_MODEL_4ac69a4247fd415a8d0a6e2ef972bae5",
       "style": "IPY_MODEL_c4d7ac6589db4fe28c6f9281547336c5"
      }
     },
     "c4d7ac6589db4fe28c6f9281547336c5": {
      "model_module": "@jupyter-widgets/controls",
      "model_module_version": "1.5.0",
      "model_name": "DescriptionStyleModel",
      "state": {
       "description_width": ""
      }
     },
     "d7e2a0995f7542f48a58bca82bb63d00": {
      "model_module": "@jupyter-widgets/controls",
      "model_module_version": "1.5.0",
      "model_name": "DescriptionStyleModel",
      "state": {
       "description_width": ""
      }
     },
     "f790f1cec144407facdd32eacba895c8": {
      "model_module": "@jupyter-widgets/base",
      "model_module_version": "1.2.0",
      "model_name": "LayoutModel",
      "state": {}
     }
    },
    "version_major": 2,
    "version_minor": 0
   }
  }
 },
 "nbformat": 4,
 "nbformat_minor": 4
}
